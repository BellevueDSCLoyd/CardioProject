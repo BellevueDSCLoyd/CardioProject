{
 "cells": [
  {
   "cell_type": "markdown",
   "metadata": {},
   "source": [
    "<h1><center>Sam Loyd</center></h1>\n",
    "<h1><center>DSC 530</center></h1>\n",
    "<h1><center>Kaggle Cardiovascular Data</center></h1>\n",
    "<h1><center>November 2019</center></h1>\n"
   ]
  },
  {
   "cell_type": "markdown",
   "metadata": {},
   "source": [
    "Hypothesis Questons:\n",
    "\n",
    "Does being overweight as measured by the standard BMI formula using weight and height, tend to increase the likelihood of having a cardiovascular disease?  \n",
    "How does gender impact the answer to the question above if at all? "
   ]
  },
  {
   "cell_type": "code",
   "execution_count": 1,
   "metadata": {},
   "outputs": [],
   "source": [
    "from __future__ import print_function, division\n",
    "import numpy as np \n",
    "import pandas as pd \n",
    "import seaborn as sns\n",
    "from matplotlib import pyplot as plt\n",
    "\n",
    "import os\n",
    "plt.style.use('seaborn-whitegrid')\n",
    "from scipy import stats\n",
    "# from scipy.stats import skew, kurtosis, kurtosistest, stats\n",
    "from scipy.stats import spearmanr\n",
    "from scipy.stats import chi2_contingency\n",
    "\n",
    "from matplotlib.collections import EllipseCollection\n",
    "\n",
    "import statsmodels.formula.api as smf\n",
    "from sklearn.model_selection import train_test_split\n",
    "from sklearn.metrics import confusion_matrix\n",
    "\n",
    "from sklearn.linear_model import LogisticRegression\n",
    "\n",
    "from sklearn.metrics import classification_report\n",
    "from sklearn.metrics import accuracy_score\n",
    "from sklearn.metrics import roc_auc_score\n",
    "from sklearn.metrics import roc_curve\n",
    "\n",
    "%matplotlib inline\n",
    "\n",
    "import thinkstats2\n",
    "import thinkplot\n",
    "\n",
    "dfcardio = pd.read_csv(\"cardio_train.csv\",sep=\";\")"
   ]
  },
  {
   "cell_type": "code",
   "execution_count": 2,
   "metadata": {},
   "outputs": [
    {
     "data": {
      "text/html": [
       "<div>\n",
       "<style scoped>\n",
       "    .dataframe tbody tr th:only-of-type {\n",
       "        vertical-align: middle;\n",
       "    }\n",
       "\n",
       "    .dataframe tbody tr th {\n",
       "        vertical-align: top;\n",
       "    }\n",
       "\n",
       "    .dataframe thead th {\n",
       "        text-align: right;\n",
       "    }\n",
       "</style>\n",
       "<table border=\"1\" class=\"dataframe\">\n",
       "  <thead>\n",
       "    <tr style=\"text-align: right;\">\n",
       "      <th></th>\n",
       "      <th>id</th>\n",
       "      <th>age</th>\n",
       "      <th>gender</th>\n",
       "      <th>height</th>\n",
       "      <th>weight</th>\n",
       "      <th>ap_hi</th>\n",
       "      <th>ap_lo</th>\n",
       "      <th>cholesterol</th>\n",
       "      <th>gluc</th>\n",
       "      <th>smoke</th>\n",
       "      <th>alco</th>\n",
       "      <th>active</th>\n",
       "      <th>cardio</th>\n",
       "    </tr>\n",
       "  </thead>\n",
       "  <tbody>\n",
       "    <tr>\n",
       "      <td>0</td>\n",
       "      <td>0</td>\n",
       "      <td>18393</td>\n",
       "      <td>2</td>\n",
       "      <td>168</td>\n",
       "      <td>62.0</td>\n",
       "      <td>110</td>\n",
       "      <td>80</td>\n",
       "      <td>1</td>\n",
       "      <td>1</td>\n",
       "      <td>0</td>\n",
       "      <td>0</td>\n",
       "      <td>1</td>\n",
       "      <td>0</td>\n",
       "    </tr>\n",
       "    <tr>\n",
       "      <td>1</td>\n",
       "      <td>1</td>\n",
       "      <td>20228</td>\n",
       "      <td>1</td>\n",
       "      <td>156</td>\n",
       "      <td>85.0</td>\n",
       "      <td>140</td>\n",
       "      <td>90</td>\n",
       "      <td>3</td>\n",
       "      <td>1</td>\n",
       "      <td>0</td>\n",
       "      <td>0</td>\n",
       "      <td>1</td>\n",
       "      <td>1</td>\n",
       "    </tr>\n",
       "    <tr>\n",
       "      <td>2</td>\n",
       "      <td>2</td>\n",
       "      <td>18857</td>\n",
       "      <td>1</td>\n",
       "      <td>165</td>\n",
       "      <td>64.0</td>\n",
       "      <td>130</td>\n",
       "      <td>70</td>\n",
       "      <td>3</td>\n",
       "      <td>1</td>\n",
       "      <td>0</td>\n",
       "      <td>0</td>\n",
       "      <td>0</td>\n",
       "      <td>1</td>\n",
       "    </tr>\n",
       "    <tr>\n",
       "      <td>3</td>\n",
       "      <td>3</td>\n",
       "      <td>17623</td>\n",
       "      <td>2</td>\n",
       "      <td>169</td>\n",
       "      <td>82.0</td>\n",
       "      <td>150</td>\n",
       "      <td>100</td>\n",
       "      <td>1</td>\n",
       "      <td>1</td>\n",
       "      <td>0</td>\n",
       "      <td>0</td>\n",
       "      <td>1</td>\n",
       "      <td>1</td>\n",
       "    </tr>\n",
       "    <tr>\n",
       "      <td>4</td>\n",
       "      <td>4</td>\n",
       "      <td>17474</td>\n",
       "      <td>1</td>\n",
       "      <td>156</td>\n",
       "      <td>56.0</td>\n",
       "      <td>100</td>\n",
       "      <td>60</td>\n",
       "      <td>1</td>\n",
       "      <td>1</td>\n",
       "      <td>0</td>\n",
       "      <td>0</td>\n",
       "      <td>0</td>\n",
       "      <td>0</td>\n",
       "    </tr>\n",
       "  </tbody>\n",
       "</table>\n",
       "</div>"
      ],
      "text/plain": [
       "   id    age  gender  height  weight  ap_hi  ap_lo  cholesterol  gluc  smoke  \\\n",
       "0   0  18393       2     168    62.0    110     80            1     1      0   \n",
       "1   1  20228       1     156    85.0    140     90            3     1      0   \n",
       "2   2  18857       1     165    64.0    130     70            3     1      0   \n",
       "3   3  17623       2     169    82.0    150    100            1     1      0   \n",
       "4   4  17474       1     156    56.0    100     60            1     1      0   \n",
       "\n",
       "   alco  active  cardio  \n",
       "0     0       1       0  \n",
       "1     0       1       1  \n",
       "2     0       0       1  \n",
       "3     0       1       1  \n",
       "4     0       0       0  "
      ]
     },
     "execution_count": 2,
     "metadata": {},
     "output_type": "execute_result"
    }
   ],
   "source": [
    "dfcardio.head()"
   ]
  },
  {
   "cell_type": "code",
   "execution_count": 3,
   "metadata": {},
   "outputs": [
    {
     "data": {
      "text/plain": [
       "(0, 1)"
      ]
     },
     "execution_count": 3,
     "metadata": {},
     "output_type": "execute_result"
    }
   ],
   "source": [
    "dfcardio.smoke.min(), dfcardio.smoke.max()"
   ]
  },
  {
   "cell_type": "code",
   "execution_count": 4,
   "metadata": {},
   "outputs": [
    {
     "data": {
      "text/plain": [
       "(0, 1)"
      ]
     },
     "execution_count": 4,
     "metadata": {},
     "output_type": "execute_result"
    }
   ],
   "source": [
    "dfcardio.alco.min(), dfcardio.alco.max()"
   ]
  },
  {
   "cell_type": "code",
   "execution_count": 5,
   "metadata": {},
   "outputs": [
    {
     "data": {
      "text/plain": [
       "(0, 1)"
      ]
     },
     "execution_count": 5,
     "metadata": {},
     "output_type": "execute_result"
    }
   ],
   "source": [
    "dfcardio.active.min(), dfcardio.active.max()"
   ]
  },
  {
   "cell_type": "code",
   "execution_count": 6,
   "metadata": {},
   "outputs": [
    {
     "data": {
      "text/plain": [
       "(1, 3)"
      ]
     },
     "execution_count": 6,
     "metadata": {},
     "output_type": "execute_result"
    }
   ],
   "source": [
    "dfcardio.gluc.min(), dfcardio.gluc.max()"
   ]
  },
  {
   "cell_type": "code",
   "execution_count": 7,
   "metadata": {},
   "outputs": [
    {
     "data": {
      "text/plain": [
       "id               int64\n",
       "age              int64\n",
       "gender           int64\n",
       "height           int64\n",
       "weight         float64\n",
       "ap_hi            int64\n",
       "ap_lo            int64\n",
       "cholesterol      int64\n",
       "gluc             int64\n",
       "smoke            int64\n",
       "alco             int64\n",
       "active           int64\n",
       "cardio           int64\n",
       "dtype: object"
      ]
     },
     "execution_count": 7,
     "metadata": {},
     "output_type": "execute_result"
    }
   ],
   "source": [
    "dfcardio.dtypes"
   ]
  },
  {
   "cell_type": "markdown",
   "metadata": {},
   "source": [
    "    The following codebook was taken from Ulinova's notebook.\n",
    "    \n",
    "    Codebook:\n",
    "    \n",
    "    Age | Objective Feature | age | int (days) |\n",
    "    Height | Objective Feature | height | int (cm) |\n",
    "    Weight | Objective Feature | weight | float (kg) |\n",
    "    Gender | Objective Feature | gender | categorical code |\n",
    "    Systolic blood pressure | Examination Feature | ap_hi | int |\n",
    "    Diastolic blood pressure | Examination Feature | ap_lo | int |\n",
    "    Cholesterol | Examination Feature | cholesterol | 1: normal, 2: above normal, 3: well above normal |\n",
    "    Glucose | Examination Feature | gluc | 1: normal, 2: above normal, 3: well above normal |\n",
    "    Smoking | Subjective Feature | smoke | binary |\n",
    "    Alcohol intake | Subjective Feature | alco | binary |\n",
    "    Physical activity | Subjective Feature | active | binary |\n",
    "    Presence or absence of cardiovascular disease | Target Variable | cardio | binary | (Ulinova, n.d., para. 5)\n",
    "    \n",
    "    All of the dataset values were collected at the moment of medical examination.\n",
    "    \n",
    "    Codebook taken directly from author Svetlana Ulianova a Data Science Student at Ryerson University \n",
    "    Toronto, ON, Canada and posted on Kaggle.com\n",
    "    \n",
    "    Reference:\n",
    "    Ulinova, S.  (n.d.).  EDA of cadiovascular diseases data.  Retrieved from https://www.kaggle.com/sulianova/eda-cardiovascular-data/notebook#EDA-of-cadiovascular-diseases-data"
   ]
  },
  {
   "cell_type": "code",
   "execution_count": 8,
   "metadata": {
    "scrolled": true
   },
   "outputs": [
    {
     "data": {
      "text/html": [
       "<div>\n",
       "<style scoped>\n",
       "    .dataframe tbody tr th:only-of-type {\n",
       "        vertical-align: middle;\n",
       "    }\n",
       "\n",
       "    .dataframe tbody tr th {\n",
       "        vertical-align: top;\n",
       "    }\n",
       "\n",
       "    .dataframe thead th {\n",
       "        text-align: right;\n",
       "    }\n",
       "</style>\n",
       "<table border=\"1\" class=\"dataframe\">\n",
       "  <thead>\n",
       "    <tr style=\"text-align: right;\">\n",
       "      <th></th>\n",
       "      <th>id</th>\n",
       "      <th>age</th>\n",
       "      <th>gender</th>\n",
       "      <th>height</th>\n",
       "      <th>weight</th>\n",
       "      <th>ap_hi</th>\n",
       "      <th>ap_lo</th>\n",
       "      <th>cholesterol</th>\n",
       "      <th>gluc</th>\n",
       "      <th>smoke</th>\n",
       "      <th>alco</th>\n",
       "      <th>active</th>\n",
       "      <th>cardio</th>\n",
       "    </tr>\n",
       "  </thead>\n",
       "  <tbody>\n",
       "    <tr>\n",
       "      <td>count</td>\n",
       "      <td>70000.000000</td>\n",
       "      <td>70000.000000</td>\n",
       "      <td>70000.000000</td>\n",
       "      <td>70000.000000</td>\n",
       "      <td>70000.000000</td>\n",
       "      <td>70000.000000</td>\n",
       "      <td>70000.000000</td>\n",
       "      <td>70000.000000</td>\n",
       "      <td>70000.000000</td>\n",
       "      <td>70000.000000</td>\n",
       "      <td>70000.000000</td>\n",
       "      <td>70000.000000</td>\n",
       "      <td>70000.000000</td>\n",
       "    </tr>\n",
       "    <tr>\n",
       "      <td>mean</td>\n",
       "      <td>49972.419900</td>\n",
       "      <td>19468.865814</td>\n",
       "      <td>1.349571</td>\n",
       "      <td>164.359229</td>\n",
       "      <td>74.205690</td>\n",
       "      <td>128.817286</td>\n",
       "      <td>96.630414</td>\n",
       "      <td>1.366871</td>\n",
       "      <td>1.226457</td>\n",
       "      <td>0.088129</td>\n",
       "      <td>0.053771</td>\n",
       "      <td>0.803729</td>\n",
       "      <td>0.499700</td>\n",
       "    </tr>\n",
       "    <tr>\n",
       "      <td>std</td>\n",
       "      <td>28851.302323</td>\n",
       "      <td>2467.251667</td>\n",
       "      <td>0.476838</td>\n",
       "      <td>8.210126</td>\n",
       "      <td>14.395757</td>\n",
       "      <td>154.011419</td>\n",
       "      <td>188.472530</td>\n",
       "      <td>0.680250</td>\n",
       "      <td>0.572270</td>\n",
       "      <td>0.283484</td>\n",
       "      <td>0.225568</td>\n",
       "      <td>0.397179</td>\n",
       "      <td>0.500003</td>\n",
       "    </tr>\n",
       "    <tr>\n",
       "      <td>min</td>\n",
       "      <td>0.000000</td>\n",
       "      <td>10798.000000</td>\n",
       "      <td>1.000000</td>\n",
       "      <td>55.000000</td>\n",
       "      <td>10.000000</td>\n",
       "      <td>-150.000000</td>\n",
       "      <td>-70.000000</td>\n",
       "      <td>1.000000</td>\n",
       "      <td>1.000000</td>\n",
       "      <td>0.000000</td>\n",
       "      <td>0.000000</td>\n",
       "      <td>0.000000</td>\n",
       "      <td>0.000000</td>\n",
       "    </tr>\n",
       "    <tr>\n",
       "      <td>25%</td>\n",
       "      <td>25006.750000</td>\n",
       "      <td>17664.000000</td>\n",
       "      <td>1.000000</td>\n",
       "      <td>159.000000</td>\n",
       "      <td>65.000000</td>\n",
       "      <td>120.000000</td>\n",
       "      <td>80.000000</td>\n",
       "      <td>1.000000</td>\n",
       "      <td>1.000000</td>\n",
       "      <td>0.000000</td>\n",
       "      <td>0.000000</td>\n",
       "      <td>1.000000</td>\n",
       "      <td>0.000000</td>\n",
       "    </tr>\n",
       "    <tr>\n",
       "      <td>50%</td>\n",
       "      <td>50001.500000</td>\n",
       "      <td>19703.000000</td>\n",
       "      <td>1.000000</td>\n",
       "      <td>165.000000</td>\n",
       "      <td>72.000000</td>\n",
       "      <td>120.000000</td>\n",
       "      <td>80.000000</td>\n",
       "      <td>1.000000</td>\n",
       "      <td>1.000000</td>\n",
       "      <td>0.000000</td>\n",
       "      <td>0.000000</td>\n",
       "      <td>1.000000</td>\n",
       "      <td>0.000000</td>\n",
       "    </tr>\n",
       "    <tr>\n",
       "      <td>75%</td>\n",
       "      <td>74889.250000</td>\n",
       "      <td>21327.000000</td>\n",
       "      <td>2.000000</td>\n",
       "      <td>170.000000</td>\n",
       "      <td>82.000000</td>\n",
       "      <td>140.000000</td>\n",
       "      <td>90.000000</td>\n",
       "      <td>2.000000</td>\n",
       "      <td>1.000000</td>\n",
       "      <td>0.000000</td>\n",
       "      <td>0.000000</td>\n",
       "      <td>1.000000</td>\n",
       "      <td>1.000000</td>\n",
       "    </tr>\n",
       "    <tr>\n",
       "      <td>max</td>\n",
       "      <td>99999.000000</td>\n",
       "      <td>23713.000000</td>\n",
       "      <td>2.000000</td>\n",
       "      <td>250.000000</td>\n",
       "      <td>200.000000</td>\n",
       "      <td>16020.000000</td>\n",
       "      <td>11000.000000</td>\n",
       "      <td>3.000000</td>\n",
       "      <td>3.000000</td>\n",
       "      <td>1.000000</td>\n",
       "      <td>1.000000</td>\n",
       "      <td>1.000000</td>\n",
       "      <td>1.000000</td>\n",
       "    </tr>\n",
       "  </tbody>\n",
       "</table>\n",
       "</div>"
      ],
      "text/plain": [
       "                 id           age        gender        height        weight  \\\n",
       "count  70000.000000  70000.000000  70000.000000  70000.000000  70000.000000   \n",
       "mean   49972.419900  19468.865814      1.349571    164.359229     74.205690   \n",
       "std    28851.302323   2467.251667      0.476838      8.210126     14.395757   \n",
       "min        0.000000  10798.000000      1.000000     55.000000     10.000000   \n",
       "25%    25006.750000  17664.000000      1.000000    159.000000     65.000000   \n",
       "50%    50001.500000  19703.000000      1.000000    165.000000     72.000000   \n",
       "75%    74889.250000  21327.000000      2.000000    170.000000     82.000000   \n",
       "max    99999.000000  23713.000000      2.000000    250.000000    200.000000   \n",
       "\n",
       "              ap_hi         ap_lo   cholesterol          gluc         smoke  \\\n",
       "count  70000.000000  70000.000000  70000.000000  70000.000000  70000.000000   \n",
       "mean     128.817286     96.630414      1.366871      1.226457      0.088129   \n",
       "std      154.011419    188.472530      0.680250      0.572270      0.283484   \n",
       "min     -150.000000    -70.000000      1.000000      1.000000      0.000000   \n",
       "25%      120.000000     80.000000      1.000000      1.000000      0.000000   \n",
       "50%      120.000000     80.000000      1.000000      1.000000      0.000000   \n",
       "75%      140.000000     90.000000      2.000000      1.000000      0.000000   \n",
       "max    16020.000000  11000.000000      3.000000      3.000000      1.000000   \n",
       "\n",
       "               alco        active        cardio  \n",
       "count  70000.000000  70000.000000  70000.000000  \n",
       "mean       0.053771      0.803729      0.499700  \n",
       "std        0.225568      0.397179      0.500003  \n",
       "min        0.000000      0.000000      0.000000  \n",
       "25%        0.000000      1.000000      0.000000  \n",
       "50%        0.000000      1.000000      0.000000  \n",
       "75%        0.000000      1.000000      1.000000  \n",
       "max        1.000000      1.000000      1.000000  "
      ]
     },
     "execution_count": 8,
     "metadata": {},
     "output_type": "execute_result"
    }
   ],
   "source": [
    "dfcardio.describe()"
   ]
  },
  {
   "cell_type": "markdown",
   "metadata": {},
   "source": [
    "<h1><center>Skew and Kurtosis</center></h1>\n",
    "\n",
    "skewness = 0 : normal   \n",
    "skewness > 0 : Right (Positive) Skew.    \n",
    "skewness < 0 : Left (Negative) Skew (Geeks for Geeks, n.d.)    \n",
    "\n",
    "Reference: \n",
    "\n",
    "Geeks for Geeks, (n.d.). scipy stats.skew() | Python Retrieved from https://www.geeksforgeeks.org/scipy-stats-skew-python/"
   ]
  },
  {
   "cell_type": "markdown",
   "metadata": {},
   "source": [
    "Link for scipy kurtosis documetation as fisher default caused me some confustion:  \n",
    "https://docs.scipy.org/doc/scipy-0.14.0/reference/generated/scipy.stats.kurtosis.html#scipy.stats.kurtosis\n",
    "\n",
    "Kertosis = 0 :normal distribution or  mesokurtic distribution\n",
    "\n",
    "Kertosis < 0 :light tail platykurtic distribution\n",
    "\n",
    "Kertosis > 0 :heavy tail leptokurtic distribution (Glen, n.d.)\n",
    "\n",
    "Reference: \n",
    "\n",
    "Glen, S. (n.d.). Kurtosis: Definition, Leptokurtic, Platykurtic. Retrived from https://www.statisticshowto.datasciencecentral.com/probability-and-statistics/statistics-definitions/kurtosis-leptokurtic-platykurtic/"
   ]
  },
  {
   "cell_type": "code",
   "execution_count": 9,
   "metadata": {},
   "outputs": [
    {
     "data": {
      "text/plain": [
       "-0.8234737410878994"
      ]
     },
     "execution_count": 9,
     "metadata": {},
     "output_type": "execute_result"
    }
   ],
   "source": [
    "# Verify fisher as default\n",
    "stats.kurtosis(dfcardio.age)"
   ]
  },
  {
   "cell_type": "markdown",
   "metadata": {},
   "source": [
    "Verification of fisher being default for power point presentation for package. Otherwise kurtois for normal distribution would be 3 instead of 0."
   ]
  },
  {
   "cell_type": "code",
   "execution_count": 10,
   "metadata": {},
   "outputs": [
    {
     "data": {
      "text/plain": [
       "-0.8234737410878994"
      ]
     },
     "execution_count": 10,
     "metadata": {},
     "output_type": "execute_result"
    }
   ],
   "source": [
    "stats.kurtosis(dfcardio.age, fisher = True)"
   ]
  },
  {
   "cell_type": "code",
   "execution_count": 11,
   "metadata": {},
   "outputs": [
    {
     "data": {
      "text/plain": [
       "2.1765262589121006"
      ]
     },
     "execution_count": 11,
     "metadata": {},
     "output_type": "execute_result"
    }
   ],
   "source": [
    "stats.kurtosis(dfcardio.age, fisher = False)"
   ]
  },
  {
   "cell_type": "markdown",
   "metadata": {},
   "source": [
    "<h1><center>Distribution and Outlier Analysis</center></h1>"
   ]
  },
  {
   "cell_type": "markdown",
   "metadata": {},
   "source": [
    "<h1><center>Age</center></h1>"
   ]
  },
  {
   "cell_type": "code",
   "execution_count": 12,
   "metadata": {},
   "outputs": [
    {
     "data": {
      "text/plain": [
       "Text(0, 0.5, 'Count')"
      ]
     },
     "execution_count": 12,
     "metadata": {},
     "output_type": "execute_result"
    },
    {
     "data": {
      "image/png": "[encoded data removed]",
      "text/plain": [
       "<Figure size 432x288 with 1 Axes>"
      ]
     },
     "metadata": {
      "needs_background": "light"
     },
     "output_type": "display_data"
    }
   ],
   "source": [
    "dfcardio.age.hist(bins=15,label=\"Age\")\n",
    "plt.legend()\n",
    "plt.xlabel(\"Days\")\n",
    "plt.ylabel(\"Count\")"
   ]
  },
  {
   "cell_type": "code",
   "execution_count": 13,
   "metadata": {
    "scrolled": true
   },
   "outputs": [
    {
     "data": {
      "image/png": "[encoded data removed]",
      "text/plain": [
       "<Figure size 432x288 with 1 Axes>"
      ]
     },
     "metadata": {
      "needs_background": "light"
     },
     "output_type": "display_data"
    }
   ],
   "source": [
    "# Outliers?\n",
    "sns.boxplot(x=dfcardio.age)\n",
    "plt.show()"
   ]
  },
  {
   "cell_type": "code",
   "execution_count": 14,
   "metadata": {},
   "outputs": [
    {
     "name": "stdout",
     "output_type": "stream",
     "text": [
      "Max: 23713 \n",
      "Min: 10798\n"
     ]
    }
   ],
   "source": [
    "print(\"Max: {} \\nMin: {}\".format(dfcardio.age.max(), dfcardio.age.min()))"
   ]
  },
  {
   "cell_type": "code",
   "execution_count": 15,
   "metadata": {},
   "outputs": [
    {
     "name": "stdout",
     "output_type": "stream",
     "text": [
      "    Mean: 19468.865814285713\n",
      "  Median: 19703.0\n",
      "    Skew: -0.3070553957245462\n",
      "Kurtosis: -0.8234468444820653\n",
      "Variance: 6087330.789505426\n",
      " Std Dev: 2467.2516672413913\n"
     ]
    }
   ],
   "source": [
    "print (\"    Mean: {}\\n  Median: {}\\n    Skew: {}\\nKurtosis: {}\\nVariance: {}\\n Std Dev: {}\".format\n",
    "      (dfcardio.age.mean(),dfcardio.age.median(), dfcardio.age.skew(),dfcardio.age.kurtosis(), \\\n",
    "       dfcardio.age.var(),dfcardio.age.std()))"
   ]
  },
  {
   "cell_type": "markdown",
   "metadata": {},
   "source": [
    "Reasonably close to normal and only minor light tailed kurtosis."
   ]
  },
  {
   "cell_type": "markdown",
   "metadata": {},
   "source": [
    "<h1><center>Weight</center></h1>"
   ]
  },
  {
   "cell_type": "code",
   "execution_count": 16,
   "metadata": {},
   "outputs": [
    {
     "data": {
      "text/plain": [
       "Text(0, 0.5, 'Count')"
      ]
     },
     "execution_count": 16,
     "metadata": {},
     "output_type": "execute_result"
    },
    {
     "data": {
      "image/png": "[encoded data removed]",
      "text/plain": [
       "<Figure size 432x288 with 1 Axes>"
      ]
     },
     "metadata": {
      "needs_background": "light"
     },
     "output_type": "display_data"
    }
   ],
   "source": [
    "dfcardio.weight.hist(bins=20,label=\"Weight\")\n",
    "plt.legend()\n",
    "plt.xlabel(\"kg\")\n",
    "plt.ylabel(\"Count\")"
   ]
  },
  {
   "cell_type": "code",
   "execution_count": 17,
   "metadata": {},
   "outputs": [
    {
     "name": "stdout",
     "output_type": "stream",
     "text": [
      "    Mean: 74.20569\n",
      "  Median: 72.0\n",
      "    Skew: 1.0120701082089065\n",
      "Kurtosis: 2.5868254500056223\n",
      "Variance: 207.2378103468814\n",
      " Std Dev: 14.39575667851056\n"
     ]
    }
   ],
   "source": [
    "print (\"    Mean: {}\\n  Median: {}\\n    Skew: {}\\nKurtosis: {}\\nVariance: {}\\n Std Dev: {}\".format\n",
    "      (dfcardio.weight.mean(),dfcardio.weight.median(), dfcardio.weight.skew(),dfcardio.weight.kurtosis(), \\\n",
    "       dfcardio.weight.var(),dfcardio.weight.std()))"
   ]
  },
  {
   "cell_type": "code",
   "execution_count": 18,
   "metadata": {},
   "outputs": [
    {
     "data": {
      "image/png": "[encoded data removed]",
      "text/plain": [
       "<Figure size 432x288 with 1 Axes>"
      ]
     },
     "metadata": {
      "needs_background": "light"
     },
     "output_type": "display_data"
    }
   ],
   "source": [
    "# Outliers?\n",
    "sns.boxplot(x=dfcardio.weight)\n",
    "plt.show()"
   ]
  },
  {
   "cell_type": "code",
   "execution_count": 19,
   "metadata": {},
   "outputs": [
    {
     "name": "stdout",
     "output_type": "stream",
     "text": [
      "Max: 200.0 \n",
      "Min: 10.0\n"
     ]
    }
   ],
   "source": [
    "print(\"Max: {} \\nMin: {}\".format(dfcardio.weight.max(), dfcardio.weight.min()))"
   ]
  },
  {
   "cell_type": "code",
   "execution_count": 20,
   "metadata": {},
   "outputs": [],
   "source": [
    "# Change to roughly 80 - 400 pounds to remove extremes\n",
    "# using domain knowledge and reasonableness\n",
    "\n",
    "dfcardio = dfcardio[dfcardio.weight > 36 ]\n",
    "\n",
    "dfcardio = dfcardio[dfcardio.weight < 181]"
   ]
  },
  {
   "cell_type": "code",
   "execution_count": 21,
   "metadata": {},
   "outputs": [
    {
     "data": {
      "image/png": "[encoded data removed]",
      "text/plain": [
       "<Figure size 432x288 with 1 Axes>"
      ]
     },
     "metadata": {
      "needs_background": "light"
     },
     "output_type": "display_data"
    }
   ],
   "source": [
    "# Outliers?\n",
    "sns.boxplot(x=dfcardio.weight)\n",
    "plt.show()"
   ]
  },
  {
   "cell_type": "code",
   "execution_count": 22,
   "metadata": {},
   "outputs": [
    {
     "data": {
      "text/plain": [
       "Text(0, 0.5, 'Count')"
      ]
     },
     "execution_count": 22,
     "metadata": {},
     "output_type": "execute_result"
    },
    {
     "data": {
      "image/png": "[encoded data removed]",
      "text/plain": [
       "<Figure size 432x288 with 1 Axes>"
      ]
     },
     "metadata": {
      "needs_background": "light"
     },
     "output_type": "display_data"
    }
   ],
   "source": [
    "dfcardio.weight.hist(bins=20,label=\"Weight\")\n",
    "plt.legend()\n",
    "plt.xlabel(\"kg\")\n",
    "plt.ylabel(\"Count\")"
   ]
  },
  {
   "cell_type": "code",
   "execution_count": 23,
   "metadata": {},
   "outputs": [
    {
     "name": "stdout",
     "output_type": "stream",
     "text": [
      "    Mean: 74.21658258060829\n",
      "  Median: 72.0\n",
      "    Skew: 1.00217356575386\n",
      "Kurtosis: 2.3654336155679774\n",
      "Variance: 205.7578274094943\n",
      " Std Dev: 14.344261131529024\n"
     ]
    }
   ],
   "source": [
    "print (\"    Mean: {}\\n  Median: {}\\n    Skew: {}\\nKurtosis: {}\\nVariance: {}\\n Std Dev: {}\".format\n",
    "      (dfcardio.weight.mean(),dfcardio.weight.median(), dfcardio.weight.skew(),dfcardio.weight.kurtosis(), \\\n",
    "       dfcardio.weight.var(),dfcardio.weight.std()))"
   ]
  },
  {
   "cell_type": "markdown",
   "metadata": {},
   "source": [
    "Slight positive skew and minor heavy tailed kurtosis "
   ]
  },
  {
   "cell_type": "markdown",
   "metadata": {},
   "source": [
    "<h1><center>Height</center></h1>"
   ]
  },
  {
   "cell_type": "code",
   "execution_count": 24,
   "metadata": {},
   "outputs": [
    {
     "data": {
      "text/plain": [
       "Text(0, 0.5, 'Count')"
      ]
     },
     "execution_count": 24,
     "metadata": {},
     "output_type": "execute_result"
    },
    {
     "data": {
      "image/png": "[encoded data removed]",
      "text/plain": [
       "<Figure size 432x288 with 1 Axes>"
      ]
     },
     "metadata": {
      "needs_background": "light"
     },
     "output_type": "display_data"
    }
   ],
   "source": [
    "dfcardio.height.hist(bins=20, range=(100,250),label = \"Height\")\n",
    "plt.legend()\n",
    "plt.xlabel(\"cm\")\n",
    "plt.ylabel(\"Count\")"
   ]
  },
  {
   "cell_type": "code",
   "execution_count": 25,
   "metadata": {},
   "outputs": [
    {
     "name": "stdout",
     "output_type": "stream",
     "text": [
      "    Mean: 164.36358049394008\n",
      "  Median: 165.0\n",
      "    Skew: -0.6394827943261461\n",
      "Kurtosis: 7.9622969785301985\n",
      "Variance: 67.28028750431609\n",
      " Std Dev: 8.202456187284154\n"
     ]
    }
   ],
   "source": [
    "print (\"    Mean: {}\\n  Median: {}\\n    Skew: {}\\nKurtosis: {}\\nVariance: {}\\n Std Dev: {}\".format\n",
    "      (dfcardio.height.mean(),dfcardio.height.median(), dfcardio.height.skew(),dfcardio.height.kurtosis(), \\\n",
    "       dfcardio.height.var(),dfcardio.height.std()))"
   ]
  },
  {
   "cell_type": "code",
   "execution_count": 26,
   "metadata": {
    "scrolled": false
   },
   "outputs": [
    {
     "data": {
      "image/png": "[encoded data removed]",
      "text/plain": [
       "<Figure size 432x288 with 1 Axes>"
      ]
     },
     "metadata": {
      "needs_background": "light"
     },
     "output_type": "display_data"
    }
   ],
   "source": [
    "# Outliers?\n",
    "sns.boxplot(x=dfcardio.height)\n",
    "plt.show()"
   ]
  },
  {
   "cell_type": "code",
   "execution_count": 27,
   "metadata": {},
   "outputs": [
    {
     "name": "stdout",
     "output_type": "stream",
     "text": [
      "Max: 250 \n",
      "Min: 55\n"
     ]
    }
   ],
   "source": [
    "print(\"Max: {} \\nMin: {}\".format(dfcardio.height.max(), dfcardio.height.min()))"
   ]
  },
  {
   "cell_type": "code",
   "execution_count": 28,
   "metadata": {},
   "outputs": [],
   "source": [
    "# filter out < than 4 feet as probably mistakes given there are no children in study\n",
    "# filter out 1 extremely tall outlier\n",
    "dfcardio = dfcardio[dfcardio.height > 120]\n",
    "dfcardio = dfcardio[dfcardio.height < 250]"
   ]
  },
  {
   "cell_type": "code",
   "execution_count": 29,
   "metadata": {},
   "outputs": [
    {
     "data": {
      "image/png": "[encoded data removed]",
      "text/plain": [
       "<Figure size 432x288 with 1 Axes>"
      ]
     },
     "metadata": {
      "needs_background": "light"
     },
     "output_type": "display_data"
    }
   ],
   "source": [
    "# Outliers?\n",
    "sns.boxplot(x=dfcardio.height)\n",
    "plt.show()"
   ]
  },
  {
   "cell_type": "code",
   "execution_count": 30,
   "metadata": {},
   "outputs": [
    {
     "data": {
      "text/plain": [
       "Text(0, 0.5, 'Count')"
      ]
     },
     "execution_count": 30,
     "metadata": {},
     "output_type": "execute_result"
    },
    {
     "data": {
      "image/png": "[encoded data removed]",
      "text/plain": [
       "<Figure size 432x288 with 1 Axes>"
      ]
     },
     "metadata": {
      "needs_background": "light"
     },
     "output_type": "display_data"
    }
   ],
   "source": [
    "dfcardio.height.hist(bins=20, range=(100,250),label = \"Height\")\n",
    "plt.legend()\n",
    "plt.xlabel(\"cm\")\n",
    "plt.ylabel(\"Count\")"
   ]
  },
  {
   "cell_type": "code",
   "execution_count": 31,
   "metadata": {},
   "outputs": [
    {
     "name": "stdout",
     "output_type": "stream",
     "text": [
      "    Mean: 164.43941215191322\n",
      "  Median: 165.0\n",
      "    Skew: 0.10908161496923831\n",
      "Kurtosis: 0.22083446951193153\n",
      "Variance: 61.790128519216665\n",
      " Std Dev: 7.860669724598322\n"
     ]
    }
   ],
   "source": [
    "print (\"    Mean: {}\\n  Median: {}\\n    Skew: {}\\nKurtosis: {}\\nVariance: {}\\n Std Dev: {}\".format\n",
    "      (dfcardio.height.mean(),dfcardio.height.median(), dfcardio.height.skew(),dfcardio.height.kurtosis(), \\\n",
    "       dfcardio.height.var(),dfcardio.height.std()))"
   ]
  },
  {
   "cell_type": "markdown",
   "metadata": {},
   "source": [
    "Note much better kurtosis for a normal distribution after outlier removal.  Relatively normal and little kurtosis."
   ]
  },
  {
   "cell_type": "markdown",
   "metadata": {},
   "source": [
    "<h1><center>AP HI - SYSTOLIC </center></h1>"
   ]
  },
  {
   "cell_type": "code",
   "execution_count": 32,
   "metadata": {},
   "outputs": [
    {
     "data": {
      "text/plain": [
       "Text(0, 0.5, 'Count')"
      ]
     },
     "execution_count": 32,
     "metadata": {},
     "output_type": "execute_result"
    },
    {
     "data": {
      "image/png": "[encoded data removed]",
      "text/plain": [
       "<Figure size 432x288 with 1 Axes>"
      ]
     },
     "metadata": {
      "needs_background": "light"
     },
     "output_type": "display_data"
    }
   ],
   "source": [
    "dfcardio.ap_hi.hist(bins=15,range=(70,210),label=\"AP HI\")\n",
    "plt.legend()\n",
    "plt.xlabel(\"mmHg\")\n",
    "plt.ylabel(\"Count\")"
   ]
  },
  {
   "cell_type": "code",
   "execution_count": 33,
   "metadata": {},
   "outputs": [
    {
     "name": "stdout",
     "output_type": "stream",
     "text": [
      "    Mean: 128.8291405512149\n",
      "  Median: 120.0\n",
      "    Skew: 85.22934787732709\n",
      "Kurtosis: 7567.891089962203\n",
      "Variance: 23758.589687300366\n",
      " Std Dev: 154.13821618047993\n"
     ]
    }
   ],
   "source": [
    "print (\"    Mean: {}\\n  Median: {}\\n    Skew: {}\\nKurtosis: {}\\nVariance: {}\\n Std Dev: {}\".format\n",
    "      (dfcardio.ap_hi.mean(),dfcardio.ap_hi.median(), dfcardio.ap_hi.skew(),dfcardio.ap_hi.kurtosis(), \\\n",
    "       dfcardio.ap_hi.var(),dfcardio.ap_hi.std()))"
   ]
  },
  {
   "cell_type": "code",
   "execution_count": 34,
   "metadata": {},
   "outputs": [
    {
     "data": {
      "image/png": "[encoded data removed]",
      "text/plain": [
       "<Figure size 432x288 with 1 Axes>"
      ]
     },
     "metadata": {
      "needs_background": "light"
     },
     "output_type": "display_data"
    }
   ],
   "source": [
    "# Outliers?\n",
    "sns.boxplot(x=dfcardio.ap_hi)\n",
    "plt.show()"
   ]
  },
  {
   "cell_type": "code",
   "execution_count": 35,
   "metadata": {},
   "outputs": [
    {
     "name": "stdout",
     "output_type": "stream",
     "text": [
      "Max: 16020 \n",
      "Min: -150\n"
     ]
    }
   ],
   "source": [
    "print(\"Max: {} \\nMin: {}\".format(dfcardio.ap_hi.max(), dfcardio.ap_hi.min()))"
   ]
  },
  {
   "cell_type": "markdown",
   "metadata": {},
   "source": [
    "The following are direct quotes from the two articles:\n",
    "\n",
    "A hypertensive (high blood pressure) crisis is when blood pressure rises quickly and severely with readings of 180/120 or greater (AHA, n.d., para 1).  \n",
    "\n",
    "Some experts define low blood pressure as readings lower than 90 mm Hg systolic or 60 mm Hg diastolic. If either number is below that, your pressure is lower than normal (Mayo Clinic, n.d., para 17).\n",
    "\n",
    "Reference:\n",
    "AHA, (n.d.). Hypertensive Crisis: When You Should Call 9-1-1 for High Blood Pressure.  Retrieved from https://www.heart.org/en/health-topics/high-blood-pressure/understanding-blood-pressure-readings/hypertensive-crisis-when-you-should-call-911-for-high-blood-pressure\n",
    "\n",
    "Mayo Clinic, (n.d.). Low blood pressure (hypotension).  Retrieved from https://www.mayoclinic.org/diseases-conditions/low-blood-pressure/symptoms-causes/syc-20355465"
   ]
  },
  {
   "cell_type": "markdown",
   "metadata": {},
   "source": [
    "There are significant outliers skewing this data.  Some seem like clerical errors."
   ]
  },
  {
   "cell_type": "code",
   "execution_count": 36,
   "metadata": {},
   "outputs": [],
   "source": [
    "# Change to greather than 70 and less than 200\n",
    "# using domain knowledge and reasonableness\n",
    "\n",
    "dfcardio = dfcardio[dfcardio.ap_hi > 70 ]\n",
    "dfcardio = dfcardio[dfcardio.ap_hi < 200]"
   ]
  },
  {
   "cell_type": "code",
   "execution_count": 37,
   "metadata": {},
   "outputs": [
    {
     "data": {
      "image/png": "[encoded data removed]",
      "text/plain": [
       "<Figure size 432x288 with 1 Axes>"
      ]
     },
     "metadata": {
      "needs_background": "light"
     },
     "output_type": "display_data"
    }
   ],
   "source": [
    "# Remaining Outliers?\n",
    "sns.boxplot(x=dfcardio.ap_hi)\n",
    "plt.show()"
   ]
  },
  {
   "cell_type": "code",
   "execution_count": 38,
   "metadata": {},
   "outputs": [
    {
     "data": {
      "text/plain": [
       "Text(0, 0.5, 'Count')"
      ]
     },
     "execution_count": 38,
     "metadata": {},
     "output_type": "execute_result"
    },
    {
     "data": {
      "image/png": "[encoded data removed]",
      "text/plain": [
       "<Figure size 432x288 with 1 Axes>"
      ]
     },
     "metadata": {
      "needs_background": "light"
     },
     "output_type": "display_data"
    }
   ],
   "source": [
    "dfcardio.ap_hi.hist(bins=15,range=(70,210),label=\"AP HI\")\n",
    "plt.legend()\n",
    "plt.xlabel(\"mmHg\")\n",
    "plt.ylabel(\"Count\")"
   ]
  },
  {
   "cell_type": "code",
   "execution_count": 39,
   "metadata": {},
   "outputs": [
    {
     "name": "stdout",
     "output_type": "stream",
     "text": [
      "    Mean: 126.82905552276621\n",
      "  Median: 120.0\n",
      "    Skew: 0.7598588736081258\n",
      "Kurtosis: 0.9333338734723617\n",
      "Variance: 276.4307004050727\n",
      " Std Dev: 16.626205231653813\n"
     ]
    }
   ],
   "source": [
    "print (\"    Mean: {}\\n  Median: {}\\n    Skew: {}\\nKurtosis: {}\\nVariance: {}\\n Std Dev: {}\".format\n",
    "      (dfcardio.ap_hi.mean(),dfcardio.ap_hi.median(), dfcardio.ap_hi.skew(),dfcardio.ap_hi.kurtosis(), \\\n",
    "       dfcardio.ap_hi.var(),dfcardio.ap_hi.std()))"
   ]
  },
  {
   "cell_type": "markdown",
   "metadata": {},
   "source": [
    "Very light skew to the right and minor heavy tailed kurtosis."
   ]
  },
  {
   "cell_type": "markdown",
   "metadata": {},
   "source": [
    "<h1><center>AP LO - DIASTOLIC</center></h1>"
   ]
  },
  {
   "cell_type": "code",
   "execution_count": 40,
   "metadata": {},
   "outputs": [
    {
     "data": {
      "text/plain": [
       "Text(0, 0.5, 'Count')"
      ]
     },
     "execution_count": 40,
     "metadata": {},
     "output_type": "execute_result"
    },
    {
     "data": {
      "image/png": "[encoded data removed]",
      "text/plain": [
       "<Figure size 432x288 with 1 Axes>"
      ]
     },
     "metadata": {
      "needs_background": "light"
     },
     "output_type": "display_data"
    }
   ],
   "source": [
    "dfcardio.ap_lo.hist(bins=8,range=(70,135),label=\"AP LO\")\n",
    "plt.legend()\n",
    "plt.xlabel(\"mmHg\")\n",
    "plt.ylabel(\"Count\")"
   ]
  },
  {
   "cell_type": "code",
   "execution_count": 41,
   "metadata": {},
   "outputs": [
    {
     "name": "stdout",
     "output_type": "stream",
     "text": [
      "    Mean: 96.10039299235608\n",
      "  Median: 80.0\n",
      "    Skew: 32.05353870699736\n",
      "Kurtosis: 1425.0086627797932\n",
      "Variance: 33609.9429340965\n",
      " Std Dev: 183.33014736833792\n"
     ]
    }
   ],
   "source": [
    "print (\"    Mean: {}\\n  Median: {}\\n    Skew: {}\\nKurtosis: {}\\nVariance: {}\\n Std Dev: {}\".format\n",
    "      (dfcardio.ap_lo.mean(),dfcardio.ap_lo.median(), dfcardio.ap_lo.skew(),dfcardio.ap_lo.kurtosis(), \\\n",
    "       dfcardio.ap_lo.var(),dfcardio.ap_lo.std()))"
   ]
  },
  {
   "cell_type": "code",
   "execution_count": 42,
   "metadata": {},
   "outputs": [
    {
     "data": {
      "image/png": "[encoded data removed]",
      "text/plain": [
       "<Figure size 432x288 with 1 Axes>"
      ]
     },
     "metadata": {
      "needs_background": "light"
     },
     "output_type": "display_data"
    }
   ],
   "source": [
    "# Outliers?\n",
    "sns.boxplot(x=dfcardio.ap_lo)\n",
    "plt.show()"
   ]
  },
  {
   "cell_type": "code",
   "execution_count": 43,
   "metadata": {},
   "outputs": [
    {
     "name": "stdout",
     "output_type": "stream",
     "text": [
      "Max: 10000 \n",
      "Min: 0\n"
     ]
    }
   ],
   "source": [
    "print(\"Max: {} \\nMin: {}\".format(dfcardio.ap_lo.max(), dfcardio.ap_lo.min()))"
   ]
  },
  {
   "cell_type": "markdown",
   "metadata": {},
   "source": [
    "There are significant outliers skewing this data.  I am using domain knowledge to remove outliers."
   ]
  },
  {
   "cell_type": "code",
   "execution_count": 44,
   "metadata": {},
   "outputs": [],
   "source": [
    "# Change to greather than 40 and less than 140\n",
    "# using domain knowledge and reasonableness\n",
    "\n",
    "dfcardio = dfcardio[dfcardio.ap_lo > 40 ]\n",
    "dfcardio = dfcardio[dfcardio.ap_lo < 140]\n",
    "\n",
    "# Final check for validity systol should be less than diastol\n",
    "dfcardio = dfcardio[dfcardio.ap_lo < dfcardio.ap_hi]\n"
   ]
  },
  {
   "cell_type": "code",
   "execution_count": 45,
   "metadata": {},
   "outputs": [
    {
     "data": {
      "image/png": "[encoded data removed]",
      "text/plain": [
       "<Figure size 432x288 with 1 Axes>"
      ]
     },
     "metadata": {
      "needs_background": "light"
     },
     "output_type": "display_data"
    }
   ],
   "source": [
    "# Remaining Outliers?\n",
    "sns.boxplot(x=dfcardio.ap_lo)\n",
    "plt.show()"
   ]
  },
  {
   "cell_type": "code",
   "execution_count": 46,
   "metadata": {},
   "outputs": [
    {
     "data": {
      "text/plain": [
       "Text(0, 0.5, 'Count')"
      ]
     },
     "execution_count": 46,
     "metadata": {},
     "output_type": "execute_result"
    },
    {
     "data": {
      "image/png": "[encoded data removed]",
      "text/plain": [
       "<Figure size 432x288 with 1 Axes>"
      ]
     },
     "metadata": {
      "needs_background": "light"
     },
     "output_type": "display_data"
    }
   ],
   "source": [
    "dfcardio.ap_lo.hist(bins=8,range=(70,135),label=\"AP LO\")\n",
    "plt.legend()\n",
    "plt.xlabel(\"mmHg\")\n",
    "plt.ylabel(\"Count\")"
   ]
  },
  {
   "cell_type": "code",
   "execution_count": 47,
   "metadata": {},
   "outputs": [
    {
     "name": "stdout",
     "output_type": "stream",
     "text": [
      "    Mean: 81.24775551981284\n",
      "  Median: 80.0\n",
      "    Skew: 0.2311814630183121\n",
      "Kurtosis: 1.073681791065506\n",
      "Variance: 85.98374052081441\n",
      " Std Dev: 9.272741801690286\n"
     ]
    }
   ],
   "source": [
    "print (\"    Mean: {}\\n  Median: {}\\n    Skew: {}\\nKurtosis: {}\\nVariance: {}\\n Std Dev: {}\".format\n",
    "      (dfcardio.ap_lo.mean(),dfcardio.ap_lo.median(), dfcardio.ap_lo.skew(),dfcardio.ap_lo.kurtosis(), \\\n",
    "       dfcardio.ap_lo.var(),dfcardio.ap_lo.std()))"
   ]
  },
  {
   "cell_type": "markdown",
   "metadata": {},
   "source": [
    "Relatively close to normal skew but some kurtosis."
   ]
  },
  {
   "cell_type": "markdown",
   "metadata": {},
   "source": [
    "<h1><center>BMI</center></h1>\n",
    "* Gather bmi from weight and height "
   ]
  },
  {
   "cell_type": "code",
   "execution_count": 48,
   "metadata": {},
   "outputs": [],
   "source": [
    "dfcardio['bmi']=round(dfcardio.weight / (dfcardio.height / 100) ** 2)"
   ]
  },
  {
   "cell_type": "markdown",
   "metadata": {},
   "source": [
    "BMI   \n",
    "    < 18.5 underweight  \n",
    "    18.5 - 25 normal  \n",
    "    25.0 - 30 overweight  \n",
    "    > 30 obese \n",
    "\n",
    "OBESITY:  \n",
    "Class 1: 30 to < 35  \n",
    "Class 2: 35 to < 40  \n",
    "Class 3: 40 or higher  (CDC, n.d.)\n",
    "    \n",
    "Reference:  \n",
    "CDC, (n.d.).  Defining Adult Overweight and Obesity.  Retrieved from https://www.cdc.gov/obesity/adult/defining.html\n"
   ]
  },
  {
   "cell_type": "code",
   "execution_count": 49,
   "metadata": {
    "scrolled": true
   },
   "outputs": [
    {
     "data": {
      "text/plain": [
       "Text(0, 0.5, 'Count')"
      ]
     },
     "execution_count": 49,
     "metadata": {},
     "output_type": "execute_result"
    },
    {
     "data": {
      "image/png": "[encoded data removed]",
      "text/plain": [
       "<Figure size 432x288 with 1 Axes>"
      ]
     },
     "metadata": {
      "needs_background": "light"
     },
     "output_type": "display_data"
    }
   ],
   "source": [
    "dfcardio.bmi.hist(bins=50,range=(0,80), label=\"BMI\")\n",
    "plt.legend()\n",
    "plt.xlabel(\"BMI\")\n",
    "plt.ylabel(\"Count\")"
   ]
  },
  {
   "cell_type": "code",
   "execution_count": 50,
   "metadata": {},
   "outputs": [
    {
     "name": "stdout",
     "output_type": "stream",
     "text": [
      "    Mean: 27.429975142564704\n",
      "  Median: 26.0\n",
      "    Skew: 1.3016507708670666\n",
      "Kurtosis: 4.326707803466165\n",
      "Variance: 27.18446169643634\n",
      " Std Dev: 5.2138720445017\n"
     ]
    }
   ],
   "source": [
    "print (\"    Mean: {}\\n  Median: {}\\n    Skew: {}\\nKurtosis: {}\\nVariance: {}\\n Std Dev: {}\".format\n",
    "      (dfcardio.bmi.mean(),dfcardio.bmi.median(), dfcardio.bmi.skew(),dfcardio.bmi.kurtosis(), \\\n",
    "       dfcardio.bmi.var(),dfcardio.bmi.std()))"
   ]
  },
  {
   "cell_type": "markdown",
   "metadata": {},
   "source": [
    "Some right or positive Skew."
   ]
  },
  {
   "cell_type": "code",
   "execution_count": 51,
   "metadata": {},
   "outputs": [
    {
     "data": {
      "image/png": "[encoded data removed]",
      "text/plain": [
       "<Figure size 432x288 with 1 Axes>"
      ]
     },
     "metadata": {
      "needs_background": "light"
     },
     "output_type": "display_data"
    }
   ],
   "source": [
    "# Outliers?\n",
    "sns.boxplot(x=dfcardio.bmi)\n",
    "plt.show()"
   ]
  },
  {
   "cell_type": "code",
   "execution_count": 52,
   "metadata": {},
   "outputs": [
    {
     "name": "stdout",
     "output_type": "stream",
     "text": [
      "Max: 108.0 \n",
      "Min: 14.0\n"
     ]
    }
   ],
   "source": [
    "print(\"Max: {} \\nMin: {}\".format(dfcardio.bmi.max(), dfcardio.bmi.min()))"
   ]
  },
  {
   "cell_type": "markdown",
   "metadata": {},
   "source": [
    "I decided to remove any bmi over 100 as that is well over twice what is considered extremely obese by the cdc."
   ]
  },
  {
   "cell_type": "code",
   "execution_count": 53,
   "metadata": {},
   "outputs": [],
   "source": [
    "# filter out 2 * what is condsidered extremely obese and \n",
    "# remove < 15 to give some level of reasonableness on the lower end as well.\n",
    "dfcardio = dfcardio[dfcardio.bmi < 100 ]\n",
    "dfcardio = dfcardio[dfcardio.bmi > 15 ]"
   ]
  },
  {
   "cell_type": "code",
   "execution_count": 54,
   "metadata": {},
   "outputs": [
    {
     "data": {
      "image/png": "[encoded data removed]",
      "text/plain": [
       "<Figure size 432x288 with 1 Axes>"
      ]
     },
     "metadata": {
      "needs_background": "light"
     },
     "output_type": "display_data"
    }
   ],
   "source": [
    "# Remaining Outliers?\n",
    "sns.boxplot(x=dfcardio.bmi).set(\n",
    "    label='Outliers') \n",
    "    \n",
    "plt.show()"
   ]
  },
  {
   "cell_type": "code",
   "execution_count": 55,
   "metadata": {},
   "outputs": [
    {
     "data": {
      "text/plain": [
       "Text(0, 0.5, 'Count')"
      ]
     },
     "execution_count": 55,
     "metadata": {},
     "output_type": "execute_result"
    },
    {
     "data": {
      "image/png": "[encoded data removed]",
      "text/plain": [
       "<Figure size 432x288 with 1 Axes>"
      ]
     },
     "metadata": {
      "needs_background": "light"
     },
     "output_type": "display_data"
    }
   ],
   "source": [
    "dfcardio.bmi.hist(bins=50,range=(0,80), label=\"BMI\")\n",
    "plt.legend()\n",
    "plt.xlabel(\"BMI\")\n",
    "plt.ylabel(\"Count\")"
   ]
  },
  {
   "cell_type": "code",
   "execution_count": 56,
   "metadata": {},
   "outputs": [
    {
     "name": "stdout",
     "output_type": "stream",
     "text": [
      "    Mean: 27.43202562752326\n",
      "  Median: 26.0\n",
      "    Skew: 1.215403478838704\n",
      "Kurtosis: 2.7866235498032927\n",
      "Variance: 26.95222741966617\n",
      " Std Dev: 5.191553468824738\n"
     ]
    }
   ],
   "source": [
    "print (\"    Mean: {}\\n  Median: {}\\n    Skew: {}\\nKurtosis: {}\\nVariance: {}\\n Std Dev: {}\".format\n",
    "      (dfcardio.bmi.mean(),dfcardio.bmi.median(), dfcardio.bmi.skew(),dfcardio.bmi.kurtosis(), \\\n",
    "       dfcardio.bmi.var(),dfcardio.bmi.std()))"
   ]
  },
  {
   "cell_type": "markdown",
   "metadata": {},
   "source": [
    "Slight positive skew and heavy tailed kurtosis."
   ]
  },
  {
   "cell_type": "code",
   "execution_count": 57,
   "metadata": {},
   "outputs": [],
   "source": [
    "df_male = dfcardio[dfcardio.gender == 2]\n",
    "df_female = dfcardio[dfcardio.gender == 1]"
   ]
  },
  {
   "cell_type": "code",
   "execution_count": 58,
   "metadata": {},
   "outputs": [],
   "source": [
    "dfcardio.cholesterol -= 1"
   ]
  },
  {
   "cell_type": "code",
   "execution_count": 59,
   "metadata": {},
   "outputs": [],
   "source": [
    "dfcardio.gender -= 1"
   ]
  },
  {
   "cell_type": "markdown",
   "metadata": {},
   "source": [
    "Double check my filter as males tend to be taller. Female is now 0 and male is now 1 on the main dfcardio data frame."
   ]
  },
  {
   "cell_type": "code",
   "execution_count": 60,
   "metadata": {},
   "outputs": [
    {
     "name": "stdout",
     "output_type": "stream",
     "text": [
      "  Male: 170.0244363269933 \n",
      "Female: 161.45035580398232\n"
     ]
    }
   ],
   "source": [
    "print(\"  Male: {} \\nFemale: {}\".format(df_male.height.mean(), df_female.height.mean()))"
   ]
  },
  {
   "cell_type": "code",
   "execution_count": 61,
   "metadata": {},
   "outputs": [
    {
     "name": "stdout",
     "output_type": "stream",
     "text": [
      "  Male: 170.0 \n",
      "Female: 162.0\n"
     ]
    }
   ],
   "source": [
    "print(\"  Male: {} \\nFemale: {}\".format(df_male.height.median(), df_female.height.median()))"
   ]
  },
  {
   "cell_type": "markdown",
   "metadata": {},
   "source": [
    "<h1><center>Two Scenario PMF</center></h1>"
   ]
  },
  {
   "cell_type": "code",
   "execution_count": 62,
   "metadata": {},
   "outputs": [],
   "source": [
    "male_pmf = thinkstats2.Pmf(df_male.bmi, label='Male')\n",
    "fem_pmf = thinkstats2.Pmf(df_female.bmi, label='Female')\n",
    "width=0.5"
   ]
  },
  {
   "cell_type": "code",
   "execution_count": 63,
   "metadata": {},
   "outputs": [
    {
     "data": {
      "image/png": "[encoded data removed]",
      "text/plain": [
       "<Figure size 432x288 with 1 Axes>"
      ]
     },
     "metadata": {
      "needs_background": "light"
     },
     "output_type": "display_data"
    }
   ],
   "source": [
    "thinkplot.Hist(male_pmf,width=width)\n",
    "thinkplot.Config(xlabel='Male BMI', ylabel='Pmf')"
   ]
  },
  {
   "cell_type": "code",
   "execution_count": 64,
   "metadata": {},
   "outputs": [
    {
     "data": {
      "image/png": "[encoded data removed]",
      "text/plain": [
       "<Figure size 432x288 with 1 Axes>"
      ]
     },
     "metadata": {
      "needs_background": "light"
     },
     "output_type": "display_data"
    }
   ],
   "source": [
    "thinkplot.Hist(fem_pmf,width=width)\n",
    "thinkplot.Config(xlabel='Female BMI', ylabel='Pmf')"
   ]
  },
  {
   "cell_type": "code",
   "execution_count": 65,
   "metadata": {},
   "outputs": [
    {
     "data": {
      "image/png": "[encoded data removed]",
      "text/plain": [
       "<Figure size 432x288 with 1 Axes>"
      ]
     },
     "metadata": {
      "needs_background": "light"
     },
     "output_type": "display_data"
    }
   ],
   "source": [
    "thinkplot.Pmf(male_pmf)\n",
    "thinkplot.Config(xlabel='Male BMI', ylabel='Pmf')"
   ]
  },
  {
   "cell_type": "code",
   "execution_count": 66,
   "metadata": {},
   "outputs": [
    {
     "data": {
      "image/png": "[encoded data removed]",
      "text/plain": [
       "<Figure size 432x288 with 1 Axes>"
      ]
     },
     "metadata": {
      "needs_background": "light"
     },
     "output_type": "display_data"
    }
   ],
   "source": [
    "thinkplot.Pmf(fem_pmf)\n",
    "thinkplot.Config(xlabel='Feale BMI', ylabel='Pmf')"
   ]
  },
  {
   "cell_type": "code",
   "execution_count": 67,
   "metadata": {},
   "outputs": [
    {
     "data": {
      "image/png": "[encoded data removed]",
      "text/plain": [
       "<Figure size 864x432 with 2 Axes>"
      ]
     },
     "metadata": {
      "needs_background": "light"
     },
     "output_type": "display_data"
    }
   ],
   "source": [
    "axis = [5, 50, 0, 0.15]\n",
    "thinkplot.PrePlot(2, cols=2)\n",
    "thinkplot.Hist(male_pmf, align='right', width=width)\n",
    "thinkplot.Hist(fem_pmf, align='left', width=width)\n",
    "thinkplot.Config(xlabel='BMI', ylabel='PMF', axis=axis)\n",
    "\n",
    "thinkplot.PrePlot(2)\n",
    "thinkplot.SubPlot(2)\n",
    "thinkplot.Pmfs([male_pmf, fem_pmf])\n",
    "thinkplot.Config(xlabel='BMI', axis=axis)"
   ]
  },
  {
   "cell_type": "markdown",
   "metadata": {},
   "source": [
    "<h1><center>CDF</center></h1>"
   ]
  },
  {
   "cell_type": "code",
   "execution_count": 68,
   "metadata": {},
   "outputs": [],
   "source": [
    "cardiocdf = thinkstats2.Cdf(dfcardio.bmi, label='Overall BMI')\n",
    "cardio_mal_cdf = thinkstats2.Cdf(df_male.bmi, label='Male')\n",
    "cardio_fem_cdf = thinkstats2.Cdf(df_female.bmi, label='Female')"
   ]
  },
  {
   "cell_type": "code",
   "execution_count": 69,
   "metadata": {},
   "outputs": [
    {
     "data": {
      "image/png": "[encoded data removed]",
      "text/plain": [
       "<Figure size 432x288 with 1 Axes>"
      ]
     },
     "metadata": {
      "needs_background": "light"
     },
     "output_type": "display_data"
    },
    {
     "data": {
      "text/plain": [
       "<Figure size 576x432 with 0 Axes>"
      ]
     },
     "metadata": {},
     "output_type": "display_data"
    }
   ],
   "source": [
    "thinkplot.Cdf(cardiocdf,color='green',alpha=0.3)\n",
    "thinkplot.Cdf(cardio_mal_cdf,color='blue',alpha=0.3)\n",
    "thinkplot.Cdf(cardio_fem_cdf,color='red',alpha=0.3)\n",
    "thinkplot.Show(xlabel='BMI', ylabel='CDF')\n"
   ]
  },
  {
   "cell_type": "markdown",
   "metadata": {},
   "source": [
    "This tells me that I will have to use non parametric measures for any correlation functions."
   ]
  },
  {
   "cell_type": "code",
   "execution_count": 70,
   "metadata": {},
   "outputs": [
    {
     "data": {
      "image/png": "[encoded data removed]",
      "text/plain": [
       "<Figure size 432x288 with 1 Axes>"
      ]
     },
     "metadata": {
      "needs_background": "light"
     },
     "output_type": "display_data"
    },
    {
     "data": {
      "text/plain": [
       "<Figure size 576x432 with 0 Axes>"
      ]
     },
     "metadata": {},
     "output_type": "display_data"
    }
   ],
   "source": [
    "bmi=dfcardio.bmi\n",
    "sample = np.random.choice(bmi, 100, replace=True)\n",
    "cdf = thinkstats2.Cdf(bmi, label='BMI')\n",
    "ranks = [cdf.PercentileRank(x) for x in sample]\n",
    "rank_cdf = thinkstats2.Cdf(ranks)\n",
    "thinkplot.Cdf(rank_cdf)\n",
    "thinkplot.Show(xlabel='Percentile Rank', ylabel='CDF')"
   ]
  },
  {
   "cell_type": "raw",
   "metadata": {},
   "source": [
    "This data is approximately uniform for computing percentile ranks."
   ]
  },
  {
   "cell_type": "markdown",
   "metadata": {},
   "source": [
    "<h1><center>KDE</center></h1>"
   ]
  },
  {
   "cell_type": "code",
   "execution_count": 71,
   "metadata": {},
   "outputs": [
    {
     "data": {
      "image/png": "[encoded data removed]",
      "text/plain": [
       "<Figure size 432x288 with 1 Axes>"
      ]
     },
     "metadata": {
      "needs_background": "light"
     },
     "output_type": "display_data"
    }
   ],
   "source": [
    "ax=sns.kdeplot(sample, shade=True, color=\"r\", label = 'KDE for BMI')"
   ]
  },
  {
   "cell_type": "markdown",
   "metadata": {},
   "source": [
    "Non symmetrical graph is further evidence of non normal distribution."
   ]
  },
  {
   "cell_type": "markdown",
   "metadata": {},
   "source": [
    "<h1><center>Analytical Plots</center></h1>"
   ]
  },
  {
   "cell_type": "code",
   "execution_count": 72,
   "metadata": {},
   "outputs": [
    {
     "data": {
      "image/png": "[encoded data removed]",
      "text/plain": [
       "<Figure size 432x288 with 1 Axes>"
      ]
     },
     "metadata": {
      "needs_background": "light"
     },
     "output_type": "display_data"
    }
   ],
   "source": [
    "# Downy's function Thinkstats\n",
    "mean, var = thinkstats2.TrimmedMeanVar(dfcardio.bmi, p=0.01)\n",
    "std = np.sqrt(var)\n",
    "\n",
    "xs = [-4, 4]\n",
    "fxs, fys = thinkstats2.FitLine(xs, mean, std)\n",
    "thinkplot.Plot(fxs, fys, linewidth=4, color='0.8')\n",
    "\n",
    "xs, ys = thinkstats2.NormalProbability(dfcardio.bmi)\n",
    "thinkplot.Plot(xs, ys, label='Cardio Data Set BMI')\n",
    "\n",
    "thinkplot.Config(title='Normal probability plot',\n",
    "                 xlabel='Standard deviations from mean',\n",
    "                 ylabel='BMI')"
   ]
  },
  {
   "cell_type": "code",
   "execution_count": 73,
   "metadata": {},
   "outputs": [
    {
     "data": {
      "text/plain": [
       "<function matplotlib.pyplot.show(*args, **kw)>"
      ]
     },
     "execution_count": 73,
     "metadata": {},
     "output_type": "execute_result"
    },
    {
     "data": {
      "image/png": "[encoded data removed]",
      "text/plain": [
       "<Figure size 432x288 with 1 Axes>"
      ]
     },
     "metadata": {
      "needs_background": "light"
     },
     "output_type": "display_data"
    }
   ],
   "source": [
    "# Probability Plot of data\n",
    "stats.probplot(dfcardio.bmi, plot=plt)\n",
    "plt.show"
   ]
  },
  {
   "cell_type": "markdown",
   "metadata": {},
   "source": [
    "Since this is weight data and given the deviation occurs mostly at the tails, a log normal model should be a better match."
   ]
  },
  {
   "cell_type": "code",
   "execution_count": 74,
   "metadata": {},
   "outputs": [],
   "source": [
    "logofcardio = np.log(dfcardio.bmi)"
   ]
  },
  {
   "cell_type": "code",
   "execution_count": 75,
   "metadata": {},
   "outputs": [
    {
     "data": {
      "text/plain": [
       "<function matplotlib.pyplot.show(*args, **kw)>"
      ]
     },
     "execution_count": 75,
     "metadata": {},
     "output_type": "execute_result"
    },
    {
     "data": {
      "image/png": "[encoded data removed]",
      "text/plain": [
       "<Figure size 432x288 with 1 Axes>"
      ]
     },
     "metadata": {
      "needs_background": "light"
     },
     "output_type": "display_data"
    }
   ],
   "source": [
    "# Probability Plot of bmi after converted to log\n",
    "stats.probplot(logofcardio, plot=plt)\n",
    "plt.show"
   ]
  },
  {
   "cell_type": "markdown",
   "metadata": {},
   "source": [
    "The new probability plot is a much closer, albeit still imperfect, representation by flattening out the tail on the upper end. "
   ]
  },
  {
   "cell_type": "markdown",
   "metadata": {},
   "source": [
    "### Almost all indicate a non normal distribution."
   ]
  },
  {
   "cell_type": "markdown",
   "metadata": {},
   "source": [
    "<h1><center>Scatterplots, Hexplots and Boxplots</center></h1>"
   ]
  },
  {
   "cell_type": "code",
   "execution_count": 76,
   "metadata": {},
   "outputs": [
    {
     "data": {
      "image/png": "[encoded data removed]",
      "text/plain": [
       "<Figure size 432x288 with 1 Axes>"
      ]
     },
     "metadata": {
      "needs_background": "light"
     },
     "output_type": "display_data"
    }
   ],
   "source": [
    "#  Not very interesting due to binary data\n",
    "area=20\n",
    "color='red'\n",
    "alpha=0.2\n",
    "plt.scatter(dfcardio.cardio, dfcardio.bmi, s=area, c=color, edgecolor='black', alpha=alpha)\n",
    "plt.title(\"ScatterPlot\")\n",
    "plt.xlabel(\"Cardio\")\n",
    "plt.ylabel(\"BMI\")\n",
    "plt.show()"
   ]
  },
  {
   "cell_type": "code",
   "execution_count": 77,
   "metadata": {},
   "outputs": [
    {
     "data": {
      "image/png": "[encoded data removed]",
      "text/plain": [
       "<Figure size 432x288 with 1 Axes>"
      ]
     },
     "metadata": {
      "needs_background": "light"
     },
     "output_type": "display_data"
    }
   ],
   "source": [
    "# Explore computed value for bmi and systolic pressure\n",
    "# Difficult to determine any pattern.\n",
    "area=20\n",
    "color='red'\n",
    "alpha=0.2\n",
    "plt.scatter(dfcardio.bmi, dfcardio.ap_hi, s=area, c=color, edgecolor='black', alpha=alpha)\n",
    "plt.title(\"ScatterPlot\")\n",
    "plt.xlabel(\"BMI\")\n",
    "plt.ylabel(\"Systolic Pressure\")\n",
    "plt.show()\n"
   ]
  },
  {
   "cell_type": "code",
   "execution_count": 78,
   "metadata": {},
   "outputs": [
    {
     "data": {
      "image/png": "[encoded data removed]",
      "text/plain": [
       "<Figure size 432x288 with 2 Axes>"
      ]
     },
     "metadata": {
      "needs_background": "light"
     },
     "output_type": "display_data"
    }
   ],
   "source": [
    "plt.hexbin(dfcardio.bmi, dfcardio.ap_hi, gridsize=15, cmap='Blues')\n",
    "cb = plt.colorbar(label='count in bin')"
   ]
  },
  {
   "cell_type": "markdown",
   "metadata": {},
   "source": [
    "Since weight and height were used to compute bmi, I wanted to see which related the most and explore that\n",
    "relationship more."
   ]
  },
  {
   "cell_type": "code",
   "execution_count": 79,
   "metadata": {},
   "outputs": [
    {
     "data": {
      "image/png": "[encoded data removed]",
      "text/plain": [
       "<Figure size 432x288 with 1 Axes>"
      ]
     },
     "metadata": {
      "needs_background": "light"
     },
     "output_type": "display_data"
    }
   ],
   "source": [
    "# Explore computed value for bmi to weight\n",
    "# Since weight was used to create bmi I am not surprised by the linear nature.\n",
    "area=20\n",
    "color='red'\n",
    "alpha=0.2\n",
    "plt.scatter(dfcardio.weight, dfcardio.bmi, s=area, c=color, edgecolor='black', alpha=alpha)\n",
    "plt.title(\"ScatterPlot\")\n",
    "plt.xlabel(\"Weight\")\n",
    "plt.ylabel(\"BMI\")\n",
    "plt.show()\n"
   ]
  },
  {
   "cell_type": "code",
   "execution_count": 80,
   "metadata": {},
   "outputs": [
    {
     "data": {
      "image/png": "[encoded data removed]",
      "text/plain": [
       "<Figure size 432x288 with 2 Axes>"
      ]
     },
     "metadata": {
      "needs_background": "light"
     },
     "output_type": "display_data"
    }
   ],
   "source": [
    "plt.hexbin(dfcardio.weight, dfcardio.bmi, gridsize=15, cmap='Blues')\n",
    "cb = plt.colorbar(label='count in bin')"
   ]
  },
  {
   "cell_type": "code",
   "execution_count": 81,
   "metadata": {},
   "outputs": [
    {
     "data": {
      "image/png": "[encoded data removed]",
      "text/plain": [
       "<Figure size 432x288 with 1 Axes>"
      ]
     },
     "metadata": {
      "needs_background": "light"
     },
     "output_type": "display_data"
    }
   ],
   "source": [
    "# The relationship between bmi and height does not appear linear.\n",
    "plt.scatter(dfcardio.height, dfcardio.bmi, s=area, c=color, edgecolor='black', alpha=alpha)\n",
    "plt.title(\"ScatterPlot\")\n",
    "plt.xlabel(\"height\")\n",
    "plt.ylabel(\"bmi\")\n",
    "plt.show()"
   ]
  },
  {
   "cell_type": "code",
   "execution_count": 82,
   "metadata": {},
   "outputs": [
    {
     "data": {
      "image/png": "[encoded data removed]",
      "text/plain": [
       "<Figure size 432x288 with 2 Axes>"
      ]
     },
     "metadata": {
      "needs_background": "light"
     },
     "output_type": "display_data"
    }
   ],
   "source": [
    "plt.hexbin(dfcardio.height, dfcardio.bmi, gridsize=15, cmap='Blues')\n",
    "cb = plt.colorbar(label='count in bin')"
   ]
  },
  {
   "cell_type": "markdown",
   "metadata": {},
   "source": [
    "Now I wanted to explore my original hypothesis more.  There is a relationship, but it is weak.\n",
    "I am using different plots due to the binary nature of the data set."
   ]
  },
  {
   "cell_type": "code",
   "execution_count": 83,
   "metadata": {},
   "outputs": [
    {
     "data": {
      "image/png": "[encoded data removed]",
      "text/plain": [
       "<Figure size 360x360 with 1 Axes>"
      ]
     },
     "metadata": {
      "needs_background": "light"
     },
     "output_type": "display_data"
    }
   ],
   "source": [
    "# Box plots seem more useful for binary data\n",
    "sns.catplot(x=\"cardio\", y=\"bmi\", kind=\"boxen\",\n",
    "            data=dfcardio.sort_values(\"cardio\"));"
   ]
  },
  {
   "cell_type": "code",
   "execution_count": 84,
   "metadata": {},
   "outputs": [
    {
     "data": {
      "image/png": "[encoded data removed]",
      "text/plain": [
       "<Figure size 360x360 with 1 Axes>"
      ]
     },
     "metadata": {
      "needs_background": "light"
     },
     "output_type": "display_data"
    }
   ],
   "source": [
    "sns.catplot(x=\"cardio\", y=\"ap_hi\", kind=\"boxen\",\n",
    "            data=dfcardio.sort_values(\"cardio\"));"
   ]
  },
  {
   "cell_type": "code",
   "execution_count": 85,
   "metadata": {},
   "outputs": [
    {
     "data": {
      "image/png": "[encoded data removed]",
      "text/plain": [
       "<Figure size 360x360 with 1 Axes>"
      ]
     },
     "metadata": {
      "needs_background": "light"
     },
     "output_type": "display_data"
    }
   ],
   "source": [
    "sns.catplot(x=\"cardio\", y=\"ap_lo\", kind=\"boxen\",\n",
    "            data=dfcardio.sort_values(\"cardio\"));"
   ]
  },
  {
   "cell_type": "markdown",
   "metadata": {},
   "source": [
    "<h1><center>Covariance</center></h1>\n",
    "Covariance shows whether there is a positive or negative relation.  However it is \n",
    "not a measure of strength.  For that you need to look at correlation."
   ]
  },
  {
   "cell_type": "code",
   "execution_count": 86,
   "metadata": {},
   "outputs": [
    {
     "data": {
      "text/html": [
       "<div>\n",
       "<style scoped>\n",
       "    .dataframe tbody tr th:only-of-type {\n",
       "        vertical-align: middle;\n",
       "    }\n",
       "\n",
       "    .dataframe tbody tr th {\n",
       "        vertical-align: top;\n",
       "    }\n",
       "\n",
       "    .dataframe thead th {\n",
       "        text-align: right;\n",
       "    }\n",
       "</style>\n",
       "<table border=\"1\" class=\"dataframe\">\n",
       "  <thead>\n",
       "    <tr style=\"text-align: right;\">\n",
       "      <th></th>\n",
       "      <th>id</th>\n",
       "      <th>age</th>\n",
       "      <th>gender</th>\n",
       "      <th>height</th>\n",
       "      <th>weight</th>\n",
       "      <th>ap_hi</th>\n",
       "      <th>ap_lo</th>\n",
       "      <th>cholesterol</th>\n",
       "      <th>gluc</th>\n",
       "      <th>smoke</th>\n",
       "      <th>alco</th>\n",
       "      <th>active</th>\n",
       "      <th>cardio</th>\n",
       "      <th>bmi</th>\n",
       "    </tr>\n",
       "  </thead>\n",
       "  <tbody>\n",
       "    <tr>\n",
       "      <td>id</td>\n",
       "      <td>8.324414e+08</td>\n",
       "      <td>2.267208e+05</td>\n",
       "      <td>35.522366</td>\n",
       "      <td>-532.487102</td>\n",
       "      <td>-682.096142</td>\n",
       "      <td>125.481409</td>\n",
       "      <td>-233.973677</td>\n",
       "      <td>114.011332</td>\n",
       "      <td>38.325280</td>\n",
       "      <td>-31.485979</td>\n",
       "      <td>3.249525</td>\n",
       "      <td>41.345336</td>\n",
       "      <td>49.553379</td>\n",
       "      <td>-131.563906</td>\n",
       "    </tr>\n",
       "    <tr>\n",
       "      <td>age</td>\n",
       "      <td>2.267208e+05</td>\n",
       "      <td>6.093031e+06</td>\n",
       "      <td>-27.263498</td>\n",
       "      <td>-1676.763505</td>\n",
       "      <td>1958.624086</td>\n",
       "      <td>8527.294020</td>\n",
       "      <td>3614.102889</td>\n",
       "      <td>259.751515</td>\n",
       "      <td>139.368282</td>\n",
       "      <td>-33.271328</td>\n",
       "      <td>-16.085727</td>\n",
       "      <td>-10.049820</td>\n",
       "      <td>295.701451</td>\n",
       "      <td>1336.783610</td>\n",
       "    </tr>\n",
       "    <tr>\n",
       "      <td>gender</td>\n",
       "      <td>3.552237e+01</td>\n",
       "      <td>-2.726350e+01</td>\n",
       "      <td>0.227016</td>\n",
       "      <td>1.946456</td>\n",
       "      <td>1.064768</td>\n",
       "      <td>0.470648</td>\n",
       "      <td>0.292793</td>\n",
       "      <td>-0.011935</td>\n",
       "      <td>-0.005819</td>\n",
       "      <td>0.045667</td>\n",
       "      <td>0.018268</td>\n",
       "      <td>0.001032</td>\n",
       "      <td>0.001569</td>\n",
       "      <td>-0.276356</td>\n",
       "    </tr>\n",
       "    <tr>\n",
       "      <td>height</td>\n",
       "      <td>-5.324871e+02</td>\n",
       "      <td>-1.676764e+03</td>\n",
       "      <td>1.946456</td>\n",
       "      <td>61.481670</td>\n",
       "      <td>34.732517</td>\n",
       "      <td>2.228242</td>\n",
       "      <td>2.564562</td>\n",
       "      <td>-0.295878</td>\n",
       "      <td>-0.094585</td>\n",
       "      <td>0.434741</td>\n",
       "      <td>0.172326</td>\n",
       "      <td>-0.031070</td>\n",
       "      <td>-0.048235</td>\n",
       "      <td>-8.018778</td>\n",
       "    </tr>\n",
       "    <tr>\n",
       "      <td>weight</td>\n",
       "      <td>-6.820961e+02</td>\n",
       "      <td>1.958624e+03</td>\n",
       "      <td>1.064768</td>\n",
       "      <td>34.732517</td>\n",
       "      <td>202.245776</td>\n",
       "      <td>62.342874</td>\n",
       "      <td>33.252833</td>\n",
       "      <td>1.362623</td>\n",
       "      <td>0.867527</td>\n",
       "      <td>0.269252</td>\n",
       "      <td>0.214503</td>\n",
       "      <td>-0.098930</td>\n",
       "      <td>1.275437</td>\n",
       "      <td>63.788203</td>\n",
       "    </tr>\n",
       "    <tr>\n",
       "      <td>ap_hi</td>\n",
       "      <td>1.254814e+02</td>\n",
       "      <td>8.527294e+03</td>\n",
       "      <td>0.470648</td>\n",
       "      <td>2.228242</td>\n",
       "      <td>62.342874</td>\n",
       "      <td>264.735225</td>\n",
       "      <td>110.221781</td>\n",
       "      <td>2.157102</td>\n",
       "      <td>0.863929</td>\n",
       "      <td>0.117168</td>\n",
       "      <td>0.122760</td>\n",
       "      <td>-0.006721</td>\n",
       "      <td>3.515727</td>\n",
       "      <td>22.615596</td>\n",
       "    </tr>\n",
       "    <tr>\n",
       "      <td>ap_lo</td>\n",
       "      <td>-2.339737e+02</td>\n",
       "      <td>3.614103e+03</td>\n",
       "      <td>0.292793</td>\n",
       "      <td>2.564562</td>\n",
       "      <td>33.252833</td>\n",
       "      <td>110.221781</td>\n",
       "      <td>85.963507</td>\n",
       "      <td>1.016722</td>\n",
       "      <td>0.389721</td>\n",
       "      <td>0.059691</td>\n",
       "      <td>0.074039</td>\n",
       "      <td>-0.003470</td>\n",
       "      <td>1.584295</td>\n",
       "      <td>11.595521</td>\n",
       "    </tr>\n",
       "    <tr>\n",
       "      <td>cholesterol</td>\n",
       "      <td>1.140113e+02</td>\n",
       "      <td>2.597515e+02</td>\n",
       "      <td>-0.011935</td>\n",
       "      <td>-0.295878</td>\n",
       "      <td>1.362623</td>\n",
       "      <td>2.157102</td>\n",
       "      <td>1.016722</td>\n",
       "      <td>0.460380</td>\n",
       "      <td>0.174472</td>\n",
       "      <td>0.001888</td>\n",
       "      <td>0.005265</td>\n",
       "      <td>0.002438</td>\n",
       "      <td>0.074999</td>\n",
       "      <td>0.608350</td>\n",
       "    </tr>\n",
       "    <tr>\n",
       "      <td>gluc</td>\n",
       "      <td>3.832528e+01</td>\n",
       "      <td>1.393683e+02</td>\n",
       "      <td>-0.005819</td>\n",
       "      <td>-0.094585</td>\n",
       "      <td>0.867527</td>\n",
       "      <td>0.863929</td>\n",
       "      <td>0.389721</td>\n",
       "      <td>0.174472</td>\n",
       "      <td>0.326293</td>\n",
       "      <td>-0.000916</td>\n",
       "      <td>0.001289</td>\n",
       "      <td>-0.001723</td>\n",
       "      <td>0.025338</td>\n",
       "      <td>0.355386</td>\n",
       "    </tr>\n",
       "    <tr>\n",
       "      <td>smoke</td>\n",
       "      <td>-3.148598e+01</td>\n",
       "      <td>-3.327133e+01</td>\n",
       "      <td>0.045667</td>\n",
       "      <td>0.434741</td>\n",
       "      <td>0.269252</td>\n",
       "      <td>0.117168</td>\n",
       "      <td>0.059691</td>\n",
       "      <td>0.001888</td>\n",
       "      <td>-0.000916</td>\n",
       "      <td>0.080124</td>\n",
       "      <td>0.021565</td>\n",
       "      <td>0.002810</td>\n",
       "      <td>-0.002366</td>\n",
       "      <td>-0.049915</td>\n",
       "    </tr>\n",
       "    <tr>\n",
       "      <td>alco</td>\n",
       "      <td>3.249525e+00</td>\n",
       "      <td>-1.608573e+01</td>\n",
       "      <td>0.018268</td>\n",
       "      <td>0.172326</td>\n",
       "      <td>0.214503</td>\n",
       "      <td>0.122760</td>\n",
       "      <td>0.074039</td>\n",
       "      <td>0.005265</td>\n",
       "      <td>0.001289</td>\n",
       "      <td>0.021565</td>\n",
       "      <td>0.050410</td>\n",
       "      <td>0.002184</td>\n",
       "      <td>-0.001000</td>\n",
       "      <td>0.019856</td>\n",
       "    </tr>\n",
       "    <tr>\n",
       "      <td>active</td>\n",
       "      <td>4.134534e+01</td>\n",
       "      <td>-1.004982e+01</td>\n",
       "      <td>0.001032</td>\n",
       "      <td>-0.031070</td>\n",
       "      <td>-0.098930</td>\n",
       "      <td>-0.006721</td>\n",
       "      <td>-0.003470</td>\n",
       "      <td>0.002438</td>\n",
       "      <td>-0.001723</td>\n",
       "      <td>0.002810</td>\n",
       "      <td>0.002184</td>\n",
       "      <td>0.157903</td>\n",
       "      <td>-0.007482</td>\n",
       "      <td>-0.027657</td>\n",
       "    </tr>\n",
       "    <tr>\n",
       "      <td>cardio</td>\n",
       "      <td>4.955338e+01</td>\n",
       "      <td>2.957015e+02</td>\n",
       "      <td>0.001569</td>\n",
       "      <td>-0.048235</td>\n",
       "      <td>1.275437</td>\n",
       "      <td>3.515727</td>\n",
       "      <td>1.584295</td>\n",
       "      <td>0.074999</td>\n",
       "      <td>0.025338</td>\n",
       "      <td>-0.002366</td>\n",
       "      <td>-0.001000</td>\n",
       "      <td>-0.007482</td>\n",
       "      <td>0.249968</td>\n",
       "      <td>0.493488</td>\n",
       "    </tr>\n",
       "    <tr>\n",
       "      <td>bmi</td>\n",
       "      <td>-1.315639e+02</td>\n",
       "      <td>1.336784e+03</td>\n",
       "      <td>-0.276356</td>\n",
       "      <td>-8.018778</td>\n",
       "      <td>63.788203</td>\n",
       "      <td>22.615596</td>\n",
       "      <td>11.595521</td>\n",
       "      <td>0.608350</td>\n",
       "      <td>0.355386</td>\n",
       "      <td>-0.049915</td>\n",
       "      <td>0.019856</td>\n",
       "      <td>-0.027657</td>\n",
       "      <td>0.493488</td>\n",
       "      <td>26.952227</td>\n",
       "    </tr>\n",
       "  </tbody>\n",
       "</table>\n",
       "</div>"
      ],
      "text/plain": [
       "                       id           age     gender       height       weight  \\\n",
       "id           8.324414e+08  2.267208e+05  35.522366  -532.487102  -682.096142   \n",
       "age          2.267208e+05  6.093031e+06 -27.263498 -1676.763505  1958.624086   \n",
       "gender       3.552237e+01 -2.726350e+01   0.227016     1.946456     1.064768   \n",
       "height      -5.324871e+02 -1.676764e+03   1.946456    61.481670    34.732517   \n",
       "weight      -6.820961e+02  1.958624e+03   1.064768    34.732517   202.245776   \n",
       "ap_hi        1.254814e+02  8.527294e+03   0.470648     2.228242    62.342874   \n",
       "ap_lo       -2.339737e+02  3.614103e+03   0.292793     2.564562    33.252833   \n",
       "cholesterol  1.140113e+02  2.597515e+02  -0.011935    -0.295878     1.362623   \n",
       "gluc         3.832528e+01  1.393683e+02  -0.005819    -0.094585     0.867527   \n",
       "smoke       -3.148598e+01 -3.327133e+01   0.045667     0.434741     0.269252   \n",
       "alco         3.249525e+00 -1.608573e+01   0.018268     0.172326     0.214503   \n",
       "active       4.134534e+01 -1.004982e+01   0.001032    -0.031070    -0.098930   \n",
       "cardio       4.955338e+01  2.957015e+02   0.001569    -0.048235     1.275437   \n",
       "bmi         -1.315639e+02  1.336784e+03  -0.276356    -8.018778    63.788203   \n",
       "\n",
       "                   ap_hi        ap_lo  cholesterol        gluc      smoke  \\\n",
       "id            125.481409  -233.973677   114.011332   38.325280 -31.485979   \n",
       "age          8527.294020  3614.102889   259.751515  139.368282 -33.271328   \n",
       "gender          0.470648     0.292793    -0.011935   -0.005819   0.045667   \n",
       "height          2.228242     2.564562    -0.295878   -0.094585   0.434741   \n",
       "weight         62.342874    33.252833     1.362623    0.867527   0.269252   \n",
       "ap_hi         264.735225   110.221781     2.157102    0.863929   0.117168   \n",
       "ap_lo         110.221781    85.963507     1.016722    0.389721   0.059691   \n",
       "cholesterol     2.157102     1.016722     0.460380    0.174472   0.001888   \n",
       "gluc            0.863929     0.389721     0.174472    0.326293  -0.000916   \n",
       "smoke           0.117168     0.059691     0.001888   -0.000916   0.080124   \n",
       "alco            0.122760     0.074039     0.005265    0.001289   0.021565   \n",
       "active         -0.006721    -0.003470     0.002438   -0.001723   0.002810   \n",
       "cardio          3.515727     1.584295     0.074999    0.025338  -0.002366   \n",
       "bmi            22.615596    11.595521     0.608350    0.355386  -0.049915   \n",
       "\n",
       "                  alco     active      cardio          bmi  \n",
       "id            3.249525  41.345336   49.553379  -131.563906  \n",
       "age         -16.085727 -10.049820  295.701451  1336.783610  \n",
       "gender        0.018268   0.001032    0.001569    -0.276356  \n",
       "height        0.172326  -0.031070   -0.048235    -8.018778  \n",
       "weight        0.214503  -0.098930    1.275437    63.788203  \n",
       "ap_hi         0.122760  -0.006721    3.515727    22.615596  \n",
       "ap_lo         0.074039  -0.003470    1.584295    11.595521  \n",
       "cholesterol   0.005265   0.002438    0.074999     0.608350  \n",
       "gluc          0.001289  -0.001723    0.025338     0.355386  \n",
       "smoke         0.021565   0.002810   -0.002366    -0.049915  \n",
       "alco          0.050410   0.002184   -0.001000     0.019856  \n",
       "active        0.002184   0.157903   -0.007482    -0.027657  \n",
       "cardio       -0.001000  -0.007482    0.249968     0.493488  \n",
       "bmi           0.019856  -0.027657    0.493488    26.952227  "
      ]
     },
     "execution_count": 86,
     "metadata": {},
     "output_type": "execute_result"
    }
   ],
   "source": [
    "dfcardiocov = dfcardio.cov()\n",
    "dfcardiocov"
   ]
  },
  {
   "cell_type": "markdown",
   "metadata": {},
   "source": [
    "<h1><center>Correlation</center></h1>"
   ]
  },
  {
   "cell_type": "markdown",
   "metadata": {},
   "source": [
    "Cholesterol is interesting as it is categorical, but in the context of this data it also shows degree with 1 being \n",
    "normal, 2 being elevated and 3 very elevated."
   ]
  },
  {
   "cell_type": "code",
   "execution_count": 87,
   "metadata": {},
   "outputs": [
    {
     "data": {
      "text/html": [
       "<div>\n",
       "<style scoped>\n",
       "    .dataframe tbody tr th:only-of-type {\n",
       "        vertical-align: middle;\n",
       "    }\n",
       "\n",
       "    .dataframe tbody tr th {\n",
       "        vertical-align: top;\n",
       "    }\n",
       "\n",
       "    .dataframe thead th {\n",
       "        text-align: right;\n",
       "    }\n",
       "</style>\n",
       "<table border=\"1\" class=\"dataframe\">\n",
       "  <thead>\n",
       "    <tr style=\"text-align: right;\">\n",
       "      <th></th>\n",
       "      <th>id</th>\n",
       "      <th>age</th>\n",
       "      <th>gender</th>\n",
       "      <th>height</th>\n",
       "      <th>weight</th>\n",
       "      <th>ap_hi</th>\n",
       "      <th>ap_lo</th>\n",
       "      <th>cholesterol</th>\n",
       "      <th>gluc</th>\n",
       "      <th>smoke</th>\n",
       "      <th>alco</th>\n",
       "      <th>active</th>\n",
       "      <th>cardio</th>\n",
       "      <th>bmi</th>\n",
       "    </tr>\n",
       "  </thead>\n",
       "  <tbody>\n",
       "    <tr>\n",
       "      <td>id</td>\n",
       "      <td>1.000000</td>\n",
       "      <td>0.003183</td>\n",
       "      <td>0.002584</td>\n",
       "      <td>-0.002354</td>\n",
       "      <td>-0.001662</td>\n",
       "      <td>0.000267</td>\n",
       "      <td>-0.000875</td>\n",
       "      <td>0.005824</td>\n",
       "      <td>0.002325</td>\n",
       "      <td>-0.003855</td>\n",
       "      <td>0.000502</td>\n",
       "      <td>0.003606</td>\n",
       "      <td>0.003435</td>\n",
       "      <td>-0.000878</td>\n",
       "    </tr>\n",
       "    <tr>\n",
       "      <td>age</td>\n",
       "      <td>0.003183</td>\n",
       "      <td>1.000000</td>\n",
       "      <td>-0.023181</td>\n",
       "      <td>-0.086633</td>\n",
       "      <td>0.055795</td>\n",
       "      <td>0.212319</td>\n",
       "      <td>0.157916</td>\n",
       "      <td>0.155090</td>\n",
       "      <td>0.098842</td>\n",
       "      <td>-0.047618</td>\n",
       "      <td>-0.029025</td>\n",
       "      <td>-0.010246</td>\n",
       "      <td>0.239604</td>\n",
       "      <td>0.104315</td>\n",
       "    </tr>\n",
       "    <tr>\n",
       "      <td>gender</td>\n",
       "      <td>0.002584</td>\n",
       "      <td>-0.023181</td>\n",
       "      <td>1.000000</td>\n",
       "      <td>0.521007</td>\n",
       "      <td>0.157140</td>\n",
       "      <td>0.060710</td>\n",
       "      <td>0.066279</td>\n",
       "      <td>-0.036918</td>\n",
       "      <td>-0.021379</td>\n",
       "      <td>0.338606</td>\n",
       "      <td>0.170770</td>\n",
       "      <td>0.005451</td>\n",
       "      <td>0.006588</td>\n",
       "      <td>-0.111723</td>\n",
       "    </tr>\n",
       "    <tr>\n",
       "      <td>height</td>\n",
       "      <td>-0.002354</td>\n",
       "      <td>-0.086633</td>\n",
       "      <td>0.521007</td>\n",
       "      <td>1.000000</td>\n",
       "      <td>0.311475</td>\n",
       "      <td>0.017466</td>\n",
       "      <td>0.035276</td>\n",
       "      <td>-0.055614</td>\n",
       "      <td>-0.021118</td>\n",
       "      <td>0.195874</td>\n",
       "      <td>0.097886</td>\n",
       "      <td>-0.009972</td>\n",
       "      <td>-0.012304</td>\n",
       "      <td>-0.196987</td>\n",
       "    </tr>\n",
       "    <tr>\n",
       "      <td>weight</td>\n",
       "      <td>-0.001662</td>\n",
       "      <td>0.055795</td>\n",
       "      <td>0.157140</td>\n",
       "      <td>0.311475</td>\n",
       "      <td>1.000000</td>\n",
       "      <td>0.269427</td>\n",
       "      <td>0.252192</td>\n",
       "      <td>0.141214</td>\n",
       "      <td>0.106792</td>\n",
       "      <td>0.066886</td>\n",
       "      <td>0.067179</td>\n",
       "      <td>-0.017506</td>\n",
       "      <td>0.179381</td>\n",
       "      <td>0.863979</td>\n",
       "    </tr>\n",
       "    <tr>\n",
       "      <td>ap_hi</td>\n",
       "      <td>0.000267</td>\n",
       "      <td>0.212319</td>\n",
       "      <td>0.060710</td>\n",
       "      <td>0.017466</td>\n",
       "      <td>0.269427</td>\n",
       "      <td>1.000000</td>\n",
       "      <td>0.730642</td>\n",
       "      <td>0.195392</td>\n",
       "      <td>0.092954</td>\n",
       "      <td>0.025440</td>\n",
       "      <td>0.033604</td>\n",
       "      <td>-0.001040</td>\n",
       "      <td>0.432182</td>\n",
       "      <td>0.267735</td>\n",
       "    </tr>\n",
       "    <tr>\n",
       "      <td>ap_lo</td>\n",
       "      <td>-0.000875</td>\n",
       "      <td>0.157916</td>\n",
       "      <td>0.066279</td>\n",
       "      <td>0.035276</td>\n",
       "      <td>0.252192</td>\n",
       "      <td>0.730642</td>\n",
       "      <td>1.000000</td>\n",
       "      <td>0.161617</td>\n",
       "      <td>0.073586</td>\n",
       "      <td>0.022744</td>\n",
       "      <td>0.035567</td>\n",
       "      <td>-0.000942</td>\n",
       "      <td>0.341772</td>\n",
       "      <td>0.240899</td>\n",
       "    </tr>\n",
       "    <tr>\n",
       "      <td>cholesterol</td>\n",
       "      <td>0.005824</td>\n",
       "      <td>0.155090</td>\n",
       "      <td>-0.036918</td>\n",
       "      <td>-0.055614</td>\n",
       "      <td>0.141214</td>\n",
       "      <td>0.195392</td>\n",
       "      <td>0.161617</td>\n",
       "      <td>1.000000</td>\n",
       "      <td>0.450156</td>\n",
       "      <td>0.009829</td>\n",
       "      <td>0.034563</td>\n",
       "      <td>0.009041</td>\n",
       "      <td>0.221083</td>\n",
       "      <td>0.172702</td>\n",
       "    </tr>\n",
       "    <tr>\n",
       "      <td>gluc</td>\n",
       "      <td>0.002325</td>\n",
       "      <td>0.098842</td>\n",
       "      <td>-0.021379</td>\n",
       "      <td>-0.021118</td>\n",
       "      <td>0.106792</td>\n",
       "      <td>0.092954</td>\n",
       "      <td>0.073586</td>\n",
       "      <td>0.450156</td>\n",
       "      <td>1.000000</td>\n",
       "      <td>-0.005666</td>\n",
       "      <td>0.010047</td>\n",
       "      <td>-0.007589</td>\n",
       "      <td>0.088721</td>\n",
       "      <td>0.119839</td>\n",
       "    </tr>\n",
       "    <tr>\n",
       "      <td>smoke</td>\n",
       "      <td>-0.003855</td>\n",
       "      <td>-0.047618</td>\n",
       "      <td>0.338606</td>\n",
       "      <td>0.195874</td>\n",
       "      <td>0.066886</td>\n",
       "      <td>0.025440</td>\n",
       "      <td>0.022744</td>\n",
       "      <td>0.009829</td>\n",
       "      <td>-0.005666</td>\n",
       "      <td>1.000000</td>\n",
       "      <td>0.339324</td>\n",
       "      <td>0.024984</td>\n",
       "      <td>-0.016719</td>\n",
       "      <td>-0.033966</td>\n",
       "    </tr>\n",
       "    <tr>\n",
       "      <td>alco</td>\n",
       "      <td>0.000502</td>\n",
       "      <td>-0.029025</td>\n",
       "      <td>0.170770</td>\n",
       "      <td>0.097886</td>\n",
       "      <td>0.067179</td>\n",
       "      <td>0.033604</td>\n",
       "      <td>0.035567</td>\n",
       "      <td>0.034563</td>\n",
       "      <td>0.010047</td>\n",
       "      <td>0.339324</td>\n",
       "      <td>1.000000</td>\n",
       "      <td>0.024485</td>\n",
       "      <td>-0.008904</td>\n",
       "      <td>0.017035</td>\n",
       "    </tr>\n",
       "    <tr>\n",
       "      <td>active</td>\n",
       "      <td>0.003606</td>\n",
       "      <td>-0.010246</td>\n",
       "      <td>0.005451</td>\n",
       "      <td>-0.009972</td>\n",
       "      <td>-0.017506</td>\n",
       "      <td>-0.001040</td>\n",
       "      <td>-0.000942</td>\n",
       "      <td>0.009041</td>\n",
       "      <td>-0.007589</td>\n",
       "      <td>0.024984</td>\n",
       "      <td>0.024485</td>\n",
       "      <td>1.000000</td>\n",
       "      <td>-0.037659</td>\n",
       "      <td>-0.013407</td>\n",
       "    </tr>\n",
       "    <tr>\n",
       "      <td>cardio</td>\n",
       "      <td>0.003435</td>\n",
       "      <td>0.239604</td>\n",
       "      <td>0.006588</td>\n",
       "      <td>-0.012304</td>\n",
       "      <td>0.179381</td>\n",
       "      <td>0.432182</td>\n",
       "      <td>0.341772</td>\n",
       "      <td>0.221083</td>\n",
       "      <td>0.088721</td>\n",
       "      <td>-0.016719</td>\n",
       "      <td>-0.008904</td>\n",
       "      <td>-0.037659</td>\n",
       "      <td>1.000000</td>\n",
       "      <td>0.190124</td>\n",
       "    </tr>\n",
       "    <tr>\n",
       "      <td>bmi</td>\n",
       "      <td>-0.000878</td>\n",
       "      <td>0.104315</td>\n",
       "      <td>-0.111723</td>\n",
       "      <td>-0.196987</td>\n",
       "      <td>0.863979</td>\n",
       "      <td>0.267735</td>\n",
       "      <td>0.240899</td>\n",
       "      <td>0.172702</td>\n",
       "      <td>0.119839</td>\n",
       "      <td>-0.033966</td>\n",
       "      <td>0.017035</td>\n",
       "      <td>-0.013407</td>\n",
       "      <td>0.190124</td>\n",
       "      <td>1.000000</td>\n",
       "    </tr>\n",
       "  </tbody>\n",
       "</table>\n",
       "</div>"
      ],
      "text/plain": [
       "                   id       age    gender    height    weight     ap_hi  \\\n",
       "id           1.000000  0.003183  0.002584 -0.002354 -0.001662  0.000267   \n",
       "age          0.003183  1.000000 -0.023181 -0.086633  0.055795  0.212319   \n",
       "gender       0.002584 -0.023181  1.000000  0.521007  0.157140  0.060710   \n",
       "height      -0.002354 -0.086633  0.521007  1.000000  0.311475  0.017466   \n",
       "weight      -0.001662  0.055795  0.157140  0.311475  1.000000  0.269427   \n",
       "ap_hi        0.000267  0.212319  0.060710  0.017466  0.269427  1.000000   \n",
       "ap_lo       -0.000875  0.157916  0.066279  0.035276  0.252192  0.730642   \n",
       "cholesterol  0.005824  0.155090 -0.036918 -0.055614  0.141214  0.195392   \n",
       "gluc         0.002325  0.098842 -0.021379 -0.021118  0.106792  0.092954   \n",
       "smoke       -0.003855 -0.047618  0.338606  0.195874  0.066886  0.025440   \n",
       "alco         0.000502 -0.029025  0.170770  0.097886  0.067179  0.033604   \n",
       "active       0.003606 -0.010246  0.005451 -0.009972 -0.017506 -0.001040   \n",
       "cardio       0.003435  0.239604  0.006588 -0.012304  0.179381  0.432182   \n",
       "bmi         -0.000878  0.104315 -0.111723 -0.196987  0.863979  0.267735   \n",
       "\n",
       "                ap_lo  cholesterol      gluc     smoke      alco    active  \\\n",
       "id          -0.000875     0.005824  0.002325 -0.003855  0.000502  0.003606   \n",
       "age          0.157916     0.155090  0.098842 -0.047618 -0.029025 -0.010246   \n",
       "gender       0.066279    -0.036918 -0.021379  0.338606  0.170770  0.005451   \n",
       "height       0.035276    -0.055614 -0.021118  0.195874  0.097886 -0.009972   \n",
       "weight       0.252192     0.141214  0.106792  0.066886  0.067179 -0.017506   \n",
       "ap_hi        0.730642     0.195392  0.092954  0.025440  0.033604 -0.001040   \n",
       "ap_lo        1.000000     0.161617  0.073586  0.022744  0.035567 -0.000942   \n",
       "cholesterol  0.161617     1.000000  0.450156  0.009829  0.034563  0.009041   \n",
       "gluc         0.073586     0.450156  1.000000 -0.005666  0.010047 -0.007589   \n",
       "smoke        0.022744     0.009829 -0.005666  1.000000  0.339324  0.024984   \n",
       "alco         0.035567     0.034563  0.010047  0.339324  1.000000  0.024485   \n",
       "active      -0.000942     0.009041 -0.007589  0.024984  0.024485  1.000000   \n",
       "cardio       0.341772     0.221083  0.088721 -0.016719 -0.008904 -0.037659   \n",
       "bmi          0.240899     0.172702  0.119839 -0.033966  0.017035 -0.013407   \n",
       "\n",
       "               cardio       bmi  \n",
       "id           0.003435 -0.000878  \n",
       "age          0.239604  0.104315  \n",
       "gender       0.006588 -0.111723  \n",
       "height      -0.012304 -0.196987  \n",
       "weight       0.179381  0.863979  \n",
       "ap_hi        0.432182  0.267735  \n",
       "ap_lo        0.341772  0.240899  \n",
       "cholesterol  0.221083  0.172702  \n",
       "gluc         0.088721  0.119839  \n",
       "smoke       -0.016719 -0.033966  \n",
       "alco        -0.008904  0.017035  \n",
       "active      -0.037659 -0.013407  \n",
       "cardio       1.000000  0.190124  \n",
       "bmi          0.190124  1.000000  "
      ]
     },
     "execution_count": 87,
     "metadata": {},
     "output_type": "execute_result"
    }
   ],
   "source": [
    "# Just ran for comparison.  I am more focused on Spearman's \n",
    "# cell below this one.\n",
    "dfcardiocorr = dfcardio.corr()\n",
    "dfcardiocorr"
   ]
  },
  {
   "cell_type": "code",
   "execution_count": 88,
   "metadata": {},
   "outputs": [
    {
     "data": {
      "text/html": [
       "<div>\n",
       "<style scoped>\n",
       "    .dataframe tbody tr th:only-of-type {\n",
       "        vertical-align: middle;\n",
       "    }\n",
       "\n",
       "    .dataframe tbody tr th {\n",
       "        vertical-align: top;\n",
       "    }\n",
       "\n",
       "    .dataframe thead th {\n",
       "        text-align: right;\n",
       "    }\n",
       "</style>\n",
       "<table border=\"1\" class=\"dataframe\">\n",
       "  <thead>\n",
       "    <tr style=\"text-align: right;\">\n",
       "      <th></th>\n",
       "      <th>id</th>\n",
       "      <th>age</th>\n",
       "      <th>gender</th>\n",
       "      <th>height</th>\n",
       "      <th>weight</th>\n",
       "      <th>ap_hi</th>\n",
       "      <th>ap_lo</th>\n",
       "      <th>cholesterol</th>\n",
       "      <th>gluc</th>\n",
       "      <th>smoke</th>\n",
       "      <th>alco</th>\n",
       "      <th>active</th>\n",
       "      <th>cardio</th>\n",
       "      <th>bmi</th>\n",
       "    </tr>\n",
       "  </thead>\n",
       "  <tbody>\n",
       "    <tr>\n",
       "      <td>id</td>\n",
       "      <td>1.000000</td>\n",
       "      <td>0.002511</td>\n",
       "      <td>0.002590</td>\n",
       "      <td>-0.001386</td>\n",
       "      <td>-0.001703</td>\n",
       "      <td>0.002809</td>\n",
       "      <td>-0.000749</td>\n",
       "      <td>0.005485</td>\n",
       "      <td>0.002436</td>\n",
       "      <td>-0.003854</td>\n",
       "      <td>0.000504</td>\n",
       "      <td>0.003617</td>\n",
       "      <td>0.003437</td>\n",
       "      <td>-0.001260</td>\n",
       "    </tr>\n",
       "    <tr>\n",
       "      <td>age</td>\n",
       "      <td>0.002511</td>\n",
       "      <td>1.000000</td>\n",
       "      <td>-0.020552</td>\n",
       "      <td>-0.082121</td>\n",
       "      <td>0.062833</td>\n",
       "      <td>0.223100</td>\n",
       "      <td>0.158474</td>\n",
       "      <td>0.140641</td>\n",
       "      <td>0.091939</td>\n",
       "      <td>-0.047458</td>\n",
       "      <td>-0.029378</td>\n",
       "      <td>-0.010612</td>\n",
       "      <td>0.236163</td>\n",
       "      <td>0.109413</td>\n",
       "    </tr>\n",
       "    <tr>\n",
       "      <td>gender</td>\n",
       "      <td>0.002590</td>\n",
       "      <td>-0.020552</td>\n",
       "      <td>1.000000</td>\n",
       "      <td>0.534083</td>\n",
       "      <td>0.172860</td>\n",
       "      <td>0.062583</td>\n",
       "      <td>0.063974</td>\n",
       "      <td>-0.036963</td>\n",
       "      <td>-0.020023</td>\n",
       "      <td>0.338606</td>\n",
       "      <td>0.170770</td>\n",
       "      <td>0.005451</td>\n",
       "      <td>0.006588</td>\n",
       "      <td>-0.088298</td>\n",
       "    </tr>\n",
       "    <tr>\n",
       "      <td>height</td>\n",
       "      <td>-0.001386</td>\n",
       "      <td>-0.082121</td>\n",
       "      <td>0.534083</td>\n",
       "      <td>1.000000</td>\n",
       "      <td>0.316142</td>\n",
       "      <td>0.021054</td>\n",
       "      <td>0.031449</td>\n",
       "      <td>-0.060419</td>\n",
       "      <td>-0.024727</td>\n",
       "      <td>0.197672</td>\n",
       "      <td>0.096681</td>\n",
       "      <td>-0.008605</td>\n",
       "      <td>-0.012451</td>\n",
       "      <td>-0.179343</td>\n",
       "    </tr>\n",
       "    <tr>\n",
       "      <td>weight</td>\n",
       "      <td>-0.001703</td>\n",
       "      <td>0.062833</td>\n",
       "      <td>0.172860</td>\n",
       "      <td>0.316142</td>\n",
       "      <td>1.000000</td>\n",
       "      <td>0.276942</td>\n",
       "      <td>0.250260</td>\n",
       "      <td>0.136193</td>\n",
       "      <td>0.109230</td>\n",
       "      <td>0.071114</td>\n",
       "      <td>0.067813</td>\n",
       "      <td>-0.015268</td>\n",
       "      <td>0.179709</td>\n",
       "      <td>0.847056</td>\n",
       "    </tr>\n",
       "    <tr>\n",
       "      <td>ap_hi</td>\n",
       "      <td>0.002809</td>\n",
       "      <td>0.223100</td>\n",
       "      <td>0.062583</td>\n",
       "      <td>0.021054</td>\n",
       "      <td>0.276942</td>\n",
       "      <td>1.000000</td>\n",
       "      <td>0.741704</td>\n",
       "      <td>0.207697</td>\n",
       "      <td>0.105473</td>\n",
       "      <td>0.027221</td>\n",
       "      <td>0.034104</td>\n",
       "      <td>-0.003684</td>\n",
       "      <td>0.451041</td>\n",
       "      <td>0.279513</td>\n",
       "    </tr>\n",
       "    <tr>\n",
       "      <td>ap_lo</td>\n",
       "      <td>-0.000749</td>\n",
       "      <td>0.158474</td>\n",
       "      <td>0.063974</td>\n",
       "      <td>0.031449</td>\n",
       "      <td>0.250260</td>\n",
       "      <td>0.741704</td>\n",
       "      <td>1.000000</td>\n",
       "      <td>0.165536</td>\n",
       "      <td>0.080434</td>\n",
       "      <td>0.023169</td>\n",
       "      <td>0.035119</td>\n",
       "      <td>0.001817</td>\n",
       "      <td>0.355741</td>\n",
       "      <td>0.245878</td>\n",
       "    </tr>\n",
       "    <tr>\n",
       "      <td>cholesterol</td>\n",
       "      <td>0.005485</td>\n",
       "      <td>0.140641</td>\n",
       "      <td>-0.036963</td>\n",
       "      <td>-0.060419</td>\n",
       "      <td>0.136193</td>\n",
       "      <td>0.207697</td>\n",
       "      <td>0.165536</td>\n",
       "      <td>1.000000</td>\n",
       "      <td>0.406243</td>\n",
       "      <td>0.014873</td>\n",
       "      <td>0.039969</td>\n",
       "      <td>0.006567</td>\n",
       "      <td>0.214716</td>\n",
       "      <td>0.173237</td>\n",
       "    </tr>\n",
       "    <tr>\n",
       "      <td>gluc</td>\n",
       "      <td>0.002436</td>\n",
       "      <td>0.091939</td>\n",
       "      <td>-0.020023</td>\n",
       "      <td>-0.024727</td>\n",
       "      <td>0.109230</td>\n",
       "      <td>0.105473</td>\n",
       "      <td>0.080434</td>\n",
       "      <td>0.406243</td>\n",
       "      <td>1.000000</td>\n",
       "      <td>-0.000447</td>\n",
       "      <td>0.017122</td>\n",
       "      <td>-0.009572</td>\n",
       "      <td>0.090781</td>\n",
       "      <td>0.127919</td>\n",
       "    </tr>\n",
       "    <tr>\n",
       "      <td>smoke</td>\n",
       "      <td>-0.003854</td>\n",
       "      <td>-0.047458</td>\n",
       "      <td>0.338606</td>\n",
       "      <td>0.197672</td>\n",
       "      <td>0.071114</td>\n",
       "      <td>0.027221</td>\n",
       "      <td>0.023169</td>\n",
       "      <td>0.014873</td>\n",
       "      <td>-0.000447</td>\n",
       "      <td>1.000000</td>\n",
       "      <td>0.339324</td>\n",
       "      <td>0.024984</td>\n",
       "      <td>-0.016719</td>\n",
       "      <td>-0.025374</td>\n",
       "    </tr>\n",
       "    <tr>\n",
       "      <td>alco</td>\n",
       "      <td>0.000504</td>\n",
       "      <td>-0.029378</td>\n",
       "      <td>0.170770</td>\n",
       "      <td>0.096681</td>\n",
       "      <td>0.067813</td>\n",
       "      <td>0.034104</td>\n",
       "      <td>0.035119</td>\n",
       "      <td>0.039969</td>\n",
       "      <td>0.017122</td>\n",
       "      <td>0.339324</td>\n",
       "      <td>1.000000</td>\n",
       "      <td>0.024485</td>\n",
       "      <td>-0.008904</td>\n",
       "      <td>0.022216</td>\n",
       "    </tr>\n",
       "    <tr>\n",
       "      <td>active</td>\n",
       "      <td>0.003617</td>\n",
       "      <td>-0.010612</td>\n",
       "      <td>0.005451</td>\n",
       "      <td>-0.008605</td>\n",
       "      <td>-0.015268</td>\n",
       "      <td>-0.003684</td>\n",
       "      <td>0.001817</td>\n",
       "      <td>0.006567</td>\n",
       "      <td>-0.009572</td>\n",
       "      <td>0.024984</td>\n",
       "      <td>0.024485</td>\n",
       "      <td>1.000000</td>\n",
       "      <td>-0.037659</td>\n",
       "      <td>-0.009359</td>\n",
       "    </tr>\n",
       "    <tr>\n",
       "      <td>cardio</td>\n",
       "      <td>0.003437</td>\n",
       "      <td>0.236163</td>\n",
       "      <td>0.006588</td>\n",
       "      <td>-0.012451</td>\n",
       "      <td>0.179709</td>\n",
       "      <td>0.451041</td>\n",
       "      <td>0.355741</td>\n",
       "      <td>0.214716</td>\n",
       "      <td>0.090781</td>\n",
       "      <td>-0.016719</td>\n",
       "      <td>-0.008904</td>\n",
       "      <td>-0.037659</td>\n",
       "      <td>1.000000</td>\n",
       "      <td>0.196045</td>\n",
       "    </tr>\n",
       "    <tr>\n",
       "      <td>bmi</td>\n",
       "      <td>-0.001260</td>\n",
       "      <td>0.109413</td>\n",
       "      <td>-0.088298</td>\n",
       "      <td>-0.179343</td>\n",
       "      <td>0.847056</td>\n",
       "      <td>0.279513</td>\n",
       "      <td>0.245878</td>\n",
       "      <td>0.173237</td>\n",
       "      <td>0.127919</td>\n",
       "      <td>-0.025374</td>\n",
       "      <td>0.022216</td>\n",
       "      <td>-0.009359</td>\n",
       "      <td>0.196045</td>\n",
       "      <td>1.000000</td>\n",
       "    </tr>\n",
       "  </tbody>\n",
       "</table>\n",
       "</div>"
      ],
      "text/plain": [
       "                   id       age    gender    height    weight     ap_hi  \\\n",
       "id           1.000000  0.002511  0.002590 -0.001386 -0.001703  0.002809   \n",
       "age          0.002511  1.000000 -0.020552 -0.082121  0.062833  0.223100   \n",
       "gender       0.002590 -0.020552  1.000000  0.534083  0.172860  0.062583   \n",
       "height      -0.001386 -0.082121  0.534083  1.000000  0.316142  0.021054   \n",
       "weight      -0.001703  0.062833  0.172860  0.316142  1.000000  0.276942   \n",
       "ap_hi        0.002809  0.223100  0.062583  0.021054  0.276942  1.000000   \n",
       "ap_lo       -0.000749  0.158474  0.063974  0.031449  0.250260  0.741704   \n",
       "cholesterol  0.005485  0.140641 -0.036963 -0.060419  0.136193  0.207697   \n",
       "gluc         0.002436  0.091939 -0.020023 -0.024727  0.109230  0.105473   \n",
       "smoke       -0.003854 -0.047458  0.338606  0.197672  0.071114  0.027221   \n",
       "alco         0.000504 -0.029378  0.170770  0.096681  0.067813  0.034104   \n",
       "active       0.003617 -0.010612  0.005451 -0.008605 -0.015268 -0.003684   \n",
       "cardio       0.003437  0.236163  0.006588 -0.012451  0.179709  0.451041   \n",
       "bmi         -0.001260  0.109413 -0.088298 -0.179343  0.847056  0.279513   \n",
       "\n",
       "                ap_lo  cholesterol      gluc     smoke      alco    active  \\\n",
       "id          -0.000749     0.005485  0.002436 -0.003854  0.000504  0.003617   \n",
       "age          0.158474     0.140641  0.091939 -0.047458 -0.029378 -0.010612   \n",
       "gender       0.063974    -0.036963 -0.020023  0.338606  0.170770  0.005451   \n",
       "height       0.031449    -0.060419 -0.024727  0.197672  0.096681 -0.008605   \n",
       "weight       0.250260     0.136193  0.109230  0.071114  0.067813 -0.015268   \n",
       "ap_hi        0.741704     0.207697  0.105473  0.027221  0.034104 -0.003684   \n",
       "ap_lo        1.000000     0.165536  0.080434  0.023169  0.035119  0.001817   \n",
       "cholesterol  0.165536     1.000000  0.406243  0.014873  0.039969  0.006567   \n",
       "gluc         0.080434     0.406243  1.000000 -0.000447  0.017122 -0.009572   \n",
       "smoke        0.023169     0.014873 -0.000447  1.000000  0.339324  0.024984   \n",
       "alco         0.035119     0.039969  0.017122  0.339324  1.000000  0.024485   \n",
       "active       0.001817     0.006567 -0.009572  0.024984  0.024485  1.000000   \n",
       "cardio       0.355741     0.214716  0.090781 -0.016719 -0.008904 -0.037659   \n",
       "bmi          0.245878     0.173237  0.127919 -0.025374  0.022216 -0.009359   \n",
       "\n",
       "               cardio       bmi  \n",
       "id           0.003437 -0.001260  \n",
       "age          0.236163  0.109413  \n",
       "gender       0.006588 -0.088298  \n",
       "height      -0.012451 -0.179343  \n",
       "weight       0.179709  0.847056  \n",
       "ap_hi        0.451041  0.279513  \n",
       "ap_lo        0.355741  0.245878  \n",
       "cholesterol  0.214716  0.173237  \n",
       "gluc         0.090781  0.127919  \n",
       "smoke       -0.016719 -0.025374  \n",
       "alco        -0.008904  0.022216  \n",
       "active      -0.037659 -0.009359  \n",
       "cardio       1.000000  0.196045  \n",
       "bmi          0.196045  1.000000  "
      ]
     },
     "execution_count": 88,
     "metadata": {},
     "output_type": "execute_result"
    }
   ],
   "source": [
    "# Spearman \n",
    "dfcardiocorrspear = dfcardio.corr(method='spearman')\n",
    "dfmcardiocorrspear = df_male[['age','ap_hi','ap_lo','cardio','bmi','cholesterol']].corr(method='spearman')\n",
    "dffcardiocorrspear = df_female[['age', 'ap_hi','ap_lo','cardio','bmi','cholesterol']].corr(method='spearman')\n",
    "dfcardiocorrspear"
   ]
  },
  {
   "cell_type": "code",
   "execution_count": 89,
   "metadata": {},
   "outputs": [
    {
     "data": {
      "text/html": [
       "<div>\n",
       "<style scoped>\n",
       "    .dataframe tbody tr th:only-of-type {\n",
       "        vertical-align: middle;\n",
       "    }\n",
       "\n",
       "    .dataframe tbody tr th {\n",
       "        vertical-align: top;\n",
       "    }\n",
       "\n",
       "    .dataframe thead th {\n",
       "        text-align: right;\n",
       "    }\n",
       "</style>\n",
       "<table border=\"1\" class=\"dataframe\">\n",
       "  <thead>\n",
       "    <tr style=\"text-align: right;\">\n",
       "      <th></th>\n",
       "      <th>cardio</th>\n",
       "      <th>age</th>\n",
       "      <th>weight</th>\n",
       "      <th>height</th>\n",
       "      <th>ap_hi</th>\n",
       "      <th>ap_lo</th>\n",
       "      <th>cholesterol</th>\n",
       "    </tr>\n",
       "  </thead>\n",
       "  <tbody>\n",
       "    <tr>\n",
       "      <td>cardio</td>\n",
       "      <td>1.000000</td>\n",
       "      <td>0.236163</td>\n",
       "      <td>0.179709</td>\n",
       "      <td>-0.012451</td>\n",
       "      <td>0.451041</td>\n",
       "      <td>0.355741</td>\n",
       "      <td>0.214716</td>\n",
       "    </tr>\n",
       "    <tr>\n",
       "      <td>age</td>\n",
       "      <td>0.236163</td>\n",
       "      <td>1.000000</td>\n",
       "      <td>0.062833</td>\n",
       "      <td>-0.082121</td>\n",
       "      <td>0.223100</td>\n",
       "      <td>0.158474</td>\n",
       "      <td>0.140641</td>\n",
       "    </tr>\n",
       "    <tr>\n",
       "      <td>weight</td>\n",
       "      <td>0.179709</td>\n",
       "      <td>0.062833</td>\n",
       "      <td>1.000000</td>\n",
       "      <td>0.316142</td>\n",
       "      <td>0.276942</td>\n",
       "      <td>0.250260</td>\n",
       "      <td>0.136193</td>\n",
       "    </tr>\n",
       "    <tr>\n",
       "      <td>height</td>\n",
       "      <td>-0.012451</td>\n",
       "      <td>-0.082121</td>\n",
       "      <td>0.316142</td>\n",
       "      <td>1.000000</td>\n",
       "      <td>0.021054</td>\n",
       "      <td>0.031449</td>\n",
       "      <td>-0.060419</td>\n",
       "    </tr>\n",
       "    <tr>\n",
       "      <td>ap_hi</td>\n",
       "      <td>0.451041</td>\n",
       "      <td>0.223100</td>\n",
       "      <td>0.276942</td>\n",
       "      <td>0.021054</td>\n",
       "      <td>1.000000</td>\n",
       "      <td>0.741704</td>\n",
       "      <td>0.207697</td>\n",
       "    </tr>\n",
       "    <tr>\n",
       "      <td>ap_lo</td>\n",
       "      <td>0.355741</td>\n",
       "      <td>0.158474</td>\n",
       "      <td>0.250260</td>\n",
       "      <td>0.031449</td>\n",
       "      <td>0.741704</td>\n",
       "      <td>1.000000</td>\n",
       "      <td>0.165536</td>\n",
       "    </tr>\n",
       "    <tr>\n",
       "      <td>cholesterol</td>\n",
       "      <td>0.214716</td>\n",
       "      <td>0.140641</td>\n",
       "      <td>0.136193</td>\n",
       "      <td>-0.060419</td>\n",
       "      <td>0.207697</td>\n",
       "      <td>0.165536</td>\n",
       "      <td>1.000000</td>\n",
       "    </tr>\n",
       "  </tbody>\n",
       "</table>\n",
       "</div>"
      ],
      "text/plain": [
       "               cardio       age    weight    height     ap_hi     ap_lo  \\\n",
       "cardio       1.000000  0.236163  0.179709 -0.012451  0.451041  0.355741   \n",
       "age          0.236163  1.000000  0.062833 -0.082121  0.223100  0.158474   \n",
       "weight       0.179709  0.062833  1.000000  0.316142  0.276942  0.250260   \n",
       "height      -0.012451 -0.082121  0.316142  1.000000  0.021054  0.031449   \n",
       "ap_hi        0.451041  0.223100  0.276942  0.021054  1.000000  0.741704   \n",
       "ap_lo        0.355741  0.158474  0.250260  0.031449  0.741704  1.000000   \n",
       "cholesterol  0.214716  0.140641  0.136193 -0.060419  0.207697  0.165536   \n",
       "\n",
       "             cholesterol  \n",
       "cardio          0.214716  \n",
       "age             0.140641  \n",
       "weight          0.136193  \n",
       "height         -0.060419  \n",
       "ap_hi           0.207697  \n",
       "ap_lo           0.165536  \n",
       "cholesterol     1.000000  "
      ]
     },
     "execution_count": 89,
     "metadata": {},
     "output_type": "execute_result"
    }
   ],
   "source": [
    "# Split for readability of results\n",
    "dfcardioAcorrspear = dfcardio[['cardio','age','weight','height','ap_hi','ap_lo','cholesterol']].corr(method='spearman')\n",
    "dfcardioAcorrspear"
   ]
  },
  {
   "cell_type": "code",
   "execution_count": 90,
   "metadata": {},
   "outputs": [
    {
     "data": {
      "text/html": [
       "<div>\n",
       "<style scoped>\n",
       "    .dataframe tbody tr th:only-of-type {\n",
       "        vertical-align: middle;\n",
       "    }\n",
       "\n",
       "    .dataframe tbody tr th {\n",
       "        vertical-align: top;\n",
       "    }\n",
       "\n",
       "    .dataframe thead th {\n",
       "        text-align: right;\n",
       "    }\n",
       "</style>\n",
       "<table border=\"1\" class=\"dataframe\">\n",
       "  <thead>\n",
       "    <tr style=\"text-align: right;\">\n",
       "      <th></th>\n",
       "      <th>cardio</th>\n",
       "      <th>bmi</th>\n",
       "      <th>height</th>\n",
       "      <th>smoke</th>\n",
       "      <th>alco</th>\n",
       "      <th>active</th>\n",
       "      <th>gluc</th>\n",
       "    </tr>\n",
       "  </thead>\n",
       "  <tbody>\n",
       "    <tr>\n",
       "      <td>cardio</td>\n",
       "      <td>1.000000</td>\n",
       "      <td>0.196045</td>\n",
       "      <td>-0.012451</td>\n",
       "      <td>-0.016719</td>\n",
       "      <td>-0.008904</td>\n",
       "      <td>-0.037659</td>\n",
       "      <td>0.090781</td>\n",
       "    </tr>\n",
       "    <tr>\n",
       "      <td>bmi</td>\n",
       "      <td>0.196045</td>\n",
       "      <td>1.000000</td>\n",
       "      <td>-0.179343</td>\n",
       "      <td>-0.025374</td>\n",
       "      <td>0.022216</td>\n",
       "      <td>-0.009359</td>\n",
       "      <td>0.127919</td>\n",
       "    </tr>\n",
       "    <tr>\n",
       "      <td>height</td>\n",
       "      <td>-0.012451</td>\n",
       "      <td>-0.179343</td>\n",
       "      <td>1.000000</td>\n",
       "      <td>0.197672</td>\n",
       "      <td>0.096681</td>\n",
       "      <td>-0.008605</td>\n",
       "      <td>-0.024727</td>\n",
       "    </tr>\n",
       "    <tr>\n",
       "      <td>smoke</td>\n",
       "      <td>-0.016719</td>\n",
       "      <td>-0.025374</td>\n",
       "      <td>0.197672</td>\n",
       "      <td>1.000000</td>\n",
       "      <td>0.339324</td>\n",
       "      <td>0.024984</td>\n",
       "      <td>-0.000447</td>\n",
       "    </tr>\n",
       "    <tr>\n",
       "      <td>alco</td>\n",
       "      <td>-0.008904</td>\n",
       "      <td>0.022216</td>\n",
       "      <td>0.096681</td>\n",
       "      <td>0.339324</td>\n",
       "      <td>1.000000</td>\n",
       "      <td>0.024485</td>\n",
       "      <td>0.017122</td>\n",
       "    </tr>\n",
       "    <tr>\n",
       "      <td>active</td>\n",
       "      <td>-0.037659</td>\n",
       "      <td>-0.009359</td>\n",
       "      <td>-0.008605</td>\n",
       "      <td>0.024984</td>\n",
       "      <td>0.024485</td>\n",
       "      <td>1.000000</td>\n",
       "      <td>-0.009572</td>\n",
       "    </tr>\n",
       "    <tr>\n",
       "      <td>gluc</td>\n",
       "      <td>0.090781</td>\n",
       "      <td>0.127919</td>\n",
       "      <td>-0.024727</td>\n",
       "      <td>-0.000447</td>\n",
       "      <td>0.017122</td>\n",
       "      <td>-0.009572</td>\n",
       "      <td>1.000000</td>\n",
       "    </tr>\n",
       "  </tbody>\n",
       "</table>\n",
       "</div>"
      ],
      "text/plain": [
       "          cardio       bmi    height     smoke      alco    active      gluc\n",
       "cardio  1.000000  0.196045 -0.012451 -0.016719 -0.008904 -0.037659  0.090781\n",
       "bmi     0.196045  1.000000 -0.179343 -0.025374  0.022216 -0.009359  0.127919\n",
       "height -0.012451 -0.179343  1.000000  0.197672  0.096681 -0.008605 -0.024727\n",
       "smoke  -0.016719 -0.025374  0.197672  1.000000  0.339324  0.024984 -0.000447\n",
       "alco   -0.008904  0.022216  0.096681  0.339324  1.000000  0.024485  0.017122\n",
       "active -0.037659 -0.009359 -0.008605  0.024984  0.024485  1.000000 -0.009572\n",
       "gluc    0.090781  0.127919 -0.024727 -0.000447  0.017122 -0.009572  1.000000"
      ]
     },
     "execution_count": 90,
     "metadata": {},
     "output_type": "execute_result"
    }
   ],
   "source": [
    "# Split for readability of results\n",
    "dfcardioBcorrspear = dfcardio[['cardio','bmi','height','smoke','alco','active','gluc']].corr(method='spearman')\n",
    "dfcardioBcorrspear"
   ]
  },
  {
   "cell_type": "markdown",
   "metadata": {},
   "source": [
    "The value for pearsons correlation betwee BMI and cardio is slightly higher.  Since\n",
    "I have reduced most outliers this is most likely due to the nonlineear nature of \n",
    "the relationship."
   ]
  },
  {
   "cell_type": "markdown",
   "metadata": {},
   "source": [
    "### Male"
   ]
  },
  {
   "cell_type": "code",
   "execution_count": 91,
   "metadata": {},
   "outputs": [
    {
     "data": {
      "text/html": [
       "<div>\n",
       "<style scoped>\n",
       "    .dataframe tbody tr th:only-of-type {\n",
       "        vertical-align: middle;\n",
       "    }\n",
       "\n",
       "    .dataframe tbody tr th {\n",
       "        vertical-align: top;\n",
       "    }\n",
       "\n",
       "    .dataframe thead th {\n",
       "        text-align: right;\n",
       "    }\n",
       "</style>\n",
       "<table border=\"1\" class=\"dataframe\">\n",
       "  <thead>\n",
       "    <tr style=\"text-align: right;\">\n",
       "      <th></th>\n",
       "      <th>age</th>\n",
       "      <th>ap_hi</th>\n",
       "      <th>ap_lo</th>\n",
       "      <th>cardio</th>\n",
       "      <th>bmi</th>\n",
       "      <th>cholesterol</th>\n",
       "    </tr>\n",
       "  </thead>\n",
       "  <tbody>\n",
       "    <tr>\n",
       "      <td>age</td>\n",
       "      <td>1.000000</td>\n",
       "      <td>0.184715</td>\n",
       "      <td>0.124578</td>\n",
       "      <td>0.205867</td>\n",
       "      <td>0.075539</td>\n",
       "      <td>0.120858</td>\n",
       "    </tr>\n",
       "    <tr>\n",
       "      <td>ap_hi</td>\n",
       "      <td>0.184715</td>\n",
       "      <td>1.000000</td>\n",
       "      <td>0.726839</td>\n",
       "      <td>0.444406</td>\n",
       "      <td>0.277819</td>\n",
       "      <td>0.210524</td>\n",
       "    </tr>\n",
       "    <tr>\n",
       "      <td>ap_lo</td>\n",
       "      <td>0.124578</td>\n",
       "      <td>0.726839</td>\n",
       "      <td>1.000000</td>\n",
       "      <td>0.346984</td>\n",
       "      <td>0.248234</td>\n",
       "      <td>0.169775</td>\n",
       "    </tr>\n",
       "    <tr>\n",
       "      <td>cardio</td>\n",
       "      <td>0.205867</td>\n",
       "      <td>0.444406</td>\n",
       "      <td>0.346984</td>\n",
       "      <td>1.000000</td>\n",
       "      <td>0.199612</td>\n",
       "      <td>0.207231</td>\n",
       "    </tr>\n",
       "    <tr>\n",
       "      <td>bmi</td>\n",
       "      <td>0.075539</td>\n",
       "      <td>0.277819</td>\n",
       "      <td>0.248234</td>\n",
       "      <td>0.199612</td>\n",
       "      <td>1.000000</td>\n",
       "      <td>0.155443</td>\n",
       "    </tr>\n",
       "    <tr>\n",
       "      <td>cholesterol</td>\n",
       "      <td>0.120858</td>\n",
       "      <td>0.210524</td>\n",
       "      <td>0.169775</td>\n",
       "      <td>0.207231</td>\n",
       "      <td>0.155443</td>\n",
       "      <td>1.000000</td>\n",
       "    </tr>\n",
       "  </tbody>\n",
       "</table>\n",
       "</div>"
      ],
      "text/plain": [
       "                  age     ap_hi     ap_lo    cardio       bmi  cholesterol\n",
       "age          1.000000  0.184715  0.124578  0.205867  0.075539     0.120858\n",
       "ap_hi        0.184715  1.000000  0.726839  0.444406  0.277819     0.210524\n",
       "ap_lo        0.124578  0.726839  1.000000  0.346984  0.248234     0.169775\n",
       "cardio       0.205867  0.444406  0.346984  1.000000  0.199612     0.207231\n",
       "bmi          0.075539  0.277819  0.248234  0.199612  1.000000     0.155443\n",
       "cholesterol  0.120858  0.210524  0.169775  0.207231  0.155443     1.000000"
      ]
     },
     "execution_count": 91,
     "metadata": {},
     "output_type": "execute_result"
    }
   ],
   "source": [
    "dfmcardiocorrspear"
   ]
  },
  {
   "cell_type": "markdown",
   "metadata": {},
   "source": [
    "### Female "
   ]
  },
  {
   "cell_type": "code",
   "execution_count": 92,
   "metadata": {},
   "outputs": [
    {
     "data": {
      "text/html": [
       "<div>\n",
       "<style scoped>\n",
       "    .dataframe tbody tr th:only-of-type {\n",
       "        vertical-align: middle;\n",
       "    }\n",
       "\n",
       "    .dataframe tbody tr th {\n",
       "        vertical-align: top;\n",
       "    }\n",
       "\n",
       "    .dataframe thead th {\n",
       "        text-align: right;\n",
       "    }\n",
       "</style>\n",
       "<table border=\"1\" class=\"dataframe\">\n",
       "  <thead>\n",
       "    <tr style=\"text-align: right;\">\n",
       "      <th></th>\n",
       "      <th>age</th>\n",
       "      <th>ap_hi</th>\n",
       "      <th>ap_lo</th>\n",
       "      <th>cardio</th>\n",
       "      <th>bmi</th>\n",
       "      <th>cholesterol</th>\n",
       "    </tr>\n",
       "  </thead>\n",
       "  <tbody>\n",
       "    <tr>\n",
       "      <td>age</td>\n",
       "      <td>1.000000</td>\n",
       "      <td>0.247048</td>\n",
       "      <td>0.180096</td>\n",
       "      <td>0.253629</td>\n",
       "      <td>0.124868</td>\n",
       "      <td>0.150434</td>\n",
       "    </tr>\n",
       "    <tr>\n",
       "      <td>ap_hi</td>\n",
       "      <td>0.247048</td>\n",
       "      <td>1.000000</td>\n",
       "      <td>0.748535</td>\n",
       "      <td>0.455406</td>\n",
       "      <td>0.291368</td>\n",
       "      <td>0.210616</td>\n",
       "    </tr>\n",
       "    <tr>\n",
       "      <td>ap_lo</td>\n",
       "      <td>0.180096</td>\n",
       "      <td>0.748535</td>\n",
       "      <td>1.000000</td>\n",
       "      <td>0.361207</td>\n",
       "      <td>0.255891</td>\n",
       "      <td>0.167914</td>\n",
       "    </tr>\n",
       "    <tr>\n",
       "      <td>cardio</td>\n",
       "      <td>0.253629</td>\n",
       "      <td>0.455406</td>\n",
       "      <td>0.361207</td>\n",
       "      <td>1.000000</td>\n",
       "      <td>0.197206</td>\n",
       "      <td>0.219454</td>\n",
       "    </tr>\n",
       "    <tr>\n",
       "      <td>bmi</td>\n",
       "      <td>0.124868</td>\n",
       "      <td>0.291368</td>\n",
       "      <td>0.255891</td>\n",
       "      <td>0.197206</td>\n",
       "      <td>1.000000</td>\n",
       "      <td>0.178949</td>\n",
       "    </tr>\n",
       "    <tr>\n",
       "      <td>cholesterol</td>\n",
       "      <td>0.150434</td>\n",
       "      <td>0.210616</td>\n",
       "      <td>0.167914</td>\n",
       "      <td>0.219454</td>\n",
       "      <td>0.178949</td>\n",
       "      <td>1.000000</td>\n",
       "    </tr>\n",
       "  </tbody>\n",
       "</table>\n",
       "</div>"
      ],
      "text/plain": [
       "                  age     ap_hi     ap_lo    cardio       bmi  cholesterol\n",
       "age          1.000000  0.247048  0.180096  0.253629  0.124868     0.150434\n",
       "ap_hi        0.247048  1.000000  0.748535  0.455406  0.291368     0.210616\n",
       "ap_lo        0.180096  0.748535  1.000000  0.361207  0.255891     0.167914\n",
       "cardio       0.253629  0.455406  0.361207  1.000000  0.197206     0.219454\n",
       "bmi          0.124868  0.291368  0.255891  0.197206  1.000000     0.178949\n",
       "cholesterol  0.150434  0.210616  0.167914  0.219454  0.178949     1.000000"
      ]
     },
     "execution_count": 92,
     "metadata": {},
     "output_type": "execute_result"
    }
   ],
   "source": [
    "dffcardiocorrspear"
   ]
  },
  {
   "cell_type": "markdown",
   "metadata": {},
   "source": [
    "There is not a major difference between the correlation of male or female\n",
    "to the total, but it is slightly higher for females.  Age seems to be an interesting exception.  "
   ]
  },
  {
   "cell_type": "markdown",
   "metadata": {},
   "source": [
    "### Overall Correlation Heat Map\n",
    "Given the non linear and non normal distribution of much of the data, I selected Spearman\n",
    "for further analysis.  "
   ]
  },
  {
   "cell_type": "code",
   "execution_count": 93,
   "metadata": {},
   "outputs": [
    {
     "data": {
      "text/plain": [
       "(14.0, 0)"
      ]
     },
     "execution_count": 93,
     "metadata": {},
     "output_type": "execute_result"
    },
    {
     "data": {
      "image/png": "[encoded data removed]",
      "text/plain": [
       "<Figure size 1008x1008 with 2 Axes>"
      ]
     },
     "metadata": {},
     "output_type": "display_data"
    }
   ],
   "source": [
    "sns.set(style=\"white\")\n",
    "\n",
    "\n",
    "# Generate a mask for the upper triangle\n",
    "mask = np.zeros_like(dfcardiocorrspear, dtype=np.bool)\n",
    "mask[np.triu_indices_from(mask)] = True\n",
    "\n",
    "# Set up the matplotlib figure\n",
    "f, ax = plt.subplots(figsize=(14, 14))\n",
    "ax.set_ylim(len(dfcardiocorrspear)-0.5, -0.5)\n",
    "\n",
    "# Generate a custom diverging colormap\n",
    "cmap = sns.diverging_palette(220, 10, as_cmap=True)\n",
    "\n",
    "# Draw the heatmap with the mask and correct aspect ratio\n",
    "sns.heatmap(dfcardiocorrspear, annot=True, mask=mask, cmap=cmap, vmax=.3, center=0,\n",
    "            square=True, linewidths=.5, cbar_kws={\"shrink\": .5})\n",
    "\n",
    "ax.set_ylim(14.0, 0) # Addresses known bug in package with Jupyter\n"
   ]
  },
  {
   "cell_type": "markdown",
   "metadata": {},
   "source": [
    "Interestingly blood pressure and age had a stronger positive correlation than BMI.\n",
    "Since weight was used to build bmi, it makes sense that there is a strong correlation there.\n",
    "Having a high systolic or ap_hi correlates strongly with a high distolic or ap_lo."
   ]
  },
  {
   "cell_type": "markdown",
   "metadata": {},
   "source": [
    "<h1><center>Hypothesis Testing</center></h1>"
   ]
  },
  {
   "cell_type": "markdown",
   "metadata": {},
   "source": [
    "### Spearmanr Correlation Testing"
   ]
  },
  {
   "cell_type": "markdown",
   "metadata": {},
   "source": [
    "H0 is that there is no correlation between gender and heart disease (cardio = 1)  \n",
    "H1 is that there is a correlation between gender and heart disease (cardio = 1)"
   ]
  },
  {
   "cell_type": "code",
   "execution_count": 94,
   "metadata": {},
   "outputs": [
    {
     "name": "stdout",
     "output_type": "stream",
     "text": [
      "Spearmans correlation coefficient: 0.007\n",
      "Samples are uncorrelated (fail to reject H0) p=0.085\n"
     ]
    }
   ],
   "source": [
    "# Cardio - Gender Correlation\n",
    "# Test weakest relation first to verify function.\n",
    "# Also a test of gender as an additional \n",
    "# concern of the hypothesis\n",
    "coef, p = spearmanr(dfcardio.cardio, dfcardio.gender)\n",
    "# print (p)\n",
    "alpha = 0.05\n",
    "print('Spearmans correlation coefficient: %.3f' % coef)\n",
    "if p > alpha:\n",
    "    print('Samples are uncorrelated (fail to reject H0) p=%.3f' % p)\n",
    "else:\n",
    "    print('Samples are correlated (reject H0) p=%.3f' % p)"
   ]
  },
  {
   "cell_type": "markdown",
   "metadata": {},
   "source": [
    "H0 is that there is no correlation between BMI and heart disease (cardio = 1) \n",
    "H1 is that there is a correlation between BMI and heart disease (cardio = 1)"
   ]
  },
  {
   "cell_type": "code",
   "execution_count": 95,
   "metadata": {},
   "outputs": [
    {
     "name": "stdout",
     "output_type": "stream",
     "text": [
      "Spearmans correlation coefficient: 0.196\n",
      "Samples are correlated (reject H0) p=0.000\n"
     ]
    }
   ],
   "source": [
    "# Cardio - BMI correlation\n",
    "coef, p = spearmanr(dfcardio.cardio, dfcardio.bmi)\n",
    "# print (p)\n",
    "alpha = 0.05\n",
    "print('Spearmans correlation coefficient: %.3f' % coef)\n",
    "if p > alpha:\n",
    "    print('Samples are uncorrelated (fail to reject H0) p=%.3f' % p)\n",
    "else:\n",
    "    print('Samples are correlated (reject H0) p=%.3f' % p)"
   ]
  },
  {
   "cell_type": "markdown",
   "metadata": {},
   "source": [
    "### Confirmation of Testing"
   ]
  },
  {
   "cell_type": "code",
   "execution_count": 96,
   "metadata": {},
   "outputs": [
    {
     "data": {
      "text/plain": [
       "0.19604515593176447"
      ]
     },
     "execution_count": 96,
     "metadata": {},
     "output_type": "execute_result"
    }
   ],
   "source": [
    "# Confirm correlation results with Downey's tests from our text\n",
    "\n",
    "def Cov(xs, ys, meanx=None, meany=None):\n",
    "    xs = np.asarray(xs)\n",
    "    ys = np.asarray(ys)\n",
    "\n",
    "    if meanx is None:\n",
    "        meanx = np.mean(xs)\n",
    "    if meany is None:\n",
    "        meany = np.mean(ys)\n",
    "\n",
    "    cov = np.dot(xs-meanx, ys-meany) / len(xs)\n",
    "    return cov\n",
    "def Corr(xs, ys):\n",
    "    xs = np.asarray(xs)\n",
    "    ys = np.asarray(ys)\n",
    "\n",
    "    meanx, varx = thinkstats2.MeanVar(xs)\n",
    "    meany, vary = thinkstats2.MeanVar(ys)\n",
    "\n",
    "    corr = Cov(xs, ys, meanx, meany) / np.sqrt(varx * vary)\n",
    "    return corr\n",
    "def SpearmanCorr(xs, ys):\n",
    "    xranks = pd.Series(xs).rank()\n",
    "    yranks = pd.Series(ys).rank()\n",
    "    return Corr(xranks, yranks)\n",
    "\n",
    "SpearmanCorr(dfcardio.cardio, dfcardio.bmi)"
   ]
  },
  {
   "cell_type": "code",
   "execution_count": 97,
   "metadata": {},
   "outputs": [
    {
     "data": {
      "text/plain": [
       "0.006588375866884432"
      ]
     },
     "execution_count": 97,
     "metadata": {},
     "output_type": "execute_result"
    }
   ],
   "source": [
    "SpearmanCorr(dfcardio.cardio, dfcardio.gender)"
   ]
  },
  {
   "cell_type": "code",
   "execution_count": 98,
   "metadata": {},
   "outputs": [
    {
     "name": "stdout",
     "output_type": "stream",
     "text": [
      "Samples are uncorrelated (fail to reject H0) pvalue=0.087\n"
     ]
    }
   ],
   "source": [
    "class CorrelationPermute(thinkstats2.HypothesisTest):\n",
    "\n",
    "    def TestStatistic(self, data):\n",
    "        xs, ys = data\n",
    "        test_stat = abs(thinkstats2.Corr(xs, ys))\n",
    "        return test_stat\n",
    "\n",
    "    def RunModel(self):\n",
    "        xs, ys = self.data\n",
    "        xs = np.random.permutation(xs)\n",
    "        return xs, ys\n",
    "    \n",
    "# Confirm results with Downey's function from our text\n",
    "# Test gender first\n",
    "data = dfcardio.cardio, dfcardio.gender   \n",
    "ht = CorrelationPermute(data)\n",
    "pvalue = ht.PValue()\n",
    "alpha = 0.05\n",
    "if pvalue > alpha:\n",
    "    print('Samples are uncorrelated (fail to reject H0) pvalue=%.3f' % pvalue)\n",
    "else:\n",
    "    print('Samples are correlated (reject H0) pvalue=%.3f' % pvalue)"
   ]
  },
  {
   "cell_type": "code",
   "execution_count": 99,
   "metadata": {},
   "outputs": [
    {
     "name": "stdout",
     "output_type": "stream",
     "text": [
      "Samples are correlated (reject H0) pvalue=0.000\n"
     ]
    }
   ],
   "source": [
    "# Confirm results with Downey's function from our text\n",
    "data = dfcardio.cardio, dfcardio.bmi   \n",
    "ht = CorrelationPermute(data)\n",
    "pvalue = ht.PValue()\n",
    "alpha = 0.05\n",
    "if pvalue > alpha:\n",
    "    print('Samples are uncorrelated (fail to reject H0) pvalue=%.3f' % pvalue)\n",
    "else:\n",
    "    print('Samples are correlated (reject H0) pvalue=%.3f' % pvalue)"
   ]
  },
  {
   "cell_type": "markdown",
   "metadata": {},
   "source": [
    "### Summary\n",
    "We have sufficient evidence to rule out random chance.  While it is a weak\n",
    "correlation between cardio and bmi discovered in this population, it is safe to assume they are correlated.  We cannot assume the same for gender."
   ]
  },
  {
   "cell_type": "markdown",
   "metadata": {},
   "source": [
    "\n",
    "Biseral Point Correlation is used to measure relationship between a binary and continuous variable.  0 shows now correlation.  (Glen, 2016).\n",
    "\n",
    "Reference:\n",
    "Glen, S. (2016, July 2).  1. What is Point Biserial Correlation?  Retrieved from https://www.statisticshowto.datasciencecentral.com/point-biserial-correlation/\n",
    "\n",
    "\n",
    "Link to Biseral Point Correlation Documenation:  \n",
    "https://docs.scipy.org/doc/scipy-0.14.0/reference/generated/scipy.stats.pointbiserialr.html"
   ]
  },
  {
   "cell_type": "code",
   "execution_count": 100,
   "metadata": {},
   "outputs": [
    {
     "data": {
      "text/plain": [
       "PointbiserialrResult(correlation=0.19012404969092794, pvalue=0.0)"
      ]
     },
     "execution_count": 100,
     "metadata": {},
     "output_type": "execute_result"
    }
   ],
   "source": [
    "stats.pointbiserialr(dfcardio.cardio, dfcardio.bmi)"
   ]
  },
  {
   "cell_type": "markdown",
   "metadata": {},
   "source": [
    "This showed little difference."
   ]
  },
  {
   "cell_type": "markdown",
   "metadata": {},
   "source": [
    "### Is obesity's impact more binary in nature?"
   ]
  },
  {
   "cell_type": "markdown",
   "metadata": {},
   "source": [
    "I wanted to explore the data a little differently at this point.  For this I needed another \n",
    "categorical variable.  If a BMI is over 30 a person is considered obese, I wanted to know if that\n",
    "showed a stronger correlation."
   ]
  },
  {
   "cell_type": "code",
   "execution_count": 101,
   "metadata": {},
   "outputs": [],
   "source": [
    "dfcardio['obese'] = np.where(dfcardio['bmi']>=30, 1, 0)"
   ]
  },
  {
   "cell_type": "code",
   "execution_count": 102,
   "metadata": {},
   "outputs": [
    {
     "data": {
      "text/html": [
       "<div>\n",
       "<style scoped>\n",
       "    .dataframe tbody tr th:only-of-type {\n",
       "        vertical-align: middle;\n",
       "    }\n",
       "\n",
       "    .dataframe tbody tr th {\n",
       "        vertical-align: top;\n",
       "    }\n",
       "\n",
       "    .dataframe thead th {\n",
       "        text-align: right;\n",
       "    }\n",
       "</style>\n",
       "<table border=\"1\" class=\"dataframe\">\n",
       "  <thead>\n",
       "    <tr style=\"text-align: right;\">\n",
       "      <th></th>\n",
       "      <th>age</th>\n",
       "      <th>weight</th>\n",
       "      <th>height</th>\n",
       "      <th>ap_hi</th>\n",
       "      <th>ap_lo</th>\n",
       "      <th>cardio</th>\n",
       "      <th>bmi</th>\n",
       "      <th>obese</th>\n",
       "    </tr>\n",
       "  </thead>\n",
       "  <tbody>\n",
       "    <tr>\n",
       "      <td>age</td>\n",
       "      <td>1.000000</td>\n",
       "      <td>0.042526</td>\n",
       "      <td>-0.056098</td>\n",
       "      <td>0.163396</td>\n",
       "      <td>0.119685</td>\n",
       "      <td>0.192844</td>\n",
       "      <td>0.075570</td>\n",
       "      <td>0.068058</td>\n",
       "    </tr>\n",
       "    <tr>\n",
       "      <td>weight</td>\n",
       "      <td>0.042526</td>\n",
       "      <td>1.000000</td>\n",
       "      <td>0.227033</td>\n",
       "      <td>0.207520</td>\n",
       "      <td>0.193124</td>\n",
       "      <td>0.148534</td>\n",
       "      <td>0.685972</td>\n",
       "      <td>0.552702</td>\n",
       "    </tr>\n",
       "    <tr>\n",
       "      <td>height</td>\n",
       "      <td>-0.056098</td>\n",
       "      <td>0.227033</td>\n",
       "      <td>1.000000</td>\n",
       "      <td>0.016263</td>\n",
       "      <td>0.024596</td>\n",
       "      <td>-0.010372</td>\n",
       "      <td>-0.125694</td>\n",
       "      <td>-0.160734</td>\n",
       "    </tr>\n",
       "    <tr>\n",
       "      <td>ap_hi</td>\n",
       "      <td>0.163396</td>\n",
       "      <td>0.207520</td>\n",
       "      <td>0.016263</td>\n",
       "      <td>1.000000</td>\n",
       "      <td>0.667516</td>\n",
       "      <td>0.401926</td>\n",
       "      <td>0.212729</td>\n",
       "      <td>0.201200</td>\n",
       "    </tr>\n",
       "    <tr>\n",
       "      <td>ap_lo</td>\n",
       "      <td>0.119685</td>\n",
       "      <td>0.193124</td>\n",
       "      <td>0.024596</td>\n",
       "      <td>0.667516</td>\n",
       "      <td>1.000000</td>\n",
       "      <td>0.327988</td>\n",
       "      <td>0.192884</td>\n",
       "      <td>0.182748</td>\n",
       "    </tr>\n",
       "    <tr>\n",
       "      <td>cardio</td>\n",
       "      <td>0.192844</td>\n",
       "      <td>0.148534</td>\n",
       "      <td>-0.010372</td>\n",
       "      <td>0.401926</td>\n",
       "      <td>0.327988</td>\n",
       "      <td>1.000000</td>\n",
       "      <td>0.165115</td>\n",
       "      <td>0.156165</td>\n",
       "    </tr>\n",
       "    <tr>\n",
       "      <td>bmi</td>\n",
       "      <td>0.075570</td>\n",
       "      <td>0.685972</td>\n",
       "      <td>-0.125694</td>\n",
       "      <td>0.212729</td>\n",
       "      <td>0.192884</td>\n",
       "      <td>0.165115</td>\n",
       "      <td>1.000000</td>\n",
       "      <td>0.658633</td>\n",
       "    </tr>\n",
       "    <tr>\n",
       "      <td>obese</td>\n",
       "      <td>0.068058</td>\n",
       "      <td>0.552702</td>\n",
       "      <td>-0.160734</td>\n",
       "      <td>0.201200</td>\n",
       "      <td>0.182748</td>\n",
       "      <td>0.156165</td>\n",
       "      <td>0.658633</td>\n",
       "      <td>1.000000</td>\n",
       "    </tr>\n",
       "  </tbody>\n",
       "</table>\n",
       "</div>"
      ],
      "text/plain": [
       "             age    weight    height     ap_hi     ap_lo    cardio       bmi  \\\n",
       "age     1.000000  0.042526 -0.056098  0.163396  0.119685  0.192844  0.075570   \n",
       "weight  0.042526  1.000000  0.227033  0.207520  0.193124  0.148534  0.685972   \n",
       "height -0.056098  0.227033  1.000000  0.016263  0.024596 -0.010372 -0.125694   \n",
       "ap_hi   0.163396  0.207520  0.016263  1.000000  0.667516  0.401926  0.212729   \n",
       "ap_lo   0.119685  0.193124  0.024596  0.667516  1.000000  0.327988  0.192884   \n",
       "cardio  0.192844  0.148534 -0.010372  0.401926  0.327988  1.000000  0.165115   \n",
       "bmi     0.075570  0.685972 -0.125694  0.212729  0.192884  0.165115  1.000000   \n",
       "obese   0.068058  0.552702 -0.160734  0.201200  0.182748  0.156165  0.658633   \n",
       "\n",
       "           obese  \n",
       "age     0.068058  \n",
       "weight  0.552702  \n",
       "height -0.160734  \n",
       "ap_hi   0.201200  \n",
       "ap_lo   0.182748  \n",
       "cardio  0.156165  \n",
       "bmi     0.658633  \n",
       "obese   1.000000  "
      ]
     },
     "execution_count": 102,
     "metadata": {},
     "output_type": "execute_result"
    }
   ],
   "source": [
    "# Just look at Kendall\n",
    "dfcardio[['age','weight','height','ap_hi','ap_lo','cardio','bmi','obese']].corr(method='kendall')"
   ]
  },
  {
   "cell_type": "code",
   "execution_count": 103,
   "metadata": {},
   "outputs": [
    {
     "data": {
      "text/html": [
       "<div>\n",
       "<style scoped>\n",
       "    .dataframe tbody tr th:only-of-type {\n",
       "        vertical-align: middle;\n",
       "    }\n",
       "\n",
       "    .dataframe tbody tr th {\n",
       "        vertical-align: top;\n",
       "    }\n",
       "\n",
       "    .dataframe thead th {\n",
       "        text-align: right;\n",
       "    }\n",
       "</style>\n",
       "<table border=\"1\" class=\"dataframe\">\n",
       "  <thead>\n",
       "    <tr style=\"text-align: right;\">\n",
       "      <th></th>\n",
       "      <th>age</th>\n",
       "      <th>weight</th>\n",
       "      <th>height</th>\n",
       "      <th>ap_hi</th>\n",
       "      <th>ap_lo</th>\n",
       "      <th>cardio</th>\n",
       "      <th>bmi</th>\n",
       "      <th>obese</th>\n",
       "    </tr>\n",
       "  </thead>\n",
       "  <tbody>\n",
       "    <tr>\n",
       "      <td>age</td>\n",
       "      <td>1.000000</td>\n",
       "      <td>0.055795</td>\n",
       "      <td>-0.086633</td>\n",
       "      <td>0.212319</td>\n",
       "      <td>0.157916</td>\n",
       "      <td>0.239604</td>\n",
       "      <td>0.104315</td>\n",
       "      <td>0.086109</td>\n",
       "    </tr>\n",
       "    <tr>\n",
       "      <td>weight</td>\n",
       "      <td>0.055795</td>\n",
       "      <td>1.000000</td>\n",
       "      <td>0.311475</td>\n",
       "      <td>0.269427</td>\n",
       "      <td>0.252192</td>\n",
       "      <td>0.179381</td>\n",
       "      <td>0.863979</td>\n",
       "      <td>0.678632</td>\n",
       "    </tr>\n",
       "    <tr>\n",
       "      <td>height</td>\n",
       "      <td>-0.086633</td>\n",
       "      <td>0.311475</td>\n",
       "      <td>1.000000</td>\n",
       "      <td>0.017466</td>\n",
       "      <td>0.035276</td>\n",
       "      <td>-0.012304</td>\n",
       "      <td>-0.196987</td>\n",
       "      <td>-0.186360</td>\n",
       "    </tr>\n",
       "    <tr>\n",
       "      <td>ap_hi</td>\n",
       "      <td>0.212319</td>\n",
       "      <td>0.269427</td>\n",
       "      <td>0.017466</td>\n",
       "      <td>1.000000</td>\n",
       "      <td>0.730642</td>\n",
       "      <td>0.432182</td>\n",
       "      <td>0.267735</td>\n",
       "      <td>0.220758</td>\n",
       "    </tr>\n",
       "    <tr>\n",
       "      <td>ap_lo</td>\n",
       "      <td>0.157916</td>\n",
       "      <td>0.252192</td>\n",
       "      <td>0.035276</td>\n",
       "      <td>0.730642</td>\n",
       "      <td>1.000000</td>\n",
       "      <td>0.341772</td>\n",
       "      <td>0.240899</td>\n",
       "      <td>0.197020</td>\n",
       "    </tr>\n",
       "    <tr>\n",
       "      <td>cardio</td>\n",
       "      <td>0.239604</td>\n",
       "      <td>0.179381</td>\n",
       "      <td>-0.012304</td>\n",
       "      <td>0.432182</td>\n",
       "      <td>0.341772</td>\n",
       "      <td>1.000000</td>\n",
       "      <td>0.190124</td>\n",
       "      <td>0.156165</td>\n",
       "    </tr>\n",
       "    <tr>\n",
       "      <td>bmi</td>\n",
       "      <td>0.104315</td>\n",
       "      <td>0.863979</td>\n",
       "      <td>-0.196987</td>\n",
       "      <td>0.267735</td>\n",
       "      <td>0.240899</td>\n",
       "      <td>0.190124</td>\n",
       "      <td>1.000000</td>\n",
       "      <td>0.796627</td>\n",
       "    </tr>\n",
       "    <tr>\n",
       "      <td>obese</td>\n",
       "      <td>0.086109</td>\n",
       "      <td>0.678632</td>\n",
       "      <td>-0.186360</td>\n",
       "      <td>0.220758</td>\n",
       "      <td>0.197020</td>\n",
       "      <td>0.156165</td>\n",
       "      <td>0.796627</td>\n",
       "      <td>1.000000</td>\n",
       "    </tr>\n",
       "  </tbody>\n",
       "</table>\n",
       "</div>"
      ],
      "text/plain": [
       "             age    weight    height     ap_hi     ap_lo    cardio       bmi  \\\n",
       "age     1.000000  0.055795 -0.086633  0.212319  0.157916  0.239604  0.104315   \n",
       "weight  0.055795  1.000000  0.311475  0.269427  0.252192  0.179381  0.863979   \n",
       "height -0.086633  0.311475  1.000000  0.017466  0.035276 -0.012304 -0.196987   \n",
       "ap_hi   0.212319  0.269427  0.017466  1.000000  0.730642  0.432182  0.267735   \n",
       "ap_lo   0.157916  0.252192  0.035276  0.730642  1.000000  0.341772  0.240899   \n",
       "cardio  0.239604  0.179381 -0.012304  0.432182  0.341772  1.000000  0.190124   \n",
       "bmi     0.104315  0.863979 -0.196987  0.267735  0.240899  0.190124  1.000000   \n",
       "obese   0.086109  0.678632 -0.186360  0.220758  0.197020  0.156165  0.796627   \n",
       "\n",
       "           obese  \n",
       "age     0.086109  \n",
       "weight  0.678632  \n",
       "height -0.186360  \n",
       "ap_hi   0.220758  \n",
       "ap_lo   0.197020  \n",
       "cardio  0.156165  \n",
       "bmi     0.796627  \n",
       "obese   1.000000  "
      ]
     },
     "execution_count": 103,
     "metadata": {},
     "output_type": "execute_result"
    }
   ],
   "source": [
    "dfcardio[['age','weight','height','ap_hi','ap_lo','cardio','bmi','obese']].corr(method=\"pearson\")"
   ]
  },
  {
   "cell_type": "markdown",
   "metadata": {},
   "source": [
    "Obesity which is binary actually showed a lower correlation for having a cardiac condition than BMI which is continuous."
   ]
  },
  {
   "cell_type": "markdown",
   "metadata": {},
   "source": [
    "I am going to forgo this testing for now and moving on to comparing males to females with further hypothesis testing.  I will come back to this before completing the hypothesis testing section."
   ]
  },
  {
   "cell_type": "markdown",
   "metadata": {},
   "source": [
    "### Why Hypothesis Testing? ...\n",
    "\n",
    "I took the following quote from Downey found in the text to remind me of the importance of this part of the process.\n",
    "\n",
    "The fundamental question we want to address is whether the effects we see in a sample are likely to appear in the larger population (Downey, 2014, Chapter 9).\n",
    "\n",
    "Reference:\n",
    "Downey, A. (2014).  Think Stats 2e.  Sebastopol, CA: O'Reilly Media Inc\n"
   ]
  },
  {
   "cell_type": "code",
   "execution_count": 104,
   "metadata": {},
   "outputs": [],
   "source": [
    "class DiffMeansPermute(thinkstats2.HypothesisTest):\n",
    "\n",
    "    def TestStatistic(self, data):\n",
    "        group1, group2 = data\n",
    "        test_stat = abs(group1.mean() - group2.mean())\n",
    "        return test_stat\n",
    "\n",
    "    def MakeModel(self):\n",
    "        group1, group2 = self.data\n",
    "        self.n, self.m = len(group1), len(group2)\n",
    "        self.pool = np.hstack((group1, group2))\n",
    "\n",
    "    def RunModel(self):\n",
    "        np.random.shuffle(self.pool)\n",
    "        data = self.pool[:self.n], self.pool[self.n:]\n",
    "        return data"
   ]
  },
  {
   "cell_type": "markdown",
   "metadata": {},
   "source": [
    "### Hypothesis Tests on Gender Grouping Means of BMI and Cardio"
   ]
  },
  {
   "cell_type": "markdown",
   "metadata": {},
   "source": [
    "H0 is that there is no difference in distribution between the male and female group instances of cardio.  \n",
    "H1 is that there is a difference.  \n",
    "If < .05 pvalue there is a difference."
   ]
  },
  {
   "cell_type": "code",
   "execution_count": 105,
   "metadata": {},
   "outputs": [
    {
     "name": "stdout",
     "output_type": "stream",
     "text": [
      "Male/Female cardio pvalue: 0.095\n",
      "Not enough evidence that the means are different (failed to reject HO)\n"
     ]
    }
   ],
   "source": [
    "# Difference of means between 2 groups.\n",
    "data = df_male.cardio, df_female.cardio\n",
    "ht = DiffMeansPermute(data)\n",
    "pvalue = ht.PValue()\n",
    "print(\"Male/Female cardio pvalue: {}\".format(pvalue))\n",
    "alpha = 0.05\n",
    "if pvalue > alpha:\n",
    "    print('Not enough evidence that the means are different (failed to reject HO)' % p)\n",
    "else:\n",
    "    print('Samples have different means (reject HO)' % p)"
   ]
  },
  {
   "cell_type": "code",
   "execution_count": 106,
   "metadata": {},
   "outputs": [
    {
     "name": "stdout",
     "output_type": "stream",
     "text": [
      "Male Mean Cardio 0.49855145484317925  Female Mean Cardio: 0.4916380452106764 Overall Mean Cardio: 0.49404657422034987 \n"
     ]
    }
   ],
   "source": [
    "print (\"Male Mean Cardio {}  Female Mean Cardio: {} Overall Mean Cardio: {} \"\n",
    "       .format(df_male.cardio.mean(),df_female.cardio.mean(),dfcardio.cardio.mean()))"
   ]
  },
  {
   "cell_type": "markdown",
   "metadata": {},
   "source": [
    "Now lets look at BMI,  \n",
    "H0 is that there is no difference in distribution between the male and female group's mean bmi.  \n",
    "H1 is that there is a difference.  \n",
    "If < .05 pvalue there is a difference."
   ]
  },
  {
   "cell_type": "code",
   "execution_count": 107,
   "metadata": {},
   "outputs": [
    {
     "name": "stdout",
     "output_type": "stream",
     "text": [
      "Male/Female cardio pvalue: 0.0\n",
      "Samples have different means (reject HO)\n"
     ]
    }
   ],
   "source": [
    "# DIfference of means between 2 groups\n",
    "data = df_male.bmi, df_female.bmi\n",
    "ht = DiffMeansPermute(data)\n",
    "pvalue = ht.PValue()\n",
    "print(\"Male/Female cardio pvalue: {}\".format(pvalue))\n",
    "alpha = 0.05\n",
    "if pvalue > alpha:\n",
    "    print('Not enough evidence that the means are different (failed to reject HO)' % p)\n",
    "else:\n",
    "    print('Samples have different means (reject HO)' % p)"
   ]
  },
  {
   "cell_type": "code",
   "execution_count": 108,
   "metadata": {},
   "outputs": [
    {
     "name": "stdout",
     "output_type": "stream",
     "text": [
      "Male Mean BMI: 26.638787420749885  Female Mean BMI: 27.85612948122208 Overall Mean BMI: 27.43202562752326 \n"
     ]
    }
   ],
   "source": [
    "print (\"Male Mean BMI: {}  Female Mean BMI: {} Overall Mean BMI: {} \"\n",
    "       .format(df_male.bmi.mean(),df_female.bmi.mean(),dfcardio.bmi.mean()))"
   ]
  },
  {
   "cell_type": "markdown",
   "metadata": {},
   "source": [
    "### Summary\n",
    "Despite the statistical difference in BMI means between males and females there does not seem to be a difference with the mean for cardio disease in the study population.  Since cardio is binary, it is also the probability.  "
   ]
  },
  {
   "cell_type": "markdown",
   "metadata": {},
   "source": [
    "### Chai Square Test of Independence - Relationships\n",
    "Some code examples were taken and  modified from Jason Brownlee's work found at\n",
    "https://machinelearningmastery.com/chi-squared-test-for-machine-learning/"
   ]
  },
  {
   "cell_type": "code",
   "execution_count": 109,
   "metadata": {},
   "outputs": [
    {
     "data": {
      "text/html": [
       "<div>\n",
       "<style scoped>\n",
       "    .dataframe tbody tr th:only-of-type {\n",
       "        vertical-align: middle;\n",
       "    }\n",
       "\n",
       "    .dataframe tbody tr th {\n",
       "        vertical-align: top;\n",
       "    }\n",
       "\n",
       "    .dataframe thead th {\n",
       "        text-align: right;\n",
       "    }\n",
       "</style>\n",
       "<table border=\"1\" class=\"dataframe\">\n",
       "  <thead>\n",
       "    <tr style=\"text-align: right;\">\n",
       "      <th>gender</th>\n",
       "      <th>0</th>\n",
       "      <th>1</th>\n",
       "    </tr>\n",
       "    <tr>\n",
       "      <th>cardio</th>\n",
       "      <th></th>\n",
       "      <th></th>\n",
       "    </tr>\n",
       "  </thead>\n",
       "  <tbody>\n",
       "    <tr>\n",
       "      <td>0</td>\n",
       "      <td>22646</td>\n",
       "      <td>11943</td>\n",
       "    </tr>\n",
       "    <tr>\n",
       "      <td>1</td>\n",
       "      <td>21901</td>\n",
       "      <td>11874</td>\n",
       "    </tr>\n",
       "  </tbody>\n",
       "</table>\n",
       "</div>"
      ],
      "text/plain": [
       "gender      0      1\n",
       "cardio              \n",
       "0       22646  11943\n",
       "1       21901  11874"
      ]
     },
     "execution_count": 109,
     "metadata": {},
     "output_type": "execute_result"
    }
   ],
   "source": [
    "# Chai square test of independence\n",
    "crosstab = pd.crosstab(dfcardio['cardio'], dfcardio['gender'])\n",
    "crosstab"
   ]
  },
  {
   "cell_type": "markdown",
   "metadata": {},
   "source": [
    "H0 is that cardio and gender have no relation.\n",
    "H1 is that there is a relationship."
   ]
  },
  {
   "cell_type": "code",
   "execution_count": 110,
   "metadata": {},
   "outputs": [
    {
     "name": "stdout",
     "output_type": "stream",
     "text": [
      "Independent (fail to reject H0) P-value 0.08641810037170815\n"
     ]
    }
   ],
   "source": [
    "# Chai square test of independence\n",
    "stat, p, dof, expected = chi2_contingency(crosstab)\n",
    "\n",
    "prob = .95\n",
    "alpha = 1.0 - prob\n",
    "if p <= alpha:\n",
    "    print('Dependent (reject H0) P-value: {}' .format(p))\n",
    "else:\n",
    "    print('Independent (fail to reject H0) P-value {}'.format(p))"
   ]
  },
  {
   "cell_type": "markdown",
   "metadata": {},
   "source": [
    "We can not conclude that cardio disease is a dependent variable of gender."
   ]
  },
  {
   "cell_type": "markdown",
   "metadata": {},
   "source": [
    "Since chi square testing is useful for checking independence of categorica data I am going back to my obesity testing."
   ]
  },
  {
   "cell_type": "markdown",
   "metadata": {},
   "source": [
    "H0 is that cardio and obese have no relation.\n",
    "H1 is that there is a relationship."
   ]
  },
  {
   "cell_type": "code",
   "execution_count": 111,
   "metadata": {},
   "outputs": [
    {
     "data": {
      "text/html": [
       "<div>\n",
       "<style scoped>\n",
       "    .dataframe tbody tr th:only-of-type {\n",
       "        vertical-align: middle;\n",
       "    }\n",
       "\n",
       "    .dataframe tbody tr th {\n",
       "        vertical-align: top;\n",
       "    }\n",
       "\n",
       "    .dataframe thead th {\n",
       "        text-align: right;\n",
       "    }\n",
       "</style>\n",
       "<table border=\"1\" class=\"dataframe\">\n",
       "  <thead>\n",
       "    <tr style=\"text-align: right;\">\n",
       "      <th>obese</th>\n",
       "      <th>0</th>\n",
       "      <th>1</th>\n",
       "    </tr>\n",
       "    <tr>\n",
       "      <th>cardio</th>\n",
       "      <th></th>\n",
       "      <th></th>\n",
       "    </tr>\n",
       "  </thead>\n",
       "  <tbody>\n",
       "    <tr>\n",
       "      <td>0</td>\n",
       "      <td>27215</td>\n",
       "      <td>7374</td>\n",
       "    </tr>\n",
       "    <tr>\n",
       "      <td>1</td>\n",
       "      <td>21824</td>\n",
       "      <td>11951</td>\n",
       "    </tr>\n",
       "  </tbody>\n",
       "</table>\n",
       "</div>"
      ],
      "text/plain": [
       "obese       0      1\n",
       "cardio              \n",
       "0       27215   7374\n",
       "1       21824  11951"
      ]
     },
     "execution_count": 111,
     "metadata": {},
     "output_type": "execute_result"
    }
   ],
   "source": [
    "# Chai square test of independence\n",
    "crosstab = pd.crosstab(dfcardio['cardio'], dfcardio['obese'])\n",
    "crosstab\n",
    "# print(type(crosstab))\n",
    "# print(type(dfcardio))"
   ]
  },
  {
   "cell_type": "code",
   "execution_count": 112,
   "metadata": {},
   "outputs": [
    {
     "name": "stdout",
     "output_type": "stream",
     "text": [
      "Dependent (reject H0) P-value: 0.0\n"
     ]
    }
   ],
   "source": [
    "stat, p, dof, expected = chi2_contingency(crosstab)\n",
    "prob = .95\n",
    "alpha = 1.0 - prob\n",
    "if p <= alpha:\n",
    "    print('Dependent (reject H0) P-value: {}' .format(p))\n",
    "else:\n",
    "    print('Independent (fail to reject H0) P-value {}'.format(p))\n"
   ]
  },
  {
   "cell_type": "markdown",
   "metadata": {},
   "source": [
    "### Summary\n",
    "There is a relationship between cardio disease and being obese in this population.  Even though the correlation shown was weak it is still statistically significant.  Interesting, but not as helpful as I had hoped."
   ]
  },
  {
   "cell_type": "markdown",
   "metadata": {},
   "source": [
    "<h1><center>Regression Analysis</center></h1>"
   ]
  },
  {
   "cell_type": "markdown",
   "metadata": {},
   "source": [
    "### Simple"
   ]
  },
  {
   "cell_type": "code",
   "execution_count": 113,
   "metadata": {},
   "outputs": [
    {
     "name": "stdout",
     "output_type": "stream",
     "text": [
      "Optimization terminated successfully.\n",
      "         Current function value: 0.674426\n",
      "         Iterations 5\n"
     ]
    },
    {
     "data": {
      "text/html": [
       "<table class=\"simpletable\">\n",
       "<caption>Logit Regression Results</caption>\n",
       "<tr>\n",
       "  <th>Dep. Variable:</th>        <td>cardio</td>      <th>  No. Observations:  </th>  <td> 68364</td> \n",
       "</tr>\n",
       "<tr>\n",
       "  <th>Model:</th>                 <td>Logit</td>      <th>  Df Residuals:      </th>  <td> 68362</td> \n",
       "</tr>\n",
       "<tr>\n",
       "  <th>Method:</th>                 <td>MLE</td>       <th>  Df Model:          </th>  <td>     1</td> \n",
       "</tr>\n",
       "<tr>\n",
       "  <th>Date:</th>            <td>Fri, 15 Nov 2019</td> <th>  Pseudo R-squ.:     </th>  <td>0.02691</td>\n",
       "</tr>\n",
       "<tr>\n",
       "  <th>Time:</th>                <td>19:45:38</td>     <th>  Log-Likelihood:    </th> <td> -46106.</td>\n",
       "</tr>\n",
       "<tr>\n",
       "  <th>converged:</th>             <td>True</td>       <th>  LL-Null:           </th> <td> -47381.</td>\n",
       "</tr>\n",
       "<tr>\n",
       "  <th>Covariance Type:</th>     <td>nonrobust</td>    <th>  LLR p-value:       </th>  <td> 0.000</td> \n",
       "</tr>\n",
       "</table>\n",
       "<table class=\"simpletable\">\n",
       "<tr>\n",
       "      <td></td>         <th>coef</th>     <th>std err</th>      <th>z</th>      <th>P>|z|</th>  <th>[0.025</th>    <th>0.975]</th>  \n",
       "</tr>\n",
       "<tr>\n",
       "  <th>Intercept</th> <td>   -2.1577</td> <td>    0.045</td> <td>  -48.399</td> <td> 0.000</td> <td>   -2.245</td> <td>   -2.070</td>\n",
       "</tr>\n",
       "<tr>\n",
       "  <th>bmi</th>       <td>    0.0780</td> <td>    0.002</td> <td>   48.415</td> <td> 0.000</td> <td>    0.075</td> <td>    0.081</td>\n",
       "</tr>\n",
       "</table>"
      ],
      "text/plain": [
       "<class 'statsmodels.iolib.summary.Summary'>\n",
       "\"\"\"\n",
       "                           Logit Regression Results                           \n",
       "==============================================================================\n",
       "Dep. Variable:                 cardio   No. Observations:                68364\n",
       "Model:                          Logit   Df Residuals:                    68362\n",
       "Method:                           MLE   Df Model:                            1\n",
       "Date:                Fri, 15 Nov 2019   Pseudo R-squ.:                 0.02691\n",
       "Time:                        19:45:38   Log-Likelihood:                -46106.\n",
       "converged:                       True   LL-Null:                       -47381.\n",
       "Covariance Type:            nonrobust   LLR p-value:                     0.000\n",
       "==============================================================================\n",
       "                 coef    std err          z      P>|z|      [0.025      0.975]\n",
       "------------------------------------------------------------------------------\n",
       "Intercept     -2.1577      0.045    -48.399      0.000      -2.245      -2.070\n",
       "bmi            0.0780      0.002     48.415      0.000       0.075       0.081\n",
       "==============================================================================\n",
       "\"\"\""
      ]
     },
     "execution_count": 113,
     "metadata": {},
     "output_type": "execute_result"
    }
   ],
   "source": [
    "# As you can see bmi alone is not good at predicting heart disease,\n",
    "# which is very much in line with what we saw from the correlation matrix.\n",
    "model = smf.logit('cardio ~ bmi', data=dfcardio)\n",
    "results = model.fit()\n",
    "results.summary()"
   ]
  },
  {
   "cell_type": "code",
   "execution_count": 114,
   "metadata": {},
   "outputs": [
    {
     "name": "stdout",
     "output_type": "stream",
     "text": [
      "              precision    recall  f1-score   support\n",
      "\n",
      "           0       0.58      0.67      0.62     34589\n",
      "           1       0.59      0.49      0.54     33775\n",
      "\n",
      "    accuracy                           0.58     68364\n",
      "   macro avg       0.58      0.58      0.58     68364\n",
      "weighted avg       0.58      0.58      0.58     68364\n",
      "\n"
     ]
    }
   ],
   "source": [
    "actual=dfcardio.cardio\n",
    "predictions = results.predict(dfcardio).round(0)\n",
    "print(classification_report(actual,predictions))"
   ]
  },
  {
   "cell_type": "code",
   "execution_count": 115,
   "metadata": {},
   "outputs": [
    {
     "name": "stdout",
     "output_type": "stream",
     "text": [
      "Accuracy :  0.5823825405184015\n"
     ]
    }
   ],
   "source": [
    "# confirm with another function\n",
    "print (\"Accuracy : \", accuracy_score(actual, predictions))"
   ]
  },
  {
   "cell_type": "code",
   "execution_count": 116,
   "metadata": {},
   "outputs": [
    {
     "name": "stdout",
     "output_type": "stream",
     "text": [
      "Optimization terminated successfully.\n",
      "         Current function value: 0.586105\n",
      "         Iterations 6\n"
     ]
    },
    {
     "data": {
      "text/html": [
       "<table class=\"simpletable\">\n",
       "<caption>Logit Regression Results</caption>\n",
       "<tr>\n",
       "  <th>Dep. Variable:</th>        <td>cardio</td>      <th>  No. Observations:  </th>  <td> 68364</td> \n",
       "</tr>\n",
       "<tr>\n",
       "  <th>Model:</th>                 <td>Logit</td>      <th>  Df Residuals:      </th>  <td> 68362</td> \n",
       "</tr>\n",
       "<tr>\n",
       "  <th>Method:</th>                 <td>MLE</td>       <th>  Df Model:          </th>  <td>     1</td> \n",
       "</tr>\n",
       "<tr>\n",
       "  <th>Date:</th>            <td>Fri, 15 Nov 2019</td> <th>  Pseudo R-squ.:     </th>  <td>0.1543</td> \n",
       "</tr>\n",
       "<tr>\n",
       "  <th>Time:</th>                <td>19:45:38</td>     <th>  Log-Likelihood:    </th> <td> -40069.</td>\n",
       "</tr>\n",
       "<tr>\n",
       "  <th>converged:</th>             <td>True</td>       <th>  LL-Null:           </th> <td> -47381.</td>\n",
       "</tr>\n",
       "<tr>\n",
       "  <th>Covariance Type:</th>     <td>nonrobust</td>    <th>  LLR p-value:       </th>  <td> 0.000</td> \n",
       "</tr>\n",
       "</table>\n",
       "<table class=\"simpletable\">\n",
       "<tr>\n",
       "      <td></td>         <th>coef</th>     <th>std err</th>      <th>z</th>      <th>P>|z|</th>  <th>[0.025</th>    <th>0.975]</th>  \n",
       "</tr>\n",
       "<tr>\n",
       "  <th>Intercept</th> <td>   -8.8711</td> <td>    0.088</td> <td> -101.296</td> <td> 0.000</td> <td>   -9.043</td> <td>   -8.699</td>\n",
       "</tr>\n",
       "<tr>\n",
       "  <th>ap_hi</th>     <td>    0.0703</td> <td>    0.001</td> <td>  100.687</td> <td> 0.000</td> <td>    0.069</td> <td>    0.072</td>\n",
       "</tr>\n",
       "</table>"
      ],
      "text/plain": [
       "<class 'statsmodels.iolib.summary.Summary'>\n",
       "\"\"\"\n",
       "                           Logit Regression Results                           \n",
       "==============================================================================\n",
       "Dep. Variable:                 cardio   No. Observations:                68364\n",
       "Model:                          Logit   Df Residuals:                    68362\n",
       "Method:                           MLE   Df Model:                            1\n",
       "Date:                Fri, 15 Nov 2019   Pseudo R-squ.:                  0.1543\n",
       "Time:                        19:45:38   Log-Likelihood:                -40069.\n",
       "converged:                       True   LL-Null:                       -47381.\n",
       "Covariance Type:            nonrobust   LLR p-value:                     0.000\n",
       "==============================================================================\n",
       "                 coef    std err          z      P>|z|      [0.025      0.975]\n",
       "------------------------------------------------------------------------------\n",
       "Intercept     -8.8711      0.088   -101.296      0.000      -9.043      -8.699\n",
       "ap_hi          0.0703      0.001    100.687      0.000       0.069       0.072\n",
       "==============================================================================\n",
       "\"\"\""
      ]
     },
     "execution_count": 116,
     "metadata": {},
     "output_type": "execute_result"
    }
   ],
   "source": [
    "# Systolic blood pressure seems to give the highest accuracy alone\n",
    "model = smf.logit('cardio ~ ap_hi', data=dfcardio)\n",
    "results = model.fit()\n",
    "results.summary()"
   ]
  },
  {
   "cell_type": "code",
   "execution_count": 117,
   "metadata": {},
   "outputs": [
    {
     "name": "stdout",
     "output_type": "stream",
     "text": [
      "              precision    recall  f1-score   support\n",
      "\n",
      "           0       0.68      0.81      0.74     34589\n",
      "           1       0.76      0.62      0.68     33775\n",
      "\n",
      "    accuracy                           0.71     68364\n",
      "   macro avg       0.72      0.71      0.71     68364\n",
      "weighted avg       0.72      0.71      0.71     68364\n",
      "\n"
     ]
    }
   ],
   "source": [
    "actual=dfcardio.cardio\n",
    "predictions = results.predict(dfcardio).round(0)\n",
    "print(classification_report(actual,predictions))"
   ]
  },
  {
   "cell_type": "code",
   "execution_count": 118,
   "metadata": {},
   "outputs": [
    {
     "name": "stdout",
     "output_type": "stream",
     "text": [
      "              precision    recall  f1-score   support\n",
      "\n",
      "           0       0.68      0.81      0.74     34589\n",
      "           1       0.76      0.62      0.68     33775\n",
      "\n",
      "    accuracy                           0.71     68364\n",
      "   macro avg       0.72      0.71      0.71     68364\n",
      "weighted avg       0.72      0.71      0.71     68364\n",
      "\n"
     ]
    }
   ],
   "source": [
    "actual=dfcardio.cardio\n",
    "predictions = results.predict(dfcardio).round(0)\n",
    "print(classification_report(actual,predictions))"
   ]
  },
  {
   "cell_type": "markdown",
   "metadata": {},
   "source": [
    "### Multiple"
   ]
  },
  {
   "cell_type": "code",
   "execution_count": 119,
   "metadata": {},
   "outputs": [
    {
     "name": "stdout",
     "output_type": "stream",
     "text": [
      "Optimization terminated successfully.\n",
      "         Current function value: 0.569972\n",
      "         Iterations 6\n"
     ]
    },
    {
     "data": {
      "text/html": [
       "<table class=\"simpletable\">\n",
       "<caption>Logit Regression Results</caption>\n",
       "<tr>\n",
       "  <th>Dep. Variable:</th>        <td>cardio</td>      <th>  No. Observations:  </th>  <td> 68364</td> \n",
       "</tr>\n",
       "<tr>\n",
       "  <th>Model:</th>                 <td>Logit</td>      <th>  Df Residuals:      </th>  <td> 68359</td> \n",
       "</tr>\n",
       "<tr>\n",
       "  <th>Method:</th>                 <td>MLE</td>       <th>  Df Model:          </th>  <td>     4</td> \n",
       "</tr>\n",
       "<tr>\n",
       "  <th>Date:</th>            <td>Fri, 15 Nov 2019</td> <th>  Pseudo R-squ.:     </th>  <td>0.1776</td> \n",
       "</tr>\n",
       "<tr>\n",
       "  <th>Time:</th>                <td>19:45:39</td>     <th>  Log-Likelihood:    </th> <td> -38966.</td>\n",
       "</tr>\n",
       "<tr>\n",
       "  <th>converged:</th>             <td>True</td>       <th>  LL-Null:           </th> <td> -47381.</td>\n",
       "</tr>\n",
       "<tr>\n",
       "  <th>Covariance Type:</th>     <td>nonrobust</td>    <th>  LLR p-value:       </th>  <td> 0.000</td> \n",
       "</tr>\n",
       "</table>\n",
       "<table class=\"simpletable\">\n",
       "<tr>\n",
       "         <td></td>           <th>coef</th>     <th>std err</th>      <th>z</th>      <th>P>|z|</th>  <th>[0.025</th>    <th>0.975]</th>  \n",
       "</tr>\n",
       "<tr>\n",
       "  <th>Intercept</th>      <td>  -11.9120</td> <td>    0.115</td> <td> -103.983</td> <td> 0.000</td> <td>  -12.137</td> <td>  -11.688</td>\n",
       "</tr>\n",
       "<tr>\n",
       "  <th>C(gender)[T.1]</th> <td>   -0.0266</td> <td>    0.018</td> <td>   -1.453</td> <td> 0.146</td> <td>   -0.063</td> <td>    0.009</td>\n",
       "</tr>\n",
       "<tr>\n",
       "  <th>bmi</th>            <td>    0.0341</td> <td>    0.002</td> <td>   18.989</td> <td> 0.000</td> <td>    0.031</td> <td>    0.038</td>\n",
       "</tr>\n",
       "<tr>\n",
       "  <th>ap_hi</th>          <td>    0.0638</td> <td>    0.001</td> <td>   89.368</td> <td> 0.000</td> <td>    0.062</td> <td>    0.065</td>\n",
       "</tr>\n",
       "<tr>\n",
       "  <th>age</th>            <td>    0.0002</td> <td> 3.65e-06</td> <td>   41.115</td> <td> 0.000</td> <td>    0.000</td> <td>    0.000</td>\n",
       "</tr>\n",
       "</table>"
      ],
      "text/plain": [
       "<class 'statsmodels.iolib.summary.Summary'>\n",
       "\"\"\"\n",
       "                           Logit Regression Results                           \n",
       "==============================================================================\n",
       "Dep. Variable:                 cardio   No. Observations:                68364\n",
       "Model:                          Logit   Df Residuals:                    68359\n",
       "Method:                           MLE   Df Model:                            4\n",
       "Date:                Fri, 15 Nov 2019   Pseudo R-squ.:                  0.1776\n",
       "Time:                        19:45:39   Log-Likelihood:                -38966.\n",
       "converged:                       True   LL-Null:                       -47381.\n",
       "Covariance Type:            nonrobust   LLR p-value:                     0.000\n",
       "==================================================================================\n",
       "                     coef    std err          z      P>|z|      [0.025      0.975]\n",
       "----------------------------------------------------------------------------------\n",
       "Intercept        -11.9120      0.115   -103.983      0.000     -12.137     -11.688\n",
       "C(gender)[T.1]    -0.0266      0.018     -1.453      0.146      -0.063       0.009\n",
       "bmi                0.0341      0.002     18.989      0.000       0.031       0.038\n",
       "ap_hi              0.0638      0.001     89.368      0.000       0.062       0.065\n",
       "age                0.0002   3.65e-06     41.115      0.000       0.000       0.000\n",
       "==================================================================================\n",
       "\"\"\""
      ]
     },
     "execution_count": 119,
     "metadata": {},
     "output_type": "execute_result"
    }
   ],
   "source": [
    "# the pseudo R^2 is not particularly high but I wanted to \n",
    "# look at accuracy as well \n",
    "# I am worry about overfit with this model, \n",
    "# but it did provide the highest value that I found manually. \n",
    "# Gender providing a higher score was also surprising given the \n",
    "# hypothesis testing.\n",
    "model = smf.logit('cardio ~ bmi + ap_hi + age + C(gender)', data=dfcardio)\n",
    "results = model.fit()\n",
    "results.summary()"
   ]
  },
  {
   "cell_type": "code",
   "execution_count": 120,
   "metadata": {},
   "outputs": [
    {
     "name": "stdout",
     "output_type": "stream",
     "text": [
      "[[27866  6723]\n",
      " [12939 20836]]\n"
     ]
    }
   ],
   "source": [
    "print(confusion_matrix(actual, predictions))"
   ]
  },
  {
   "cell_type": "code",
   "execution_count": 121,
   "metadata": {},
   "outputs": [
    {
     "name": "stdout",
     "output_type": "stream",
     "text": [
      "Coefficeients :\n",
      "Intercept        -11.912034\n",
      "C(gender)[T.1]    -0.026641\n",
      "bmi                0.034137\n",
      "ap_hi              0.063849\n",
      "age                0.000150\n",
      "dtype: float64\n",
      "\n",
      "p-Values: \n",
      "Intercept         0.000000e+00\n",
      "C(gender)[T.1]    1.461996e-01\n",
      "bmi               2.114632e-80\n",
      "ap_hi             0.000000e+00\n",
      "age               0.000000e+00\n",
      "dtype: float64\n",
      "\n"
     ]
    }
   ],
   "source": [
    "print(\"Coefficeients :\\n{}\" .format(results.params) )\n",
    "\n",
    "print(\"\\np-Values: \\n{}\\n\" .format(results.pvalues))\n"
   ]
  },
  {
   "cell_type": "markdown",
   "metadata": {},
   "source": [
    "### Sklearn LogisticRegression Function "
   ]
  },
  {
   "cell_type": "markdown",
   "metadata": {},
   "source": [
    "### Multiple\n",
    "\n",
    "These proved to have the same accuracy as the models that I found above."
   ]
  },
  {
   "cell_type": "code",
   "execution_count": 122,
   "metadata": {},
   "outputs": [],
   "source": [
    "# Split training data split 70-30 multiple\n",
    "\n",
    "dfmodel = dfcardio.drop('id',axis=1)\n",
    "\n",
    "X_train, X_test, y_train, y_test = train_test_split(dfmodel.drop('cardio',axis=1),\n",
    "           dfmodel['cardio'], test_size=0.30, \n",
    "            random_state=100000)"
   ]
  },
  {
   "cell_type": "code",
   "execution_count": 123,
   "metadata": {},
   "outputs": [
    {
     "data": {
      "text/html": [
       "<div>\n",
       "<style scoped>\n",
       "    .dataframe tbody tr th:only-of-type {\n",
       "        vertical-align: middle;\n",
       "    }\n",
       "\n",
       "    .dataframe tbody tr th {\n",
       "        vertical-align: top;\n",
       "    }\n",
       "\n",
       "    .dataframe thead th {\n",
       "        text-align: right;\n",
       "    }\n",
       "</style>\n",
       "<table border=\"1\" class=\"dataframe\">\n",
       "  <thead>\n",
       "    <tr style=\"text-align: right;\">\n",
       "      <th></th>\n",
       "      <th>age</th>\n",
       "      <th>gender</th>\n",
       "      <th>height</th>\n",
       "      <th>weight</th>\n",
       "      <th>ap_hi</th>\n",
       "      <th>ap_lo</th>\n",
       "      <th>cholesterol</th>\n",
       "      <th>gluc</th>\n",
       "      <th>smoke</th>\n",
       "      <th>alco</th>\n",
       "      <th>active</th>\n",
       "      <th>cardio</th>\n",
       "      <th>bmi</th>\n",
       "      <th>obese</th>\n",
       "    </tr>\n",
       "  </thead>\n",
       "  <tbody>\n",
       "    <tr>\n",
       "      <td>0</td>\n",
       "      <td>18393</td>\n",
       "      <td>1</td>\n",
       "      <td>168</td>\n",
       "      <td>62.0</td>\n",
       "      <td>110</td>\n",
       "      <td>80</td>\n",
       "      <td>0</td>\n",
       "      <td>1</td>\n",
       "      <td>0</td>\n",
       "      <td>0</td>\n",
       "      <td>1</td>\n",
       "      <td>0</td>\n",
       "      <td>22.0</td>\n",
       "      <td>0</td>\n",
       "    </tr>\n",
       "    <tr>\n",
       "      <td>1</td>\n",
       "      <td>20228</td>\n",
       "      <td>0</td>\n",
       "      <td>156</td>\n",
       "      <td>85.0</td>\n",
       "      <td>140</td>\n",
       "      <td>90</td>\n",
       "      <td>2</td>\n",
       "      <td>1</td>\n",
       "      <td>0</td>\n",
       "      <td>0</td>\n",
       "      <td>1</td>\n",
       "      <td>1</td>\n",
       "      <td>35.0</td>\n",
       "      <td>1</td>\n",
       "    </tr>\n",
       "    <tr>\n",
       "      <td>2</td>\n",
       "      <td>18857</td>\n",
       "      <td>0</td>\n",
       "      <td>165</td>\n",
       "      <td>64.0</td>\n",
       "      <td>130</td>\n",
       "      <td>70</td>\n",
       "      <td>2</td>\n",
       "      <td>1</td>\n",
       "      <td>0</td>\n",
       "      <td>0</td>\n",
       "      <td>0</td>\n",
       "      <td>1</td>\n",
       "      <td>24.0</td>\n",
       "      <td>0</td>\n",
       "    </tr>\n",
       "    <tr>\n",
       "      <td>3</td>\n",
       "      <td>17623</td>\n",
       "      <td>1</td>\n",
       "      <td>169</td>\n",
       "      <td>82.0</td>\n",
       "      <td>150</td>\n",
       "      <td>100</td>\n",
       "      <td>0</td>\n",
       "      <td>1</td>\n",
       "      <td>0</td>\n",
       "      <td>0</td>\n",
       "      <td>1</td>\n",
       "      <td>1</td>\n",
       "      <td>29.0</td>\n",
       "      <td>0</td>\n",
       "    </tr>\n",
       "    <tr>\n",
       "      <td>4</td>\n",
       "      <td>17474</td>\n",
       "      <td>0</td>\n",
       "      <td>156</td>\n",
       "      <td>56.0</td>\n",
       "      <td>100</td>\n",
       "      <td>60</td>\n",
       "      <td>0</td>\n",
       "      <td>1</td>\n",
       "      <td>0</td>\n",
       "      <td>0</td>\n",
       "      <td>0</td>\n",
       "      <td>0</td>\n",
       "      <td>23.0</td>\n",
       "      <td>0</td>\n",
       "    </tr>\n",
       "    <tr>\n",
       "      <td>...</td>\n",
       "      <td>...</td>\n",
       "      <td>...</td>\n",
       "      <td>...</td>\n",
       "      <td>...</td>\n",
       "      <td>...</td>\n",
       "      <td>...</td>\n",
       "      <td>...</td>\n",
       "      <td>...</td>\n",
       "      <td>...</td>\n",
       "      <td>...</td>\n",
       "      <td>...</td>\n",
       "      <td>...</td>\n",
       "      <td>...</td>\n",
       "      <td>...</td>\n",
       "    </tr>\n",
       "    <tr>\n",
       "      <td>69995</td>\n",
       "      <td>19240</td>\n",
       "      <td>1</td>\n",
       "      <td>168</td>\n",
       "      <td>76.0</td>\n",
       "      <td>120</td>\n",
       "      <td>80</td>\n",
       "      <td>0</td>\n",
       "      <td>1</td>\n",
       "      <td>1</td>\n",
       "      <td>0</td>\n",
       "      <td>1</td>\n",
       "      <td>0</td>\n",
       "      <td>27.0</td>\n",
       "      <td>0</td>\n",
       "    </tr>\n",
       "    <tr>\n",
       "      <td>69996</td>\n",
       "      <td>22601</td>\n",
       "      <td>0</td>\n",
       "      <td>158</td>\n",
       "      <td>126.0</td>\n",
       "      <td>140</td>\n",
       "      <td>90</td>\n",
       "      <td>1</td>\n",
       "      <td>2</td>\n",
       "      <td>0</td>\n",
       "      <td>0</td>\n",
       "      <td>1</td>\n",
       "      <td>1</td>\n",
       "      <td>50.0</td>\n",
       "      <td>1</td>\n",
       "    </tr>\n",
       "    <tr>\n",
       "      <td>69997</td>\n",
       "      <td>19066</td>\n",
       "      <td>1</td>\n",
       "      <td>183</td>\n",
       "      <td>105.0</td>\n",
       "      <td>180</td>\n",
       "      <td>90</td>\n",
       "      <td>2</td>\n",
       "      <td>1</td>\n",
       "      <td>0</td>\n",
       "      <td>1</td>\n",
       "      <td>0</td>\n",
       "      <td>1</td>\n",
       "      <td>31.0</td>\n",
       "      <td>1</td>\n",
       "    </tr>\n",
       "    <tr>\n",
       "      <td>69998</td>\n",
       "      <td>22431</td>\n",
       "      <td>0</td>\n",
       "      <td>163</td>\n",
       "      <td>72.0</td>\n",
       "      <td>135</td>\n",
       "      <td>80</td>\n",
       "      <td>0</td>\n",
       "      <td>2</td>\n",
       "      <td>0</td>\n",
       "      <td>0</td>\n",
       "      <td>0</td>\n",
       "      <td>1</td>\n",
       "      <td>27.0</td>\n",
       "      <td>0</td>\n",
       "    </tr>\n",
       "    <tr>\n",
       "      <td>69999</td>\n",
       "      <td>20540</td>\n",
       "      <td>0</td>\n",
       "      <td>170</td>\n",
       "      <td>72.0</td>\n",
       "      <td>120</td>\n",
       "      <td>80</td>\n",
       "      <td>1</td>\n",
       "      <td>1</td>\n",
       "      <td>0</td>\n",
       "      <td>0</td>\n",
       "      <td>1</td>\n",
       "      <td>0</td>\n",
       "      <td>25.0</td>\n",
       "      <td>0</td>\n",
       "    </tr>\n",
       "  </tbody>\n",
       "</table>\n",
       "<p>68364 rows × 14 columns</p>\n",
       "</div>"
      ],
      "text/plain": [
       "         age  gender  height  weight  ap_hi  ap_lo  cholesterol  gluc  smoke  \\\n",
       "0      18393       1     168    62.0    110     80            0     1      0   \n",
       "1      20228       0     156    85.0    140     90            2     1      0   \n",
       "2      18857       0     165    64.0    130     70            2     1      0   \n",
       "3      17623       1     169    82.0    150    100            0     1      0   \n",
       "4      17474       0     156    56.0    100     60            0     1      0   \n",
       "...      ...     ...     ...     ...    ...    ...          ...   ...    ...   \n",
       "69995  19240       1     168    76.0    120     80            0     1      1   \n",
       "69996  22601       0     158   126.0    140     90            1     2      0   \n",
       "69997  19066       1     183   105.0    180     90            2     1      0   \n",
       "69998  22431       0     163    72.0    135     80            0     2      0   \n",
       "69999  20540       0     170    72.0    120     80            1     1      0   \n",
       "\n",
       "       alco  active  cardio   bmi  obese  \n",
       "0         0       1       0  22.0      0  \n",
       "1         0       1       1  35.0      1  \n",
       "2         0       0       1  24.0      0  \n",
       "3         0       1       1  29.0      0  \n",
       "4         0       0       0  23.0      0  \n",
       "...     ...     ...     ...   ...    ...  \n",
       "69995     0       1       0  27.0      0  \n",
       "69996     0       1       1  50.0      1  \n",
       "69997     1       0       1  31.0      1  \n",
       "69998     0       0       1  27.0      0  \n",
       "69999     0       1       0  25.0      0  \n",
       "\n",
       "[68364 rows x 14 columns]"
      ]
     },
     "execution_count": 123,
     "metadata": {},
     "output_type": "execute_result"
    }
   ],
   "source": [
    "# Shows all variables evaluated.\n",
    "dfmodel "
   ]
  },
  {
   "cell_type": "code",
   "execution_count": 124,
   "metadata": {},
   "outputs": [
    {
     "data": {
      "text/plain": [
       "LogisticRegression(C=1.0, class_weight=None, dual=False, fit_intercept=True,\n",
       "                   intercept_scaling=1, l1_ratio=None, max_iter=10000,\n",
       "                   multi_class='warn', n_jobs=None, penalty='l2',\n",
       "                   random_state=None, solver='lbfgs', tol=0.0001, verbose=0,\n",
       "                   warm_start=False)"
      ]
     },
     "execution_count": 124,
     "metadata": {},
     "output_type": "execute_result"
    }
   ],
   "source": [
    "# train model\n",
    "logmodel = LogisticRegression(solver='lbfgs',max_iter=10000)\n",
    "logmodel.fit(X_train, y_train)"
   ]
  },
  {
   "cell_type": "code",
   "execution_count": 125,
   "metadata": {},
   "outputs": [],
   "source": [
    "# make predictions\n",
    "predictions = logmodel.predict(X_test)"
   ]
  },
  {
   "cell_type": "code",
   "execution_count": 126,
   "metadata": {},
   "outputs": [
    {
     "name": "stdout",
     "output_type": "stream",
     "text": [
      "              precision    recall  f1-score   support\n",
      "\n",
      "           0       0.70      0.78      0.74     10366\n",
      "           1       0.74      0.66      0.70     10144\n",
      "\n",
      "    accuracy                           0.72     20510\n",
      "   macro avg       0.72      0.72      0.72     20510\n",
      "weighted avg       0.72      0.72      0.72     20510\n",
      "\n"
     ]
    }
   ],
   "source": [
    "# report matrix\n",
    "print(classification_report(y_test,predictions))"
   ]
  },
  {
   "cell_type": "code",
   "execution_count": 127,
   "metadata": {},
   "outputs": [
    {
     "name": "stdout",
     "output_type": "stream",
     "text": [
      "[[8043 2323]\n",
      " [3467 6677]]\n"
     ]
    }
   ],
   "source": [
    "# print confusion matrix\n",
    "print(confusion_matrix(y_test, predictions))"
   ]
  },
  {
   "cell_type": "markdown",
   "metadata": {},
   "source": [
    "Created Roc Curve using code modeled after Susan Li found at \n",
    "https://towardsdatascience.com/building-a-logistic-regression-in-python-step-by-step-becd4d56c9c8"
   ]
  },
  {
   "cell_type": "code",
   "execution_count": 128,
   "metadata": {},
   "outputs": [
    {
     "data": {
      "image/png": "[encoded data removed]",
      "text/plain": [
       "<Figure size 432x288 with 1 Axes>"
      ]
     },
     "metadata": {},
     "output_type": "display_data"
    }
   ],
   "source": [
    "# ROC Curve to visualize results of false/true positives \n",
    "logit_roc_auc = roc_auc_score(y_test, logmodel.predict(X_test))\n",
    "fpr, tpr, thresholds = roc_curve(y_test, logmodel.predict_proba(X_test)[:,1])\n",
    "plt.figure()\n",
    "plt.plot(fpr, tpr, label='Logistic Regression (area = %0.2f)' % logit_roc_auc)\n",
    "plt.plot([0, 1], [0, 1],'r--')\n",
    "plt.xlim([0.0, 1.0])\n",
    "plt.ylim([0.0, 1.05])\n",
    "plt.xlabel('False +')\n",
    "plt.ylabel('True +')\n",
    "plt.title('Receiver Operating Characteristic - ROC with multiple variables')\n",
    "plt.legend(loc=\"lower right\")\n",
    "plt.savefig('Log_ROC')\n",
    "plt.show()"
   ]
  },
  {
   "cell_type": "markdown",
   "metadata": {},
   "source": [
    "### Simple using just ap_hi or systolic"
   ]
  },
  {
   "cell_type": "code",
   "execution_count": 129,
   "metadata": {},
   "outputs": [
    {
     "name": "stdout",
     "output_type": "stream",
     "text": [
      "              precision    recall  f1-score   support\n",
      "\n",
      "           0       0.68      0.80      0.74     10366\n",
      "           1       0.75      0.61      0.68     10144\n",
      "\n",
      "    accuracy                           0.71     20510\n",
      "   macro avg       0.72      0.71      0.71     20510\n",
      "weighted avg       0.72      0.71      0.71     20510\n",
      "\n"
     ]
    }
   ],
   "source": [
    "# Just use ap_hi - single variable\n",
    "dfmodel = dfcardio[['cardio','ap_hi']]\n",
    "    \n",
    "X_train, X_test, y_train, y_test = train_test_split(dfmodel.drop('cardio',axis=1),\n",
    "           dfmodel['cardio'], test_size=0.30, \n",
    "            random_state=100000)\n",
    "# train model\n",
    "logmodel = LogisticRegression(solver='lbfgs',max_iter=10000)\n",
    "logmodel.fit(X_train, y_train)\n",
    "\n",
    "# make predictions\n",
    "predictions = logmodel.predict(X_test)\n",
    "# report matrix\n",
    "print(classification_report(y_test,predictions))"
   ]
  },
  {
   "cell_type": "code",
   "execution_count": 130,
   "metadata": {},
   "outputs": [
    {
     "data": {
      "image/png": "[encoded data removed]",
      "text/plain": [
       "<Figure size 432x288 with 1 Axes>"
      ]
     },
     "metadata": {},
     "output_type": "display_data"
    }
   ],
   "source": [
    "# ROC Curve to visualize results of false/true positives \n",
    "logit_roc_auc = roc_auc_score(y_test, logmodel.predict(X_test))\n",
    "fpr, tpr, thresholds = roc_curve(y_test, logmodel.predict_proba(X_test)[:,1])\n",
    "plt.figure()\n",
    "plt.plot(fpr, tpr, label='Logistic Regression (area = %0.2f)' % logit_roc_auc)\n",
    "plt.plot([0, 1], [0, 1],'r--')\n",
    "plt.xlim([0.0, 1.0])\n",
    "plt.ylim([0.0, 1.05])\n",
    "plt.xlabel('False +')\n",
    "plt.ylabel('True +')\n",
    "plt.title('Receiver Operating Characteristic - ROC with single variable ap_hi')\n",
    "plt.legend(loc=\"lower right\")\n",
    "plt.savefig('Log_ROC')\n",
    "plt.show()"
   ]
  },
  {
   "cell_type": "markdown",
   "metadata": {},
   "source": [
    "### Analysis and Concerns of Overfit"
   ]
  },
  {
   "cell_type": "markdown",
   "metadata": {},
   "source": [
    "I think giving it all of the variables may overfit the model.  I prefer the slightly less accurate, but more elegant simplicity of the ap_hi model alone.  Both models show about a 70% ability to distinguish between positive and negative.  Just using ap_hi is almost as useful as the larger set of variables."
   ]
  }
 ],
 "metadata": {
  "kernelspec": {
   "display_name": "Python 3",
   "language": "python",
   "name": "python3"
  },
  "language_info": {
   "codemirror_mode": {
    "name": "ipython",
    "version": 3
   },
   "file_extension": ".py",
   "mimetype": "text/x-python",
   "name": "python",
   "nbconvert_exporter": "python",
   "pygments_lexer": "ipython3",
   "version": "3.7.4"
  }
 },
 "nbformat": 4,
 "nbformat_minor": 2
}
